{
 "cells": [
  {
   "cell_type": "markdown",
   "metadata": {},
   "source": [
    "## Text Embedding"
   ]
  },
  {
   "cell_type": "markdown",
   "metadata": {},
   "source": [
    "### Imports"
   ]
  },
  {
   "cell_type": "code",
   "execution_count": 1,
   "metadata": {},
   "outputs": [],
   "source": [
    "from sentence_transformers import SentenceTransformer\n",
    "import pandas as pd\n",
    "import numpy as np"
   ]
  },
  {
   "cell_type": "markdown",
   "metadata": {},
   "source": [
    "### Setup data and models"
   ]
  },
  {
   "cell_type": "markdown",
   "metadata": {},
   "source": [
    "`all-MiniLM-L6-v2` is small, fast, and good for many use-cases in text embedding"
   ]
  },
  {
   "cell_type": "code",
   "execution_count": 2,
   "metadata": {},
   "outputs": [],
   "source": [
    "model = SentenceTransformer('all-MiniLM-L6-v2')"
   ]
  },
  {
   "cell_type": "markdown",
   "metadata": {},
   "source": [
    "`reviews` and `items` are imported"
   ]
  },
  {
   "cell_type": "code",
   "execution_count": 3,
   "metadata": {},
   "outputs": [],
   "source": [
    "reviews = pd.read_csv('../datasets/slimmed/reviews.csv')\n",
    "items = pd.read_csv('../datasets/slimmed/items.csv')"
   ]
  },
  {
   "cell_type": "markdown",
   "metadata": {},
   "source": [
    "We will want to put the reviews for a particular item with the item"
   ]
  },
  {
   "cell_type": "code",
   "execution_count": 32,
   "metadata": {},
   "outputs": [
    {
     "data": {
      "text/html": [
       "<div>\n",
       "<style scoped>\n",
       "    .dataframe tbody tr th:only-of-type {\n",
       "        vertical-align: middle;\n",
       "    }\n",
       "\n",
       "    .dataframe tbody tr th {\n",
       "        vertical-align: top;\n",
       "    }\n",
       "\n",
       "    .dataframe thead th {\n",
       "        text-align: right;\n",
       "    }\n",
       "</style>\n",
       "<table border=\"1\" class=\"dataframe\">\n",
       "  <thead>\n",
       "    <tr style=\"text-align: right;\">\n",
       "      <th></th>\n",
       "      <th>parent_asin</th>\n",
       "      <th>text</th>\n",
       "    </tr>\n",
       "  </thead>\n",
       "  <tbody>\n",
       "    <tr>\n",
       "      <th>0</th>\n",
       "      <td>B07DK1H3H5</td>\n",
       "      <td>I’m playing on ps5 and it’s interesting.  It’s...</td>\n",
       "    </tr>\n",
       "    <tr>\n",
       "      <th>1</th>\n",
       "      <td>B07SRWRH5D</td>\n",
       "      <td>Nostalgic fun.  A bit slow.  I hope they don’t...</td>\n",
       "    </tr>\n",
       "    <tr>\n",
       "      <th>2</th>\n",
       "      <td>B07MFMFW34</td>\n",
       "      <td>This was an order for my kids &amp; they have real...</td>\n",
       "    </tr>\n",
       "    <tr>\n",
       "      <th>3</th>\n",
       "      <td>B0BCHWZX95</td>\n",
       "      <td>These work great, They use batteries which is ...</td>\n",
       "    </tr>\n",
       "    <tr>\n",
       "      <th>4</th>\n",
       "      <td>B00HUWA45W</td>\n",
       "      <td>I would recommend to anyone looking to add jus...</td>\n",
       "    </tr>\n",
       "  </tbody>\n",
       "</table>\n",
       "</div>"
      ],
      "text/plain": [
       "  parent_asin                                               text\n",
       "0  B07DK1H3H5  I’m playing on ps5 and it’s interesting.  It’s...\n",
       "1  B07SRWRH5D  Nostalgic fun.  A bit slow.  I hope they don’t...\n",
       "2  B07MFMFW34  This was an order for my kids & they have real...\n",
       "3  B0BCHWZX95  These work great, They use batteries which is ...\n",
       "4  B00HUWA45W  I would recommend to anyone looking to add jus..."
      ]
     },
     "execution_count": 32,
     "metadata": {},
     "output_type": "execute_result"
    }
   ],
   "source": [
    "reviews[['parent_asin', 'text']].head()"
   ]
  },
  {
   "cell_type": "markdown",
   "metadata": {},
   "source": [
    "Group reviews by `parent_asin` (product ID) and aggregate them into a panda Series "
   ]
  },
  {
   "cell_type": "code",
   "execution_count": 7,
   "metadata": {},
   "outputs": [],
   "source": [
    "grouped_texts = (\n",
    "    reviews\n",
    "    .groupby('parent_asin')['text']\n",
    "    .agg(lambda x: ' '.join(x.dropna()))\n",
    ")\n",
    "\n",
    "asin_to_text = pd.Series(grouped_texts)"
   ]
  },
  {
   "cell_type": "markdown",
   "metadata": {},
   "source": [
    "A combined DataFrame of items with the review texts are created (merged on `parent_asin` which is unique for each item)"
   ]
  },
  {
   "cell_type": "code",
   "execution_count": null,
   "metadata": {},
   "outputs": [
    {
     "data": {
      "text/html": [
       "<div>\n",
       "<style scoped>\n",
       "    .dataframe tbody tr th:only-of-type {\n",
       "        vertical-align: middle;\n",
       "    }\n",
       "\n",
       "    .dataframe tbody tr th {\n",
       "        vertical-align: top;\n",
       "    }\n",
       "\n",
       "    .dataframe thead th {\n",
       "        text-align: right;\n",
       "    }\n",
       "</style>\n",
       "<table border=\"1\" class=\"dataframe\">\n",
       "  <thead>\n",
       "    <tr style=\"text-align: right;\">\n",
       "      <th></th>\n",
       "      <th>title</th>\n",
       "      <th>features</th>\n",
       "      <th>description</th>\n",
       "      <th>videos</th>\n",
       "      <th>details</th>\n",
       "      <th>images</th>\n",
       "      <th>parent_asin</th>\n",
       "      <th>categories</th>\n",
       "      <th>average_rating</th>\n",
       "      <th>rating_number</th>\n",
       "      <th>main_category</th>\n",
       "      <th>store</th>\n",
       "      <th>price</th>\n",
       "      <th>text</th>\n",
       "    </tr>\n",
       "  </thead>\n",
       "  <tbody>\n",
       "    <tr>\n",
       "      <th>0</th>\n",
       "      <td>Phantasmagoria: A Puzzle of Flesh</td>\n",
       "      <td>['Windows 95']</td>\n",
       "      <td>[]</td>\n",
       "      <td>[]</td>\n",
       "      <td>{'Best Sellers Rank': {'Video Games': 137612, ...</td>\n",
       "      <td>[{'thumb': 'https://m.media-amazon.com/images/...</td>\n",
       "      <td>B00069EVOG</td>\n",
       "      <td>['Video Games', 'PC', 'Games']</td>\n",
       "      <td>4.1</td>\n",
       "      <td>18</td>\n",
       "      <td>Video Games</td>\n",
       "      <td>Sierra</td>\n",
       "      <td>NaN</td>\n",
       "      <td>Came missing one disk which makes the game tot...</td>\n",
       "    </tr>\n",
       "    <tr>\n",
       "      <th>1</th>\n",
       "      <td>NBA 2K17 - Early Tip Off Edition - PlayStation 4</td>\n",
       "      <td>['The #1 rated NBA video game simulation serie...</td>\n",
       "      <td>['Following the record-breaking launch of NBA ...</td>\n",
       "      <td>[{'title': 'NBA 2K17 - Kobe: Haters vs Players...</td>\n",
       "      <td>{'Release date': 'September 16, 2016', 'Best S...</td>\n",
       "      <td>[{'thumb': 'https://m.media-amazon.com/images/...</td>\n",
       "      <td>B00Z9TLVK0</td>\n",
       "      <td>['Video Games', 'PlayStation 4', 'Games']</td>\n",
       "      <td>4.3</td>\n",
       "      <td>223</td>\n",
       "      <td>Video Games</td>\n",
       "      <td>2K</td>\n",
       "      <td>58.0</td>\n",
       "      <td>My child love getting this for his birthday. G...</td>\n",
       "    </tr>\n",
       "    <tr>\n",
       "      <th>2</th>\n",
       "      <td>Nintendo Selects: The Legend of Zelda Ocarina ...</td>\n",
       "      <td>['Authentic Nintendo Selects: The Legend of Ze...</td>\n",
       "      <td>[]</td>\n",
       "      <td>[]</td>\n",
       "      <td>{'Best Sellers Rank': {'Video Games': 51019, '...</td>\n",
       "      <td>[{'thumb': 'https://m.media-amazon.com/images/...</td>\n",
       "      <td>B07SZJZV88</td>\n",
       "      <td>['Video Games', 'Legacy Systems', 'Nintendo Sy...</td>\n",
       "      <td>4.9</td>\n",
       "      <td>22</td>\n",
       "      <td>Video Games</td>\n",
       "      <td>Amazon Renewed</td>\n",
       "      <td>37.42</td>\n",
       "      <td>Great game for 7 year olds. My son loves it No...</td>\n",
       "    </tr>\n",
       "    <tr>\n",
       "      <th>3</th>\n",
       "      <td>Spongebob Squarepants, Vol. 1</td>\n",
       "      <td>['Bubblestand: SpongeBob shows Patrick and Squ...</td>\n",
       "      <td>['Now you can watch the wild underwater antics...</td>\n",
       "      <td>[]</td>\n",
       "      <td>{'Release date': 'August 15, 2004', 'Best Sell...</td>\n",
       "      <td>[{'thumb': 'https://m.media-amazon.com/images/...</td>\n",
       "      <td>B0001ZNU56</td>\n",
       "      <td>['Video Games', 'Legacy Systems', 'Nintendo Sy...</td>\n",
       "      <td>4.4</td>\n",
       "      <td>32</td>\n",
       "      <td>Video Games</td>\n",
       "      <td>Majesco</td>\n",
       "      <td>33.98</td>\n",
       "      <td>Great condition and very clean. Once again, i'...</td>\n",
       "    </tr>\n",
       "    <tr>\n",
       "      <th>4</th>\n",
       "      <td>eXtremeRate Soft Touch Top Shell Front Housing...</td>\n",
       "      <td>['Compatibility Models: Ultra fits for Xbox On...</td>\n",
       "      <td>[]</td>\n",
       "      <td>[]</td>\n",
       "      <td>{'Best Sellers Rank': {'Video Games': 48130, '...</td>\n",
       "      <td>[{'thumb': 'https://m.media-amazon.com/images/...</td>\n",
       "      <td>B07H93H878</td>\n",
       "      <td>['Video Games', 'Xbox One', 'Accessories', 'Fa...</td>\n",
       "      <td>4.5</td>\n",
       "      <td>3061</td>\n",
       "      <td>Video Games</td>\n",
       "      <td>eXtremeRate</td>\n",
       "      <td>17.59</td>\n",
       "      <td>Awesome it was everything I thought it would b...</td>\n",
       "    </tr>\n",
       "  </tbody>\n",
       "</table>\n",
       "</div>"
      ],
      "text/plain": [
       "                                               title  \\\n",
       "0                  Phantasmagoria: A Puzzle of Flesh   \n",
       "1   NBA 2K17 - Early Tip Off Edition - PlayStation 4   \n",
       "2  Nintendo Selects: The Legend of Zelda Ocarina ...   \n",
       "3                      Spongebob Squarepants, Vol. 1   \n",
       "4  eXtremeRate Soft Touch Top Shell Front Housing...   \n",
       "\n",
       "                                            features  \\\n",
       "0                                     ['Windows 95']   \n",
       "1  ['The #1 rated NBA video game simulation serie...   \n",
       "2  ['Authentic Nintendo Selects: The Legend of Ze...   \n",
       "3  ['Bubblestand: SpongeBob shows Patrick and Squ...   \n",
       "4  ['Compatibility Models: Ultra fits for Xbox On...   \n",
       "\n",
       "                                         description  \\\n",
       "0                                                 []   \n",
       "1  ['Following the record-breaking launch of NBA ...   \n",
       "2                                                 []   \n",
       "3  ['Now you can watch the wild underwater antics...   \n",
       "4                                                 []   \n",
       "\n",
       "                                              videos  \\\n",
       "0                                                 []   \n",
       "1  [{'title': 'NBA 2K17 - Kobe: Haters vs Players...   \n",
       "2                                                 []   \n",
       "3                                                 []   \n",
       "4                                                 []   \n",
       "\n",
       "                                             details  \\\n",
       "0  {'Best Sellers Rank': {'Video Games': 137612, ...   \n",
       "1  {'Release date': 'September 16, 2016', 'Best S...   \n",
       "2  {'Best Sellers Rank': {'Video Games': 51019, '...   \n",
       "3  {'Release date': 'August 15, 2004', 'Best Sell...   \n",
       "4  {'Best Sellers Rank': {'Video Games': 48130, '...   \n",
       "\n",
       "                                              images parent_asin  \\\n",
       "0  [{'thumb': 'https://m.media-amazon.com/images/...  B00069EVOG   \n",
       "1  [{'thumb': 'https://m.media-amazon.com/images/...  B00Z9TLVK0   \n",
       "2  [{'thumb': 'https://m.media-amazon.com/images/...  B07SZJZV88   \n",
       "3  [{'thumb': 'https://m.media-amazon.com/images/...  B0001ZNU56   \n",
       "4  [{'thumb': 'https://m.media-amazon.com/images/...  B07H93H878   \n",
       "\n",
       "                                          categories  average_rating  \\\n",
       "0                     ['Video Games', 'PC', 'Games']             4.1   \n",
       "1          ['Video Games', 'PlayStation 4', 'Games']             4.3   \n",
       "2  ['Video Games', 'Legacy Systems', 'Nintendo Sy...             4.9   \n",
       "3  ['Video Games', 'Legacy Systems', 'Nintendo Sy...             4.4   \n",
       "4  ['Video Games', 'Xbox One', 'Accessories', 'Fa...             4.5   \n",
       "\n",
       "   rating_number main_category           store  price  \\\n",
       "0             18   Video Games          Sierra    NaN   \n",
       "1            223   Video Games              2K   58.0   \n",
       "2             22   Video Games  Amazon Renewed  37.42   \n",
       "3             32   Video Games         Majesco  33.98   \n",
       "4           3061   Video Games     eXtremeRate  17.59   \n",
       "\n",
       "                                                text  \n",
       "0  Came missing one disk which makes the game tot...  \n",
       "1  My child love getting this for his birthday. G...  \n",
       "2  Great game for 7 year olds. My son loves it No...  \n",
       "3  Great condition and very clean. Once again, i'...  \n",
       "4  Awesome it was everything I thought it would b...  "
      ]
     },
     "execution_count": 8,
     "metadata": {},
     "output_type": "execute_result"
    }
   ],
   "source": [
    "items_with_reviews = items.merge(right=asin_to_text, on='parent_asin')\n",
    "items_with_reviews.head()"
   ]
  },
  {
   "cell_type": "markdown",
   "metadata": {},
   "source": [
    "The `text` column is renamed to `review_texts` in the merged DataFrame"
   ]
  },
  {
   "cell_type": "code",
   "execution_count": 9,
   "metadata": {},
   "outputs": [],
   "source": [
    "items_with_reviews.rename(columns={'text': 'review_texts'}, inplace=True)"
   ]
  },
  {
   "cell_type": "markdown",
   "metadata": {},
   "source": [
    "The texts are formatted to make it clearer for the model to understand and use (seperated into pieces)"
   ]
  },
  {
   "cell_type": "code",
   "execution_count": 33,
   "metadata": {},
   "outputs": [],
   "source": [
    "texts = (\n",
    "    \"TITLE: \" + items_with_reviews['title'].fillna('') + '\\n' +\n",
    "    \"FEATURES: \" + items_with_reviews['features'].fillna('') + '\\n' +\n",
    "    \"DESCRIPTION: \" + items_with_reviews['description'].fillna('') + '\\n' +\n",
    "    \"DETAILS: \" + items_with_reviews['details'].fillna('') + '\\n' +\n",
    "    \"CATEGORIES: \" + items_with_reviews['categories'].fillna('') + '\\n' +\n",
    "    \"REVIEWS: \" + items_with_reviews['review_texts'].fillna('') + '\\n' +\n",
    "    \"STORE: \" + items_with_reviews['store'].fillna('')\n",
    ")"
   ]
  },
  {
   "cell_type": "markdown",
   "metadata": {},
   "source": [
    "Embeddings are now created for the items using the model defined aboves"
   ]
  },
  {
   "cell_type": "code",
   "execution_count": 13,
   "metadata": {},
   "outputs": [
    {
     "data": {
      "application/vnd.jupyter.widget-view+json": {
       "model_id": "04a0d9f43c7f45f5b4466d77f59d8f4f",
       "version_major": 2,
       "version_minor": 0
      },
      "text/plain": [
       "Batches:   0%|          | 0/3807 [00:00<?, ?it/s]"
      ]
     },
     "metadata": {},
     "output_type": "display_data"
    }
   ],
   "source": [
    "item_embeddings = model.encode(texts, batch_size=32, show_progress_bar=True)"
   ]
  },
  {
   "cell_type": "markdown",
   "metadata": {},
   "source": [
    "A test run with item 0 (Phantasmagoria) shows very relevant items"
   ]
  },
  {
   "cell_type": "code",
   "execution_count": 51,
   "metadata": {},
   "outputs": [
    {
     "name": "stdout",
     "output_type": "stream",
     "text": [
      "Top 5 similar items to item 0: [ 75404   8193  57705 100350  25053]\n"
     ]
    },
    {
     "data": {
      "text/plain": [
       "75404     TITLE: Phantasy Star Universe: Ambition of the...\n",
       "8193      TITLE: Phantasmat [Download]\\nFEATURES: ['Unco...\n",
       "57705     TITLE: Roberta Williams' Phantasmagoria: Pray ...\n",
       "100350    TITLE: Tales of Phantasia: Narikiri Dungeon X ...\n",
       "25053     TITLE: Hidden Expedition The Crown of Solomon ...\n",
       "dtype: object"
      ]
     },
     "execution_count": 51,
     "metadata": {},
     "output_type": "execute_result"
    }
   ],
   "source": [
    "ITEM_ID = 0\n",
    "\n",
    "sim_item_id = np.dot(item_embeddings, item_embeddings[ITEM_ID]) \\\n",
    "       / (np.linalg.norm(item_embeddings, axis=1) * np.linalg.norm(item_embeddings[ITEM_ID]))\n",
    "\n",
    "top5_idx = np.argsort(-sim_item_id)[1:5+1]\n",
    "print(f\"Top 5 similar items to item {ITEM_ID}:\", top5_idx)\n",
    "\n",
    "texts.loc[top5_idx]"
   ]
  },
  {
   "cell_type": "code",
   "execution_count": 57,
   "metadata": {},
   "outputs": [
    {
     "data": {
      "text/html": [
       "<div>\n",
       "<style scoped>\n",
       "    .dataframe tbody tr th:only-of-type {\n",
       "        vertical-align: middle;\n",
       "    }\n",
       "\n",
       "    .dataframe tbody tr th {\n",
       "        vertical-align: top;\n",
       "    }\n",
       "\n",
       "    .dataframe thead th {\n",
       "        text-align: right;\n",
       "    }\n",
       "</style>\n",
       "<table border=\"1\" class=\"dataframe\">\n",
       "  <thead>\n",
       "    <tr style=\"text-align: right;\">\n",
       "      <th></th>\n",
       "      <th>title</th>\n",
       "      <th>features</th>\n",
       "      <th>description</th>\n",
       "      <th>videos</th>\n",
       "      <th>details</th>\n",
       "      <th>images</th>\n",
       "      <th>parent_asin</th>\n",
       "      <th>categories</th>\n",
       "      <th>average_rating</th>\n",
       "      <th>rating_number</th>\n",
       "      <th>main_category</th>\n",
       "      <th>store</th>\n",
       "      <th>price</th>\n",
       "    </tr>\n",
       "  </thead>\n",
       "  <tbody>\n",
       "    <tr>\n",
       "      <th>41457</th>\n",
       "      <td>Assassins Creed Unity (PS4)</td>\n",
       "      <td>['A RUTHLESS NEW HERO FOR A BRUTAL WORLD', 'BR...</td>\n",
       "      <td>[\"Paris, 1789. The French Revolution turns a o...</td>\n",
       "      <td>[]</td>\n",
       "      <td>{'Release date': 'May 26, 2015', 'Best Sellers...</td>\n",
       "      <td>[{'thumb': 'https://m.media-amazon.com/images/...</td>\n",
       "      <td>B071FN3797</td>\n",
       "      <td>['Video Games', 'PlayStation 4', 'Games']</td>\n",
       "      <td>4.6</td>\n",
       "      <td>2714</td>\n",
       "      <td>Video Games</td>\n",
       "      <td>Ubisoft</td>\n",
       "      <td>19.5</td>\n",
       "    </tr>\n",
       "  </tbody>\n",
       "</table>\n",
       "</div>"
      ],
      "text/plain": [
       "                             title  \\\n",
       "41457  Assassins Creed Unity (PS4)   \n",
       "\n",
       "                                                features  \\\n",
       "41457  ['A RUTHLESS NEW HERO FOR A BRUTAL WORLD', 'BR...   \n",
       "\n",
       "                                             description videos  \\\n",
       "41457  [\"Paris, 1789. The French Revolution turns a o...     []   \n",
       "\n",
       "                                                 details  \\\n",
       "41457  {'Release date': 'May 26, 2015', 'Best Sellers...   \n",
       "\n",
       "                                                  images parent_asin  \\\n",
       "41457  [{'thumb': 'https://m.media-amazon.com/images/...  B071FN3797   \n",
       "\n",
       "                                      categories  average_rating  \\\n",
       "41457  ['Video Games', 'PlayStation 4', 'Games']             4.6   \n",
       "\n",
       "       rating_number main_category    store price  \n",
       "41457           2714   Video Games  Ubisoft  19.5  "
      ]
     },
     "execution_count": 57,
     "metadata": {},
     "output_type": "execute_result"
    }
   ],
   "source": [
    "items[items['title'].str.find('Assassins Creed Unity (PS4') >= 0]"
   ]
  },
  {
   "cell_type": "code",
   "execution_count": 63,
   "metadata": {},
   "outputs": [
    {
     "name": "stdout",
     "output_type": "stream",
     "text": [
      "Top 10 similar items to item 41457: [104971  62760  97258  78933 109664  14382  55419  51207  43650  88347]\n"
     ]
    },
    {
     "data": {
      "text/plain": [
       "104971    TITLE: Assassin's Creed Unity Gold Edition [On...\n",
       "62760     TITLE: Assassin's Creed Unity\\nFEATURES: ['Bra...\n",
       "97258     TITLE: Assassin's Creed Unity Limited Edition ...\n",
       "78933     TITLE: Assassin's Creed Unity - Xbox One\\nFEAT...\n",
       "109664    TITLE: Assassin's Creed Triple Pack: Black Fla...\n",
       "14382     TITLE: Assassin's Creed Unity Limited Edition ...\n",
       "55419     TITLE: Assassins Creed III GameStop Edition\\nF...\n",
       "51207     TITLE: Assassin's Creed III Xbox 360\\nFEATURES...\n",
       "43650     TITLE: Assassin's Creed Origins - PS4 [Digital...\n",
       "88347     TITLE: Assassins Creed Chronicles (PS4)\\nFEATU...\n",
       "dtype: object"
      ]
     },
     "execution_count": 63,
     "metadata": {},
     "output_type": "execute_result"
    }
   ],
   "source": [
    "ITEM_ID = 41457\n",
    "N_SIMILAR = 10\n",
    "\n",
    "sim_item_id = np.dot(item_embeddings, item_embeddings[ITEM_ID]) \\\n",
    "       / (np.linalg.norm(item_embeddings, axis=1) * np.linalg.norm(item_embeddings[ITEM_ID]))\n",
    "\n",
    "top_idx = np.argsort(-sim_item_id)[1:N_SIMILAR+1]\n",
    "print(f\"Top {N_SIMILAR} similar items to item {ITEM_ID}:\", top_idx)\n",
    "\n",
    "texts.loc[top_idx]"
   ]
  },
  {
   "cell_type": "markdown",
   "metadata": {},
   "source": [
    "The size of the embeddings is ~ 0.1GB"
   ]
  },
  {
   "cell_type": "code",
   "execution_count": 36,
   "metadata": {},
   "outputs": [
    {
     "name": "stdout",
     "output_type": "stream",
     "text": [
      "Memory size of numpy array in GB: 0.18711552\n"
     ]
    }
   ],
   "source": [
    "print(\"Memory size of numpy array in GB:\", (item_embeddings.size * item_embeddings.itemsize) / 1e9)"
   ]
  },
  {
   "cell_type": "markdown",
   "metadata": {},
   "source": [
    "Embeddings are saved so that they can be loaded for comparisions later"
   ]
  },
  {
   "cell_type": "code",
   "execution_count": 26,
   "metadata": {},
   "outputs": [],
   "source": [
    "np.save('../data_structures/item_text_embeddings.npy', item_embeddings)"
   ]
  },
  {
   "cell_type": "code",
   "execution_count": 1,
   "metadata": {},
   "outputs": [],
   "source": [
    "import pandas as pd\n",
    "import numpy as np\n",
    "\n",
    "items = pd.read_csv('../datasets/slimmed/items.csv')\n",
    "item_map = pd.read_csv('../datasets/mappings/item_map.csv')"
   ]
  },
  {
   "cell_type": "markdown",
   "metadata": {},
   "source": [
    "440 should map to a PS4 or PS5 item"
   ]
  },
  {
   "cell_type": "code",
   "execution_count": 9,
   "metadata": {},
   "outputs": [
    {
     "data": {
      "text/plain": [
       "'B08FX1Q339'"
      ]
     },
     "execution_count": 9,
     "metadata": {},
     "output_type": "execute_result"
    }
   ],
   "source": [
    "item_map.loc[440].values[0]"
   ]
  },
  {
   "cell_type": "code",
   "execution_count": 8,
   "metadata": {},
   "outputs": [
    {
     "data": {
      "text/html": [
       "<div>\n",
       "<style scoped>\n",
       "    .dataframe tbody tr th:only-of-type {\n",
       "        vertical-align: middle;\n",
       "    }\n",
       "\n",
       "    .dataframe tbody tr th {\n",
       "        vertical-align: top;\n",
       "    }\n",
       "\n",
       "    .dataframe thead th {\n",
       "        text-align: right;\n",
       "    }\n",
       "</style>\n",
       "<table border=\"1\" class=\"dataframe\">\n",
       "  <thead>\n",
       "    <tr style=\"text-align: right;\">\n",
       "      <th></th>\n",
       "      <th>title</th>\n",
       "      <th>features</th>\n",
       "      <th>description</th>\n",
       "      <th>videos</th>\n",
       "      <th>details</th>\n",
       "      <th>images</th>\n",
       "      <th>parent_asin</th>\n",
       "      <th>categories</th>\n",
       "      <th>average_rating</th>\n",
       "      <th>rating_number</th>\n",
       "      <th>main_category</th>\n",
       "      <th>store</th>\n",
       "      <th>price</th>\n",
       "    </tr>\n",
       "  </thead>\n",
       "  <tbody>\n",
       "    <tr>\n",
       "      <th>1426</th>\n",
       "      <td>OIVO Dockable Grip Case for Nintendo Switch, H...</td>\n",
       "      <td>['Special Design for Nintendo Switch: Providin...</td>\n",
       "      <td>[]</td>\n",
       "      <td>[{'title': 'Great Switch Case', 'url': 'https:...</td>\n",
       "      <td>{'Package Dimensions': '9.69 x 4.96 x 2.56 inc...</td>\n",
       "      <td>[{'thumb': 'https://m.media-amazon.com/images/...</td>\n",
       "      <td>B08FX1Q339</td>\n",
       "      <td>['Video Games', 'Nintendo Switch', 'Accessorie...</td>\n",
       "      <td>3.8</td>\n",
       "      <td>86</td>\n",
       "      <td>All Electronics</td>\n",
       "      <td>OIVO</td>\n",
       "      <td>NaN</td>\n",
       "    </tr>\n",
       "  </tbody>\n",
       "</table>\n",
       "</div>"
      ],
      "text/plain": [
       "                                                  title  \\\n",
       "1426  OIVO Dockable Grip Case for Nintendo Switch, H...   \n",
       "\n",
       "                                               features description  \\\n",
       "1426  ['Special Design for Nintendo Switch: Providin...          []   \n",
       "\n",
       "                                                 videos  \\\n",
       "1426  [{'title': 'Great Switch Case', 'url': 'https:...   \n",
       "\n",
       "                                                details  \\\n",
       "1426  {'Package Dimensions': '9.69 x 4.96 x 2.56 inc...   \n",
       "\n",
       "                                                 images parent_asin  \\\n",
       "1426  [{'thumb': 'https://m.media-amazon.com/images/...  B08FX1Q339   \n",
       "\n",
       "                                             categories  average_rating  \\\n",
       "1426  ['Video Games', 'Nintendo Switch', 'Accessorie...             3.8   \n",
       "\n",
       "      rating_number    main_category store price  \n",
       "1426             86  All Electronics  OIVO   NaN  "
      ]
     },
     "execution_count": 8,
     "metadata": {},
     "output_type": "execute_result"
    }
   ],
   "source": [
    "items[items['parent_asin'] == 'B08FX1Q339']"
   ]
  },
  {
   "cell_type": "code",
   "execution_count": 4,
   "metadata": {},
   "outputs": [
    {
     "data": {
      "text/plain": [
       "['B0B6CFX35R',\n",
       " 'B08FX1Q339',\n",
       " 'B01FKBAVG6',\n",
       " 'B000SSQPU8',\n",
       " 'B077BVHVVB',\n",
       " 'B00JA81WQE',\n",
       " 'B0B7DQBCLT',\n",
       " 'B00O9W2YT0',\n",
       " 'B06WVK3L1B',\n",
       " 'B007L3NDJE']"
      ]
     },
     "execution_count": 4,
     "metadata": {},
     "output_type": "execute_result"
    }
   ],
   "source": [
    "parent_asins = item_map.loc[[np.int64(76266), np.int64(440), np.int64(77189), np.int64(30410), np.int64(63588), np.int64(2234), np.int64(56219), np.int64(49786), np.int64(13360), np.int64(87542)]]['parent_asin'].tolist()\n",
    "parent_asins"
   ]
  },
  {
   "cell_type": "code",
   "execution_count": 5,
   "metadata": {},
   "outputs": [
    {
     "data": {
      "text/plain": [
       "1426      OIVO Dockable Grip Case for Nintendo Switch, H...\n",
       "1779      SCUF Infinity1 Smurf Controller for Xbox One a...\n",
       "26020     WraptorSkinz Decal Vinyl Skin Wrap compatible ...\n",
       "34572       Final Fantasy XII: Revenant Wings - Nintendo DS\n",
       "53680              Buyee 128MB Memory Card Game Memory Card\n",
       "63453     DLseego Gengar Game Case For Switch Lite / Swi...\n",
       "72877     Chronicle Keepers The Dreaming Garden Collecto...\n",
       "72905        The Jackbox Party Trilogy - PS4 [Digital Code]\n",
       "101818                    SONY BEJEWELED 3 PS3 [video game]\n",
       "106584    FIFA 23 Standard Edition Playstation 5 (PS5)| ...\n",
       "Name: title, dtype: object"
      ]
     },
     "execution_count": 5,
     "metadata": {},
     "output_type": "execute_result"
    }
   ],
   "source": [
    "items[items['parent_asin'].isin(parent_asins)]['title']"
   ]
  },
  {
   "cell_type": "code",
   "execution_count": 6,
   "metadata": {},
   "outputs": [
    {
     "data": {
      "text/html": [
       "<div>\n",
       "<style scoped>\n",
       "    .dataframe tbody tr th:only-of-type {\n",
       "        vertical-align: middle;\n",
       "    }\n",
       "\n",
       "    .dataframe tbody tr th {\n",
       "        vertical-align: top;\n",
       "    }\n",
       "\n",
       "    .dataframe thead th {\n",
       "        text-align: right;\n",
       "    }\n",
       "</style>\n",
       "<table border=\"1\" class=\"dataframe\">\n",
       "  <thead>\n",
       "    <tr style=\"text-align: right;\">\n",
       "      <th></th>\n",
       "      <th>title</th>\n",
       "      <th>features</th>\n",
       "      <th>description</th>\n",
       "      <th>videos</th>\n",
       "      <th>details</th>\n",
       "      <th>images</th>\n",
       "      <th>parent_asin</th>\n",
       "      <th>categories</th>\n",
       "      <th>average_rating</th>\n",
       "      <th>rating_number</th>\n",
       "      <th>main_category</th>\n",
       "      <th>store</th>\n",
       "      <th>price</th>\n",
       "    </tr>\n",
       "  </thead>\n",
       "  <tbody>\n",
       "    <tr>\n",
       "      <th>1426</th>\n",
       "      <td>OIVO Dockable Grip Case for Nintendo Switch, H...</td>\n",
       "      <td>['Special Design for Nintendo Switch: Providin...</td>\n",
       "      <td>[]</td>\n",
       "      <td>[{'title': 'Great Switch Case', 'url': 'https:...</td>\n",
       "      <td>{'Package Dimensions': '9.69 x 4.96 x 2.56 inc...</td>\n",
       "      <td>[{'thumb': 'https://m.media-amazon.com/images/...</td>\n",
       "      <td>B08FX1Q339</td>\n",
       "      <td>['Video Games', 'Nintendo Switch', 'Accessorie...</td>\n",
       "      <td>3.8</td>\n",
       "      <td>86</td>\n",
       "      <td>All Electronics</td>\n",
       "      <td>OIVO</td>\n",
       "      <td>NaN</td>\n",
       "    </tr>\n",
       "    <tr>\n",
       "      <th>1779</th>\n",
       "      <td>SCUF Infinity1 Smurf Controller for Xbox One a...</td>\n",
       "      <td>[]</td>\n",
       "      <td>[]</td>\n",
       "      <td>[]</td>\n",
       "      <td>{'Pricing': 'The strikethrough price is the Li...</td>\n",
       "      <td>[{'thumb': 'https://m.media-amazon.com/images/...</td>\n",
       "      <td>B01FKBAVG6</td>\n",
       "      <td>[]</td>\n",
       "      <td>4.0</td>\n",
       "      <td>7</td>\n",
       "      <td>Video Games</td>\n",
       "      <td>Unknown</td>\n",
       "      <td>NaN</td>\n",
       "    </tr>\n",
       "    <tr>\n",
       "      <th>26020</th>\n",
       "      <td>WraptorSkinz Decal Vinyl Skin Wrap compatible ...</td>\n",
       "      <td>[]</td>\n",
       "      <td>['WraptorSkinz skins are superb photo quality ...</td>\n",
       "      <td>[{'title': 'How to apply WraptorSkinz XBOX gam...</td>\n",
       "      <td>{'Best Sellers Rank': {'Video Games': 142490, ...</td>\n",
       "      <td>[{'thumb': 'https://m.media-amazon.com/images/...</td>\n",
       "      <td>B077BVHVVB</td>\n",
       "      <td>['Video Games', 'Xbox One', 'Accessories', 'Fa...</td>\n",
       "      <td>4.0</td>\n",
       "      <td>6</td>\n",
       "      <td>Video Games</td>\n",
       "      <td>WraptorSkinz</td>\n",
       "      <td>15.95</td>\n",
       "    </tr>\n",
       "    <tr>\n",
       "      <th>34572</th>\n",
       "      <td>Final Fantasy XII: Revenant Wings - Nintendo DS</td>\n",
       "      <td>['Join FFXII characters in a new story']</td>\n",
       "      <td>['Final Fantasy XII: Revenant Wings - Nintendo...</td>\n",
       "      <td>[]</td>\n",
       "      <td>{'Release date': 'November 21, 2007', 'Best Se...</td>\n",
       "      <td>[{'thumb': 'https://m.media-amazon.com/images/...</td>\n",
       "      <td>B000SSQPU8</td>\n",
       "      <td>['Video Games', 'Legacy Systems', 'Nintendo Sy...</td>\n",
       "      <td>4.6</td>\n",
       "      <td>297</td>\n",
       "      <td>Video Games</td>\n",
       "      <td>Square Enix</td>\n",
       "      <td>NaN</td>\n",
       "    </tr>\n",
       "    <tr>\n",
       "      <th>53680</th>\n",
       "      <td>Buyee 128MB Memory Card Game Memory Card</td>\n",
       "      <td>['Durable, compact design 128MB, 2043 Blocks o...</td>\n",
       "      <td>['Buyee 128MB Memory Card for Sony Playstation...</td>\n",
       "      <td>[]</td>\n",
       "      <td>{'Release date': 'March 1, 2017', 'Best Seller...</td>\n",
       "      <td>[{'thumb': 'https://m.media-amazon.com/images/...</td>\n",
       "      <td>B00JA81WQE</td>\n",
       "      <td>['Video Games', 'Legacy Systems', 'PlayStation...</td>\n",
       "      <td>4.6</td>\n",
       "      <td>1933</td>\n",
       "      <td>Video Games</td>\n",
       "      <td>Buyee</td>\n",
       "      <td>NaN</td>\n",
       "    </tr>\n",
       "    <tr>\n",
       "      <th>63453</th>\n",
       "      <td>DLseego Gengar Game Case For Switch Lite / Swi...</td>\n",
       "      <td>['👻LARGE-CAPACITY &amp; PORTABLE -- Maximize the u...</td>\n",
       "      <td>[]</td>\n",
       "      <td>[]</td>\n",
       "      <td>{'Brand Name': 'DLseego', 'Item Weight': '1.76...</td>\n",
       "      <td>[{'thumb': 'https://m.media-amazon.com/images/...</td>\n",
       "      <td>B0B7DQBCLT</td>\n",
       "      <td>['Video Games', 'Nintendo Switch', 'Accessorie...</td>\n",
       "      <td>4.9</td>\n",
       "      <td>96</td>\n",
       "      <td>Video Games</td>\n",
       "      <td>DLseego</td>\n",
       "      <td>11.99</td>\n",
       "    </tr>\n",
       "    <tr>\n",
       "      <th>72877</th>\n",
       "      <td>Chronicle Keepers The Dreaming Garden Collecto...</td>\n",
       "      <td>['o 8 new music tracks', 'o 6 new wallpapers',...</td>\n",
       "      <td>['Have you ever had this weird feeling, that t...</td>\n",
       "      <td>[]</td>\n",
       "      <td>{'Release date': 'September 29, 2014', 'Pricin...</td>\n",
       "      <td>[{'thumb': 'https://m.media-amazon.com/images/...</td>\n",
       "      <td>B00O9W2YT0</td>\n",
       "      <td>['Video Games', 'PC', 'Games']</td>\n",
       "      <td>3.0</td>\n",
       "      <td>1</td>\n",
       "      <td>Video Games</td>\n",
       "      <td>Chronicle Keepers The Dreaming Garden Collecto...</td>\n",
       "      <td>NaN</td>\n",
       "    </tr>\n",
       "    <tr>\n",
       "      <th>72905</th>\n",
       "      <td>The Jackbox Party Trilogy - PS4 [Digital Code]</td>\n",
       "      <td>[]</td>\n",
       "      <td>['NOTE: All games are in English and are local...</td>\n",
       "      <td>[]</td>\n",
       "      <td>{'Release date': 'February 16, 2017', 'Pricing...</td>\n",
       "      <td>[{'thumb': 'https://m.media-amazon.com/images/...</td>\n",
       "      <td>B06WVK3L1B</td>\n",
       "      <td>['Video Games', 'PlayStation Digital Content',...</td>\n",
       "      <td>3.8</td>\n",
       "      <td>9</td>\n",
       "      <td>Video Games</td>\n",
       "      <td>Jackbox Games, Inc.</td>\n",
       "      <td>NaN</td>\n",
       "    </tr>\n",
       "    <tr>\n",
       "      <th>101818</th>\n",
       "      <td>SONY BEJEWELED 3 PS3 [video game]</td>\n",
       "      <td>[]</td>\n",
       "      <td>[]</td>\n",
       "      <td>[]</td>\n",
       "      <td>{'Best Sellers Rank': {'Video Games': 18642, '...</td>\n",
       "      <td>[{'thumb': 'https://m.media-amazon.com/images/...</td>\n",
       "      <td>B007L3NDJE</td>\n",
       "      <td>['Video Games', 'Legacy Systems', 'PlayStation...</td>\n",
       "      <td>3.7</td>\n",
       "      <td>17</td>\n",
       "      <td>Other</td>\n",
       "      <td>Electronic Arts</td>\n",
       "      <td>NaN</td>\n",
       "    </tr>\n",
       "    <tr>\n",
       "      <th>106584</th>\n",
       "      <td>FIFA 23 Standard Edition Playstation 5 (PS5)| ...</td>\n",
       "      <td>['EA SPORTS FIFA 23 brings even more of the ac...</td>\n",
       "      <td>['FIFA 23 Standard Edition Playstation 5 (PS5)...</td>\n",
       "      <td>[]</td>\n",
       "      <td>{'Best Sellers Rank': {'Video Games': 482, 'Pl...</td>\n",
       "      <td>[{'thumb': 'https://m.media-amazon.com/images/...</td>\n",
       "      <td>B0B6CFX35R</td>\n",
       "      <td>['Video Games', 'PlayStation 5', 'Games']</td>\n",
       "      <td>4.7</td>\n",
       "      <td>1861</td>\n",
       "      <td>Video Games</td>\n",
       "      <td>Electronic Arts</td>\n",
       "      <td>39.99</td>\n",
       "    </tr>\n",
       "  </tbody>\n",
       "</table>\n",
       "</div>"
      ],
      "text/plain": [
       "                                                    title  \\\n",
       "1426    OIVO Dockable Grip Case for Nintendo Switch, H...   \n",
       "1779    SCUF Infinity1 Smurf Controller for Xbox One a...   \n",
       "26020   WraptorSkinz Decal Vinyl Skin Wrap compatible ...   \n",
       "34572     Final Fantasy XII: Revenant Wings - Nintendo DS   \n",
       "53680            Buyee 128MB Memory Card Game Memory Card   \n",
       "63453   DLseego Gengar Game Case For Switch Lite / Swi...   \n",
       "72877   Chronicle Keepers The Dreaming Garden Collecto...   \n",
       "72905      The Jackbox Party Trilogy - PS4 [Digital Code]   \n",
       "101818                  SONY BEJEWELED 3 PS3 [video game]   \n",
       "106584  FIFA 23 Standard Edition Playstation 5 (PS5)| ...   \n",
       "\n",
       "                                                 features  \\\n",
       "1426    ['Special Design for Nintendo Switch: Providin...   \n",
       "1779                                                   []   \n",
       "26020                                                  []   \n",
       "34572            ['Join FFXII characters in a new story']   \n",
       "53680   ['Durable, compact design 128MB, 2043 Blocks o...   \n",
       "63453   ['👻LARGE-CAPACITY & PORTABLE -- Maximize the u...   \n",
       "72877   ['o 8 new music tracks', 'o 6 new wallpapers',...   \n",
       "72905                                                  []   \n",
       "101818                                                 []   \n",
       "106584  ['EA SPORTS FIFA 23 brings even more of the ac...   \n",
       "\n",
       "                                              description  \\\n",
       "1426                                                   []   \n",
       "1779                                                   []   \n",
       "26020   ['WraptorSkinz skins are superb photo quality ...   \n",
       "34572   ['Final Fantasy XII: Revenant Wings - Nintendo...   \n",
       "53680   ['Buyee 128MB Memory Card for Sony Playstation...   \n",
       "63453                                                  []   \n",
       "72877   ['Have you ever had this weird feeling, that t...   \n",
       "72905   ['NOTE: All games are in English and are local...   \n",
       "101818                                                 []   \n",
       "106584  ['FIFA 23 Standard Edition Playstation 5 (PS5)...   \n",
       "\n",
       "                                                   videos  \\\n",
       "1426    [{'title': 'Great Switch Case', 'url': 'https:...   \n",
       "1779                                                   []   \n",
       "26020   [{'title': 'How to apply WraptorSkinz XBOX gam...   \n",
       "34572                                                  []   \n",
       "53680                                                  []   \n",
       "63453                                                  []   \n",
       "72877                                                  []   \n",
       "72905                                                  []   \n",
       "101818                                                 []   \n",
       "106584                                                 []   \n",
       "\n",
       "                                                  details  \\\n",
       "1426    {'Package Dimensions': '9.69 x 4.96 x 2.56 inc...   \n",
       "1779    {'Pricing': 'The strikethrough price is the Li...   \n",
       "26020   {'Best Sellers Rank': {'Video Games': 142490, ...   \n",
       "34572   {'Release date': 'November 21, 2007', 'Best Se...   \n",
       "53680   {'Release date': 'March 1, 2017', 'Best Seller...   \n",
       "63453   {'Brand Name': 'DLseego', 'Item Weight': '1.76...   \n",
       "72877   {'Release date': 'September 29, 2014', 'Pricin...   \n",
       "72905   {'Release date': 'February 16, 2017', 'Pricing...   \n",
       "101818  {'Best Sellers Rank': {'Video Games': 18642, '...   \n",
       "106584  {'Best Sellers Rank': {'Video Games': 482, 'Pl...   \n",
       "\n",
       "                                                   images parent_asin  \\\n",
       "1426    [{'thumb': 'https://m.media-amazon.com/images/...  B08FX1Q339   \n",
       "1779    [{'thumb': 'https://m.media-amazon.com/images/...  B01FKBAVG6   \n",
       "26020   [{'thumb': 'https://m.media-amazon.com/images/...  B077BVHVVB   \n",
       "34572   [{'thumb': 'https://m.media-amazon.com/images/...  B000SSQPU8   \n",
       "53680   [{'thumb': 'https://m.media-amazon.com/images/...  B00JA81WQE   \n",
       "63453   [{'thumb': 'https://m.media-amazon.com/images/...  B0B7DQBCLT   \n",
       "72877   [{'thumb': 'https://m.media-amazon.com/images/...  B00O9W2YT0   \n",
       "72905   [{'thumb': 'https://m.media-amazon.com/images/...  B06WVK3L1B   \n",
       "101818  [{'thumb': 'https://m.media-amazon.com/images/...  B007L3NDJE   \n",
       "106584  [{'thumb': 'https://m.media-amazon.com/images/...  B0B6CFX35R   \n",
       "\n",
       "                                               categories  average_rating  \\\n",
       "1426    ['Video Games', 'Nintendo Switch', 'Accessorie...             3.8   \n",
       "1779                                                   []             4.0   \n",
       "26020   ['Video Games', 'Xbox One', 'Accessories', 'Fa...             4.0   \n",
       "34572   ['Video Games', 'Legacy Systems', 'Nintendo Sy...             4.6   \n",
       "53680   ['Video Games', 'Legacy Systems', 'PlayStation...             4.6   \n",
       "63453   ['Video Games', 'Nintendo Switch', 'Accessorie...             4.9   \n",
       "72877                      ['Video Games', 'PC', 'Games']             3.0   \n",
       "72905   ['Video Games', 'PlayStation Digital Content',...             3.8   \n",
       "101818  ['Video Games', 'Legacy Systems', 'PlayStation...             3.7   \n",
       "106584          ['Video Games', 'PlayStation 5', 'Games']             4.7   \n",
       "\n",
       "        rating_number    main_category  \\\n",
       "1426               86  All Electronics   \n",
       "1779                7      Video Games   \n",
       "26020               6      Video Games   \n",
       "34572             297      Video Games   \n",
       "53680            1933      Video Games   \n",
       "63453              96      Video Games   \n",
       "72877               1      Video Games   \n",
       "72905               9      Video Games   \n",
       "101818             17            Other   \n",
       "106584           1861      Video Games   \n",
       "\n",
       "                                                    store  price  \n",
       "1426                                                 OIVO    NaN  \n",
       "1779                                              Unknown    NaN  \n",
       "26020                                        WraptorSkinz  15.95  \n",
       "34572                                         Square Enix    NaN  \n",
       "53680                                               Buyee    NaN  \n",
       "63453                                             DLseego  11.99  \n",
       "72877   Chronicle Keepers The Dreaming Garden Collecto...    NaN  \n",
       "72905                                 Jackbox Games, Inc.    NaN  \n",
       "101818                                    Electronic Arts    NaN  \n",
       "106584                                    Electronic Arts  39.99  "
      ]
     },
     "execution_count": 6,
     "metadata": {},
     "output_type": "execute_result"
    }
   ],
   "source": [
    "items[items['parent_asin'].isin(parent_asins)]"
   ]
  }
 ],
 "metadata": {
  "kernelspec": {
   "display_name": "Python 3",
   "language": "python",
   "name": "python3"
  },
  "language_info": {
   "codemirror_mode": {
    "name": "ipython",
    "version": 3
   },
   "file_extension": ".py",
   "mimetype": "text/x-python",
   "name": "python",
   "nbconvert_exporter": "python",
   "pygments_lexer": "ipython3",
   "version": "3.12.6"
  }
 },
 "nbformat": 4,
 "nbformat_minor": 2
}
