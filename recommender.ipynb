{
 "cells": [
  {
   "cell_type": "markdown",
   "metadata": {},
   "source": [
    "## Recommender"
   ]
  },
  {
   "cell_type": "markdown",
   "metadata": {},
   "source": [
    "The ALS model and text embeddings will be used to make recommendations for a given guest history"
   ]
  },
  {
   "cell_type": "markdown",
   "metadata": {},
   "source": [
    "### Imports"
   ]
  },
  {
   "cell_type": "code",
   "execution_count": 1,
   "metadata": {},
   "outputs": [],
   "source": [
    "import pandas as pd\n",
    "import numpy as np\n",
    "\n",
    "import pickle\n",
    "import gzip\n",
    "\n",
    "from typing import cast\n",
    "from implicit.cpu.als import AlternatingLeastSquares"
   ]
  },
  {
   "cell_type": "markdown",
   "metadata": {},
   "source": [
    "### Load Datasets"
   ]
  },
  {
   "cell_type": "code",
   "execution_count": 2,
   "metadata": {},
   "outputs": [
    {
     "data": {
      "text/html": [
       "<div>\n",
       "<style scoped>\n",
       "    .dataframe tbody tr th:only-of-type {\n",
       "        vertical-align: middle;\n",
       "    }\n",
       "\n",
       "    .dataframe tbody tr th {\n",
       "        vertical-align: top;\n",
       "    }\n",
       "\n",
       "    .dataframe thead th {\n",
       "        text-align: right;\n",
       "    }\n",
       "</style>\n",
       "<table border=\"1\" class=\"dataframe\">\n",
       "  <thead>\n",
       "    <tr style=\"text-align: right;\">\n",
       "      <th></th>\n",
       "      <th>title</th>\n",
       "      <th>features</th>\n",
       "      <th>description</th>\n",
       "      <th>videos</th>\n",
       "      <th>details</th>\n",
       "      <th>images</th>\n",
       "      <th>parent_asin</th>\n",
       "      <th>categories</th>\n",
       "      <th>average_rating</th>\n",
       "      <th>rating_number</th>\n",
       "      <th>main_category</th>\n",
       "      <th>store</th>\n",
       "      <th>price</th>\n",
       "    </tr>\n",
       "  </thead>\n",
       "  <tbody>\n",
       "    <tr>\n",
       "      <th>0</th>\n",
       "      <td>Phantasmagoria: A Puzzle of Flesh</td>\n",
       "      <td>['Windows 95']</td>\n",
       "      <td>[]</td>\n",
       "      <td>[]</td>\n",
       "      <td>{'Best Sellers Rank': {'Video Games': 137612, ...</td>\n",
       "      <td>[{'thumb': 'https://m.media-amazon.com/images/...</td>\n",
       "      <td>B00069EVOG</td>\n",
       "      <td>['Video Games', 'PC', 'Games']</td>\n",
       "      <td>4.1</td>\n",
       "      <td>18</td>\n",
       "      <td>Video Games</td>\n",
       "      <td>Sierra</td>\n",
       "      <td>NaN</td>\n",
       "    </tr>\n",
       "    <tr>\n",
       "      <th>1</th>\n",
       "      <td>NBA 2K17 - Early Tip Off Edition - PlayStation 4</td>\n",
       "      <td>['The #1 rated NBA video game simulation serie...</td>\n",
       "      <td>['Following the record-breaking launch of NBA ...</td>\n",
       "      <td>[{'title': 'NBA 2K17 - Kobe: Haters vs Players...</td>\n",
       "      <td>{'Release date': 'September 16, 2016', 'Best S...</td>\n",
       "      <td>[{'thumb': 'https://m.media-amazon.com/images/...</td>\n",
       "      <td>B00Z9TLVK0</td>\n",
       "      <td>['Video Games', 'PlayStation 4', 'Games']</td>\n",
       "      <td>4.3</td>\n",
       "      <td>223</td>\n",
       "      <td>Video Games</td>\n",
       "      <td>2K</td>\n",
       "      <td>58.0</td>\n",
       "    </tr>\n",
       "    <tr>\n",
       "      <th>2</th>\n",
       "      <td>Nintendo Selects: The Legend of Zelda Ocarina ...</td>\n",
       "      <td>['Authentic Nintendo Selects: The Legend of Ze...</td>\n",
       "      <td>[]</td>\n",
       "      <td>[]</td>\n",
       "      <td>{'Best Sellers Rank': {'Video Games': 51019, '...</td>\n",
       "      <td>[{'thumb': 'https://m.media-amazon.com/images/...</td>\n",
       "      <td>B07SZJZV88</td>\n",
       "      <td>['Video Games', 'Legacy Systems', 'Nintendo Sy...</td>\n",
       "      <td>4.9</td>\n",
       "      <td>22</td>\n",
       "      <td>Video Games</td>\n",
       "      <td>Amazon Renewed</td>\n",
       "      <td>37.42</td>\n",
       "    </tr>\n",
       "    <tr>\n",
       "      <th>3</th>\n",
       "      <td>Spongebob Squarepants, Vol. 1</td>\n",
       "      <td>['Bubblestand: SpongeBob shows Patrick and Squ...</td>\n",
       "      <td>['Now you can watch the wild underwater antics...</td>\n",
       "      <td>[]</td>\n",
       "      <td>{'Release date': 'August 15, 2004', 'Best Sell...</td>\n",
       "      <td>[{'thumb': 'https://m.media-amazon.com/images/...</td>\n",
       "      <td>B0001ZNU56</td>\n",
       "      <td>['Video Games', 'Legacy Systems', 'Nintendo Sy...</td>\n",
       "      <td>4.4</td>\n",
       "      <td>32</td>\n",
       "      <td>Video Games</td>\n",
       "      <td>Majesco</td>\n",
       "      <td>33.98</td>\n",
       "    </tr>\n",
       "    <tr>\n",
       "      <th>4</th>\n",
       "      <td>eXtremeRate Soft Touch Top Shell Front Housing...</td>\n",
       "      <td>['Compatibility Models: Ultra fits for Xbox On...</td>\n",
       "      <td>[]</td>\n",
       "      <td>[]</td>\n",
       "      <td>{'Best Sellers Rank': {'Video Games': 48130, '...</td>\n",
       "      <td>[{'thumb': 'https://m.media-amazon.com/images/...</td>\n",
       "      <td>B07H93H878</td>\n",
       "      <td>['Video Games', 'Xbox One', 'Accessories', 'Fa...</td>\n",
       "      <td>4.5</td>\n",
       "      <td>3061</td>\n",
       "      <td>Video Games</td>\n",
       "      <td>eXtremeRate</td>\n",
       "      <td>17.59</td>\n",
       "    </tr>\n",
       "  </tbody>\n",
       "</table>\n",
       "</div>"
      ],
      "text/plain": [
       "                                               title  \\\n",
       "0                  Phantasmagoria: A Puzzle of Flesh   \n",
       "1   NBA 2K17 - Early Tip Off Edition - PlayStation 4   \n",
       "2  Nintendo Selects: The Legend of Zelda Ocarina ...   \n",
       "3                      Spongebob Squarepants, Vol. 1   \n",
       "4  eXtremeRate Soft Touch Top Shell Front Housing...   \n",
       "\n",
       "                                            features  \\\n",
       "0                                     ['Windows 95']   \n",
       "1  ['The #1 rated NBA video game simulation serie...   \n",
       "2  ['Authentic Nintendo Selects: The Legend of Ze...   \n",
       "3  ['Bubblestand: SpongeBob shows Patrick and Squ...   \n",
       "4  ['Compatibility Models: Ultra fits for Xbox On...   \n",
       "\n",
       "                                         description  \\\n",
       "0                                                 []   \n",
       "1  ['Following the record-breaking launch of NBA ...   \n",
       "2                                                 []   \n",
       "3  ['Now you can watch the wild underwater antics...   \n",
       "4                                                 []   \n",
       "\n",
       "                                              videos  \\\n",
       "0                                                 []   \n",
       "1  [{'title': 'NBA 2K17 - Kobe: Haters vs Players...   \n",
       "2                                                 []   \n",
       "3                                                 []   \n",
       "4                                                 []   \n",
       "\n",
       "                                             details  \\\n",
       "0  {'Best Sellers Rank': {'Video Games': 137612, ...   \n",
       "1  {'Release date': 'September 16, 2016', 'Best S...   \n",
       "2  {'Best Sellers Rank': {'Video Games': 51019, '...   \n",
       "3  {'Release date': 'August 15, 2004', 'Best Sell...   \n",
       "4  {'Best Sellers Rank': {'Video Games': 48130, '...   \n",
       "\n",
       "                                              images parent_asin  \\\n",
       "0  [{'thumb': 'https://m.media-amazon.com/images/...  B00069EVOG   \n",
       "1  [{'thumb': 'https://m.media-amazon.com/images/...  B00Z9TLVK0   \n",
       "2  [{'thumb': 'https://m.media-amazon.com/images/...  B07SZJZV88   \n",
       "3  [{'thumb': 'https://m.media-amazon.com/images/...  B0001ZNU56   \n",
       "4  [{'thumb': 'https://m.media-amazon.com/images/...  B07H93H878   \n",
       "\n",
       "                                          categories  average_rating  \\\n",
       "0                     ['Video Games', 'PC', 'Games']             4.1   \n",
       "1          ['Video Games', 'PlayStation 4', 'Games']             4.3   \n",
       "2  ['Video Games', 'Legacy Systems', 'Nintendo Sy...             4.9   \n",
       "3  ['Video Games', 'Legacy Systems', 'Nintendo Sy...             4.4   \n",
       "4  ['Video Games', 'Xbox One', 'Accessories', 'Fa...             4.5   \n",
       "\n",
       "   rating_number main_category           store  price  \n",
       "0             18   Video Games          Sierra    NaN  \n",
       "1            223   Video Games              2K   58.0  \n",
       "2             22   Video Games  Amazon Renewed  37.42  \n",
       "3             32   Video Games         Majesco  33.98  \n",
       "4           3061   Video Games     eXtremeRate  17.59  "
      ]
     },
     "execution_count": 2,
     "metadata": {},
     "output_type": "execute_result"
    }
   ],
   "source": [
    "items = pd.read_csv('../datasets/slimmed/items.csv')\n",
    "items.head()"
   ]
  },
  {
   "cell_type": "markdown",
   "metadata": {},
   "source": [
    "### Loading ALS Model "
   ]
  },
  {
   "cell_type": "code",
   "execution_count": 3,
   "metadata": {},
   "outputs": [],
   "source": [
    "# Load the compressed file\n",
    "with gzip.open('../data_structures/als_model.pkl', 'rb') as f:\n",
    "\tals_model = cast(AlternatingLeastSquares, pickle.load(f))"
   ]
  },
  {
   "cell_type": "markdown",
   "metadata": {},
   "source": [
    "### Loading Text Embeddings"
   ]
  },
  {
   "cell_type": "code",
   "execution_count": 4,
   "metadata": {},
   "outputs": [],
   "source": [
    "# Load the embeddings\n",
    "item_text_embeddings = np.load('../data_structures/item_text_embeddings.npy')"
   ]
  },
  {
   "cell_type": "markdown",
   "metadata": {},
   "source": [
    "### Guest Vector"
   ]
  },
  {
   "cell_type": "markdown",
   "metadata": {},
   "source": [
    "The ALS model and text embeddings will be used to make recommendations for a given guest history (from least recent to most)"
   ]
  },
  {
   "cell_type": "code",
   "execution_count": 5,
   "metadata": {},
   "outputs": [],
   "source": [
    "guest_vector = [\n",
    "\t\"B07KRWJCQW\", \"B07ZJ6RY1W\", \"B07JGVX9D6\", \n",
    "\t\"B075YBBQMM\", \"B0BN942894\", \"B077GG9D5D\", \n",
    "\t\"B00ZQB28XK\", \"B014R4KYMS\", \"B07YBXFF5C\"\n",
    "]"
   ]
  },
  {
   "cell_type": "markdown",
   "metadata": {},
   "source": [
    "History would be most recent to least (exponential decay weights could be attached to items seen long ago)"
   ]
  },
  {
   "cell_type": "code",
   "execution_count": 7,
   "metadata": {},
   "outputs": [
    {
     "data": {
      "text/plain": [
       "['B07YBXFF5C',\n",
       " 'B014R4KYMS',\n",
       " 'B00ZQB28XK',\n",
       " 'B077GG9D5D',\n",
       " 'B0BN942894',\n",
       " 'B075YBBQMM',\n",
       " 'B07JGVX9D6',\n",
       " 'B07ZJ6RY1W',\n",
       " 'B07KRWJCQW']"
      ]
     },
     "execution_count": 7,
     "metadata": {},
     "output_type": "execute_result"
    }
   ],
   "source": [
    "guest_vector_history = guest_vector[::-1]\n",
    "guest_vector_history"
   ]
  },
  {
   "cell_type": "markdown",
   "metadata": {},
   "source": [
    "History may have repeated items so a unique list is created"
   ]
  },
  {
   "cell_type": "code",
   "execution_count": 9,
   "metadata": {},
   "outputs": [
    {
     "data": {
      "text/plain": [
       "['B07YBXFF5C',\n",
       " 'B014R4KYMS',\n",
       " 'B00ZQB28XK',\n",
       " 'B077GG9D5D',\n",
       " 'B0BN942894',\n",
       " 'B075YBBQMM',\n",
       " 'B07JGVX9D6',\n",
       " 'B07ZJ6RY1W',\n",
       " 'B07KRWJCQW']"
      ]
     },
     "execution_count": 9,
     "metadata": {},
     "output_type": "execute_result"
    }
   ],
   "source": [
    "guest_history_unique = [item for idx, item in enumerate(guest_vector_history) if idx == guest_vector_history.index(item)]\n",
    "guest_history_unique"
   ]
  },
  {
   "cell_type": "markdown",
   "metadata": {},
   "source": [
    "ALS model has the items with their numerical ids only so the string ids must be mapped"
   ]
  },
  {
   "cell_type": "code",
   "execution_count": 8,
   "metadata": {},
   "outputs": [
    {
     "data": {
      "text/html": [
       "<div>\n",
       "<style scoped>\n",
       "    .dataframe tbody tr th:only-of-type {\n",
       "        vertical-align: middle;\n",
       "    }\n",
       "\n",
       "    .dataframe tbody tr th {\n",
       "        vertical-align: top;\n",
       "    }\n",
       "\n",
       "    .dataframe thead th {\n",
       "        text-align: right;\n",
       "    }\n",
       "</style>\n",
       "<table border=\"1\" class=\"dataframe\">\n",
       "  <thead>\n",
       "    <tr style=\"text-align: right;\">\n",
       "      <th></th>\n",
       "      <th>parent_asin</th>\n",
       "    </tr>\n",
       "  </thead>\n",
       "  <tbody>\n",
       "    <tr>\n",
       "      <th>0</th>\n",
       "      <td>B07DK1H3H5</td>\n",
       "    </tr>\n",
       "    <tr>\n",
       "      <th>1</th>\n",
       "      <td>B07SRWRH5D</td>\n",
       "    </tr>\n",
       "    <tr>\n",
       "      <th>2</th>\n",
       "      <td>B07MFMFW34</td>\n",
       "    </tr>\n",
       "    <tr>\n",
       "      <th>3</th>\n",
       "      <td>B0BCHWZX95</td>\n",
       "    </tr>\n",
       "    <tr>\n",
       "      <th>4</th>\n",
       "      <td>B00HUWA45W</td>\n",
       "    </tr>\n",
       "  </tbody>\n",
       "</table>\n",
       "</div>"
      ],
      "text/plain": [
       "  parent_asin\n",
       "0  B07DK1H3H5\n",
       "1  B07SRWRH5D\n",
       "2  B07MFMFW34\n",
       "3  B0BCHWZX95\n",
       "4  B00HUWA45W"
      ]
     },
     "execution_count": 8,
     "metadata": {},
     "output_type": "execute_result"
    }
   ],
   "source": [
    "item_map = pd.read_csv('../datasets/mappings/item_map.csv')\n",
    "item_map.head()"
   ]
  },
  {
   "cell_type": "markdown",
   "metadata": {},
   "source": [
    "The ids are mapped but the numbers are in ascending order (doesn't match the guest history necessarily)"
   ]
  },
  {
   "cell_type": "code",
   "execution_count": 9,
   "metadata": {},
   "outputs": [
    {
     "data": {
      "text/html": [
       "<div>\n",
       "<style scoped>\n",
       "    .dataframe tbody tr th:only-of-type {\n",
       "        vertical-align: middle;\n",
       "    }\n",
       "\n",
       "    .dataframe tbody tr th {\n",
       "        vertical-align: top;\n",
       "    }\n",
       "\n",
       "    .dataframe thead th {\n",
       "        text-align: right;\n",
       "    }\n",
       "</style>\n",
       "<table border=\"1\" class=\"dataframe\">\n",
       "  <thead>\n",
       "    <tr style=\"text-align: right;\">\n",
       "      <th></th>\n",
       "      <th>parent_asin</th>\n",
       "    </tr>\n",
       "  </thead>\n",
       "  <tbody>\n",
       "    <tr>\n",
       "      <th>100</th>\n",
       "      <td>B075YBBQMM</td>\n",
       "    </tr>\n",
       "    <tr>\n",
       "      <th>187</th>\n",
       "      <td>B07ZJ6RY1W</td>\n",
       "    </tr>\n",
       "    <tr>\n",
       "      <th>225</th>\n",
       "      <td>B077GG9D5D</td>\n",
       "    </tr>\n",
       "    <tr>\n",
       "      <th>323</th>\n",
       "      <td>B014R4KYMS</td>\n",
       "    </tr>\n",
       "    <tr>\n",
       "      <th>573</th>\n",
       "      <td>B07YBXFF5C</td>\n",
       "    </tr>\n",
       "    <tr>\n",
       "      <th>601</th>\n",
       "      <td>B0BN942894</td>\n",
       "    </tr>\n",
       "    <tr>\n",
       "      <th>634</th>\n",
       "      <td>B07KRWJCQW</td>\n",
       "    </tr>\n",
       "    <tr>\n",
       "      <th>1020</th>\n",
       "      <td>B00ZQB28XK</td>\n",
       "    </tr>\n",
       "    <tr>\n",
       "      <th>83187</th>\n",
       "      <td>B07JGVX9D6</td>\n",
       "    </tr>\n",
       "  </tbody>\n",
       "</table>\n",
       "</div>"
      ],
      "text/plain": [
       "      parent_asin\n",
       "100    B075YBBQMM\n",
       "187    B07ZJ6RY1W\n",
       "225    B077GG9D5D\n",
       "323    B014R4KYMS\n",
       "573    B07YBXFF5C\n",
       "601    B0BN942894\n",
       "634    B07KRWJCQW\n",
       "1020   B00ZQB28XK\n",
       "83187  B07JGVX9D6"
      ]
     },
     "execution_count": 9,
     "metadata": {},
     "output_type": "execute_result"
    }
   ],
   "source": [
    "guest_history_mapped = item_map[item_map['parent_asin'].isin(guest_history_unique)]\n",
    "guest_history_mapped"
   ]
  },
  {
   "cell_type": "markdown",
   "metadata": {},
   "source": [
    "A longer approach using pandas Categorical ensures that they will be in the right order"
   ]
  },
  {
   "cell_type": "code",
   "execution_count": 10,
   "metadata": {},
   "outputs": [
    {
     "data": {
      "text/plain": [
       "Index([573, 323, 1020, 225, 601, 100, 83187, 187, 634], dtype='int64')"
      ]
     },
     "execution_count": 10,
     "metadata": {},
     "output_type": "execute_result"
    }
   ],
   "source": [
    "guest_history_mapped = item_map[item_map['parent_asin'].isin(guest_history_unique)].copy()\n",
    "\n",
    "guest_history_mapped['order'] = pd.Categorical(\n",
    "\tguest_history_mapped['parent_asin'],\n",
    "\tcategories=guest_history_unique,\n",
    "\tordered=True\n",
    ")\n",
    "\n",
    "guest_history_mapped = guest_history_mapped.sort_values('order').drop(columns='order').index\n",
    "guest_history_mapped"
   ]
  },
  {
   "cell_type": "markdown",
   "metadata": {},
   "source": [
    "### Item-Based Collaborative Filtering"
   ]
  },
  {
   "cell_type": "markdown",
   "metadata": {},
   "source": [
    "Given the (mapped) guest vector, similar items to each item can be found "
   ]
  },
  {
   "cell_type": "code",
   "execution_count": 11,
   "metadata": {},
   "outputs": [],
   "source": [
    "def find_similar_items(mapped_guest_vector: np.ndarray, N=10):\n",
    "\tpersonalized_items = als_model.similar_items(mapped_guest_vector, N=N+1)\n",
    "\n",
    "\trecommended_items, sim_scores = personalized_items\n",
    "\tsimilar_items = list(zip(recommended_items, sim_scores)) # do not include the item itself\n",
    "\n",
    "\treturn similar_items"
   ]
  },
  {
   "cell_type": "markdown",
   "metadata": {},
   "source": [
    "Given the similar items and their scores, the top N similar items by weighted scoring can be found"
   ]
  },
  {
   "cell_type": "code",
   "execution_count": 12,
   "metadata": {},
   "outputs": [],
   "source": [
    "from collections import defaultdict\n",
    "\n",
    "def find_most_similar_items(mapped_guest_history, N=10, decay_rate=0.3):\n",
    "\tsimilar_items = find_similar_items(mapped_guest_history)\n",
    "\tweighted_scores = defaultdict(float)\n",
    "\n",
    "\tfor age, (recommended_items, scores) in enumerate(similar_items):\n",
    "\t\t# Items further into history should contribute less to the recommended items\n",
    "\t\tdecay = np.exp(-decay_rate * age)\n",
    "\n",
    "\t\tfor idx, item in enumerate(recommended_items):\n",
    "\t\t\tif item in mapped_guest_history:\n",
    "\t\t\t\tcontinue\n",
    "\n",
    "\t\t\tweighted_scores[item] += scores[idx] * decay\n",
    "\n",
    "\t# Sort by score and return the top N\n",
    "\ttop_n = sorted(weighted_scores.items(), key=lambda x: x[1], reverse=True)[:N]\n",
    "\treturn top_n"
   ]
  },
  {
   "cell_type": "markdown",
   "metadata": {},
   "source": [
    "Given a list of numerical ids for items, the item informations are returned"
   ]
  },
  {
   "cell_type": "code",
   "execution_count": 13,
   "metadata": {},
   "outputs": [],
   "source": [
    "def get_items(item_ids: list[int]):\n",
    "\treturn items.loc[item_ids]"
   ]
  },
  {
   "cell_type": "markdown",
   "metadata": {},
   "source": [
    "Given the (mapped) guest vector, the ids of the most relevant items are returned"
   ]
  },
  {
   "cell_type": "code",
   "execution_count": 14,
   "metadata": {},
   "outputs": [],
   "source": [
    "def item_collaborative_filtering(mapped_guest_history: list[int], N=10, decay_rate=0.3):\n",
    "\tfound_similar_items, scores = zip(*find_most_similar_items(mapped_guest_history, N=10, decay_rate=decay_rate))\n",
    "\tfound_similar_items = list(found_similar_items)\n",
    "\n",
    "\treturn get_items(found_similar_items), scores"
   ]
  },
  {
   "cell_type": "markdown",
   "metadata": {},
   "source": [
    "Guest history consisted of these items"
   ]
  },
  {
   "cell_type": "code",
   "execution_count": 15,
   "metadata": {},
   "outputs": [
    {
     "data": {
      "text/plain": [
       "573                                    Zoo Vet jc - PC/Mac\n",
       "323      Limited Edition Replacement Full Cover Shell C...\n",
       "1020     753 Keyboard Mouse Converter for PS3/PS4/PS5/X...\n",
       "225      Nintendo Switch Case, Abida PU Leather Protect...\n",
       "601      Game Card Storage Holder Hard Case for New Nin...\n",
       "100      PDP Xbox One Mars Starter Pack - Big Buck Hunt...\n",
       "83187    Nintendo NES Game Cartridge Dust Cover/sleeve ...\n",
       "187                              CSDC Legacy Of The Stones\n",
       "634      E-MODS GAMING Switch Charging Dock, Foldable T...\n",
       "Name: title, dtype: object"
      ]
     },
     "execution_count": 15,
     "metadata": {},
     "output_type": "execute_result"
    }
   ],
   "source": [
    "get_items(guest_history_mapped)['title']"
   ]
  },
  {
   "cell_type": "markdown",
   "metadata": {},
   "source": [
    "The most relevant items are found"
   ]
  },
  {
   "cell_type": "code",
   "execution_count": 18,
   "metadata": {},
   "outputs": [
    {
     "data": {
      "text/plain": [
       "25023     Naruto: Clash of Ninja Revolution - Nintendo Wii\n",
       "2815     PS4 Wired Controller,Wired PS4 Game Controller...\n",
       "1036      12 Month Xbox Music Pass - Xbox One Digital Code\n",
       "2551             PowerA MOGA Hero Power - Electronic Games\n",
       "4573     ENDGAME GEAR XM1 RGB Gaming Mouse, Programmabl...\n",
       "40833    AULA Dragon Tooth 3 Color Backlit LED Illumina...\n",
       "7536     RG353V Handheld Game Console 3.5 Inch IPS Scre...\n",
       "10974    Rocksmith 2014 Edition with Real Tone Cable (PS4)\n",
       "21159    KIWI design Upgraded Face Cushion Cover Pad Co...\n",
       "12891    Portable Dock for Nintendo Switch - innoAura R...\n",
       "Name: title, dtype: object"
      ]
     },
     "execution_count": 18,
     "metadata": {},
     "output_type": "execute_result"
    }
   ],
   "source": [
    "item_collaborative_filtering(guest_history_mapped)[0]['title']"
   ]
  },
  {
   "cell_type": "markdown",
   "metadata": {},
   "source": [
    "### Content-Based Collaborative Filtering"
   ]
  },
  {
   "cell_type": "code",
   "execution_count": 22,
   "metadata": {},
   "outputs": [],
   "source": [
    "def similar_items_by_content(item_id: int, N=10):\n",
    "\tsim_item_id = np.dot(item_text_embeddings, item_text_embeddings[item_id]) \\\n",
    "\t\t/ (np.linalg.norm(item_text_embeddings, axis=1) * np.linalg.norm(item_text_embeddings[item_id]))\n",
    "\n",
    "\ttop_idx = np.argsort(-sim_item_id)[1:N+1]\n",
    "\treturn [top_idx, sim_item_id[top_idx]]"
   ]
  },
  {
   "cell_type": "code",
   "execution_count": 23,
   "metadata": {},
   "outputs": [],
   "source": [
    "def find_similar_items_by_content(mapped_guest_vector: np.ndarray, N=10):\n",
    "\t# e^-5 < 0.01 so decay for these items would be very high\n",
    "\tpersonalized_items = [similar_items_by_content(item_id, N=N) for item_id in mapped_guest_vector[:5]]\n",
    "\treturn personalized_items"
   ]
  },
  {
   "cell_type": "code",
   "execution_count": 24,
   "metadata": {},
   "outputs": [],
   "source": [
    "def find_most_similar_items_by_content(mapped_guest_history, N=10, decay_rate=0.3):\n",
    "\tsimilar_items = find_similar_items_by_content(mapped_guest_history)\n",
    "\tweighted_scores = defaultdict(float)\n",
    "\n",
    "\tfor age, (recommended_items, scores) in enumerate(similar_items):\n",
    "\t\t# Items further into history should contribute less to the recommended items\n",
    "\t\tdecay = np.exp(-decay_rate * age)\n",
    "\n",
    "\t\tfor idx, item in enumerate(recommended_items):\n",
    "\t\t\tif item in mapped_guest_history:\n",
    "\t\t\t\tcontinue\n",
    "\n",
    "\t\t\tweighted_scores[item] += scores[idx] * decay\n",
    "\n",
    "\t# Sort by score and return the top N\n",
    "\ttop_n = sorted(weighted_scores.items(), key=lambda x: x[1], reverse=True)[:N]\n",
    "\treturn top_n"
   ]
  },
  {
   "cell_type": "code",
   "execution_count": 25,
   "metadata": {},
   "outputs": [],
   "source": [
    "def content_collaborative_filtering(mapped_guest_history: list[int], N=10, decay_rate=0.3):\n",
    "\tfound_similar_items, scores = zip(*find_most_similar_items_by_content(mapped_guest_history, N=N, decay_rate=decay_rate))\n",
    "\tfound_similar_items = list(found_similar_items)\n",
    "\t\n",
    "\treturn get_items(found_similar_items), scores"
   ]
  },
  {
   "cell_type": "code",
   "execution_count": 26,
   "metadata": {},
   "outputs": [
    {
     "data": {
      "text/plain": [
       "573                                    Zoo Vet jc - PC/Mac\n",
       "323      Limited Edition Replacement Full Cover Shell C...\n",
       "1020     753 Keyboard Mouse Converter for PS3/PS4/PS5/X...\n",
       "225      Nintendo Switch Case, Abida PU Leather Protect...\n",
       "601      Game Card Storage Holder Hard Case for New Nin...\n",
       "100      PDP Xbox One Mars Starter Pack - Big Buck Hunt...\n",
       "83187    Nintendo NES Game Cartridge Dust Cover/sleeve ...\n",
       "187                              CSDC Legacy Of The Stones\n",
       "634      E-MODS GAMING Switch Charging Dock, Foldable T...\n",
       "Name: title, dtype: object"
      ]
     },
     "execution_count": 26,
     "metadata": {},
     "output_type": "execute_result"
    }
   ],
   "source": [
    "get_items(guest_history_mapped)['title']"
   ]
  },
  {
   "cell_type": "code",
   "execution_count": 31,
   "metadata": {},
   "outputs": [
    {
     "data": {
      "text/plain": [
       "77801     Front+Back Shell Housing Case Cover Protector ...\n",
       "16106     Gamepad Shell DIY Controller Housing Case Cove...\n",
       "16928     Front+Back Shell Housing Case Cover Protector ...\n",
       "24523     LICHIFIT Gamepad Shell DIY Controller Housing ...\n",
       "118055    Front + Back Housing Shell Case Cover Replacem...\n",
       "56111     Controller Front Shell for PS4 Controller - Ca...\n",
       "84728                              Vet Emergency 2 - PC/Mac\n",
       "74897     Replacement Full Housing Shell Cover Case for ...\n",
       "38036                                         Vet Emergency\n",
       "60079     New Replacement Top Upper Housing Shell Case C...\n",
       "Name: title, dtype: object"
      ]
     },
     "execution_count": 31,
     "metadata": {},
     "output_type": "execute_result"
    }
   ],
   "source": [
    "content_collaborative_filtering(guest_history_mapped, decay_rate=0.1)[0]['title']"
   ]
  },
  {
   "cell_type": "markdown",
   "metadata": {},
   "source": [
    "### Hybrid Approach"
   ]
  },
  {
   "cell_type": "code",
   "execution_count": 86,
   "metadata": {},
   "outputs": [
    {
     "data": {
      "text/plain": [
       "(array([83187,   601,   323,   573,   225,   100,  1020,   634,   187,\n",
       "          573,   573]),\n",
       " array([0.8376184 , 0.10792866, 0.10594105, 0.10467561, 0.0969936 ,\n",
       "        0.09594233, 0.08967514, 0.08800711, 0.07285354, 0.        ,\n",
       "        0.        ], dtype=float32))"
      ]
     },
     "execution_count": 86,
     "metadata": {},
     "output_type": "execute_result"
    }
   ],
   "source": [
    "als_model.similar_items(itemid=5912, items=guest_history_mapped, N=11)"
   ]
  },
  {
   "cell_type": "code",
   "execution_count": 87,
   "metadata": {},
   "outputs": [],
   "source": [
    "def find_rating_similarity_scores(item_id: int, items: list[int], N=10):\n",
    "\tsim_item_id, scores = als_model.similar_items(itemid=item_id, items=items, N=N+1)\n",
    "\treturn [sim_item_id[1:], scores[1:]]"
   ]
  },
  {
   "cell_type": "code",
   "execution_count": 36,
   "metadata": {},
   "outputs": [],
   "source": [
    "def find_content_similarity_scores(item_id: int, items: list[int]):\n",
    "\tsim_item_id = np.dot(item_text_embeddings[items], item_text_embeddings[item_id]) \\\n",
    "\t\t/ (np.linalg.norm(item_text_embeddings[items], axis=1) * np.linalg.norm(item_text_embeddings[item_id]))\n",
    "\n",
    "\ttop_idx = np.argsort(-sim_item_id)\n",
    "\treturn [items[top_idx], sim_item_id[top_idx]]"
   ]
  },
  {
   "cell_type": "code",
   "execution_count": 126,
   "metadata": {},
   "outputs": [],
   "source": [
    "def dynamic_rating_weight(history_len, max_history=5):\n",
    "    return min(0.8, history_len / max_history)  # max out at 0.8 weight"
   ]
  },
  {
   "cell_type": "code",
   "execution_count": 165,
   "metadata": {},
   "outputs": [],
   "source": [
    "def recommender(mapped_guest_history, N=10, similar_per_item=10, item_decay_rate=0.3, content_decay_rate=0.1, rating_weight=0.5):\n",
    "\t# Get most similar items by rating and content\n",
    "\tsimilar_items_by_rating, rating_scores = item_collaborative_filtering(mapped_guest_history, N=similar_per_item, decay_rate=item_decay_rate)\n",
    "\tsimilar_items_by_content, content_scores = content_collaborative_filtering(mapped_guest_history, N=similar_per_item, decay_rate=content_decay_rate)\n",
    "\n",
    "\t# Create two DataFrames to keep track of similarity scores\n",
    "\tdf_rating = similar_items_by_rating[['parent_asin', 'title']].rename(columns={'score': 'score_rating'})\n",
    "\tdf_content = similar_items_by_content[['parent_asin', 'title']].rename(columns={'score': 'score_content'})\n",
    "\n",
    "\tdf_rating['score_rating'] = rating_scores\n",
    "\tdf_content['score_content'] = content_scores\n",
    "\n",
    "\t# Merge recommendations (outer to include all)\n",
    "\tmerged_df = pd.merge(df_rating, df_content, on=['parent_asin', 'title'], how='outer')\n",
    "\tmerged_df.fillna(0, inplace=True)\n",
    "\n",
    "\t# score_rating or score_content may be 0 if the item did not appear in both recommendations\n",
    "\t# so they must be calculated before the top N recommendations are taken\n",
    "\tdef fill_rating_score(row):\n",
    "\t\tif row['score_rating'] == 0 or pd.isna(row['score_rating']):\n",
    "\t\t\tnumerical_parent_asin = item_map[item_map['parent_asin'] == row['parent_asin']].index[0]\n",
    "\t\t\tmax_rating_sim_score = np.max(find_content_similarity_scores(numerical_parent_asin, mapped_guest_history)[1])\n",
    "\n",
    "\t\t\treturn max_rating_sim_score\n",
    "\t\t\n",
    "\t\treturn row['score_rating']\n",
    "\n",
    "\tdef fill_content_score(row):\n",
    "\t\tif row['score_content'] == 0 or pd.isna(row['score_content']):\n",
    "\t\t\tnumerical_parent_asin = item_map[item_map['parent_asin'] == row['parent_asin']].index[0]\n",
    "\t\t\tmax_content_sim_score = np.max(find_content_similarity_scores(numerical_parent_asin, mapped_guest_history)[1])\n",
    "\n",
    "\t\t\treturn max_content_sim_score\n",
    "\t\t\n",
    "\t\treturn row['score_content']\n",
    "\n",
    "\tmerged_df['score_rating'] = merged_df.apply(fill_rating_score, axis=1)\n",
    "\tmerged_df['score_content'] = merged_df.apply(fill_content_score, axis=1)\n",
    "\n",
    "\t# Normalize the scores in the DataFrame to remove bias\n",
    "\tmerged_df['score_rating'] = (merged_df['score_rating'] - merged_df['score_rating'].min()) / (merged_df['score_rating'].max() - merged_df['score_rating'].min() + 1e-6)\n",
    "\tmerged_df['score_content'] = (merged_df['score_content'] - merged_df['score_content'].min()) / (merged_df['score_content'].max() - merged_df['score_content'].min() + 1e-6)\n",
    "\n",
    "\t# The final score for each item is calculated via weighted average of the scores and the top N is taken afterwards\n",
    "\tRATING_WEIGHT = rating_weight if rating_weight is not None else dynamic_rating_weight(len(mapped_guest_history))\n",
    "\tCONTENT_WEIGHT = 1 - RATING_WEIGHT\n",
    "\n",
    "\tmerged_df['final_score'] = (RATING_WEIGHT * merged_df['score_rating'] + CONTENT_WEIGHT * merged_df['score_content'])\n",
    "\tmerged_df = merged_df.sort_values(by='final_score', ascending=False)\n",
    "\n",
    "\ttop_n_rating = df_rating.sort_values(by='score_rating', ascending=False).iloc[:N]\n",
    "\ttop_n_content = df_content.sort_values(by='score_content', ascending=False).iloc[:N]\n",
    "\n",
    "\tdef explain_contributor(row):\n",
    "\t\tr = RATING_WEIGHT * row['score_rating']\n",
    "\t\tc = CONTENT_WEIGHT * row['score_content']\n",
    "\t\treturn 'both' if abs(r - c) < 0.05 else ('rating' if r > c else 'content')\n",
    "\n",
    "\ttop_n_hybrid = merged_df.iloc[:N]\n",
    "\ttop_n_hybrid.loc[:, 'main_contributor'] = top_n_hybrid.apply(explain_contributor, axis=1)\n",
    "\n",
    "\treturn top_n_rating, top_n_content, top_n_hybrid"
   ]
  },
  {
   "cell_type": "code",
   "execution_count": 166,
   "metadata": {},
   "outputs": [
    {
     "name": "stderr",
     "output_type": "stream",
     "text": [
      "C:\\Users\\furqa\\AppData\\Local\\Temp\\ipykernel_22512\\1515171321.py:60: SettingWithCopyWarning: \n",
      "A value is trying to be set on a copy of a slice from a DataFrame.\n",
      "Try using .loc[row_indexer,col_indexer] = value instead\n",
      "\n",
      "See the caveats in the documentation: https://pandas.pydata.org/pandas-docs/stable/user_guide/indexing.html#returning-a-view-versus-a-copy\n",
      "  top_n_hybrid.loc[:, 'main_contributor'] = top_n_hybrid.apply(explain_contributor, axis=1)\n"
     ]
    }
   ],
   "source": [
    "top_n_rating, top_n_content, top_n_hybrid = recommender(guest_history_mapped, N=20)"
   ]
  },
  {
   "cell_type": "code",
   "execution_count": 167,
   "metadata": {},
   "outputs": [
    {
     "data": {
      "text/html": [
       "<div>\n",
       "<style scoped>\n",
       "    .dataframe tbody tr th:only-of-type {\n",
       "        vertical-align: middle;\n",
       "    }\n",
       "\n",
       "    .dataframe tbody tr th {\n",
       "        vertical-align: top;\n",
       "    }\n",
       "\n",
       "    .dataframe thead th {\n",
       "        text-align: right;\n",
       "    }\n",
       "</style>\n",
       "<table border=\"1\" class=\"dataframe\">\n",
       "  <thead>\n",
       "    <tr style=\"text-align: right;\">\n",
       "      <th></th>\n",
       "      <th>parent_asin</th>\n",
       "      <th>title</th>\n",
       "      <th>score_rating</th>\n",
       "    </tr>\n",
       "  </thead>\n",
       "  <tbody>\n",
       "    <tr>\n",
       "      <th>25023</th>\n",
       "      <td>B000S8JXAM</td>\n",
       "      <td>Naruto: Clash of Ninja Revolution - Nintendo Wii</td>\n",
       "      <td>0.387601</td>\n",
       "    </tr>\n",
       "    <tr>\n",
       "      <th>2815</th>\n",
       "      <td>B0925VYS82</td>\n",
       "      <td>PS4 Wired Controller,Wired PS4 Game Controller...</td>\n",
       "      <td>0.371856</td>\n",
       "    </tr>\n",
       "    <tr>\n",
       "      <th>1036</th>\n",
       "      <td>B009VIKJUS</td>\n",
       "      <td>12 Month Xbox Music Pass - Xbox One Digital Code</td>\n",
       "      <td>0.365042</td>\n",
       "    </tr>\n",
       "    <tr>\n",
       "      <th>2551</th>\n",
       "      <td>B00GIK3YAO</td>\n",
       "      <td>PowerA MOGA Hero Power - Electronic Games</td>\n",
       "      <td>0.339077</td>\n",
       "    </tr>\n",
       "    <tr>\n",
       "      <th>4573</th>\n",
       "      <td>B083TZM57S</td>\n",
       "      <td>ENDGAME GEAR XM1 RGB Gaming Mouse, Programmabl...</td>\n",
       "      <td>0.338954</td>\n",
       "    </tr>\n",
       "    <tr>\n",
       "      <th>40833</th>\n",
       "      <td>B00FAOKV1Y</td>\n",
       "      <td>AULA Dragon Tooth 3 Color Backlit LED Illumina...</td>\n",
       "      <td>0.329759</td>\n",
       "    </tr>\n",
       "    <tr>\n",
       "      <th>7536</th>\n",
       "      <td>B0BNJZDJGP</td>\n",
       "      <td>RG353V Handheld Game Console 3.5 Inch IPS Scre...</td>\n",
       "      <td>0.327544</td>\n",
       "    </tr>\n",
       "    <tr>\n",
       "      <th>10974</th>\n",
       "      <td>B00KJGJPU6</td>\n",
       "      <td>Rocksmith 2014 Edition with Real Tone Cable (PS4)</td>\n",
       "      <td>0.317871</td>\n",
       "    </tr>\n",
       "    <tr>\n",
       "      <th>21159</th>\n",
       "      <td>B08NT6NMZ3</td>\n",
       "      <td>KIWI design Upgraded Face Cushion Cover Pad Co...</td>\n",
       "      <td>0.316609</td>\n",
       "    </tr>\n",
       "    <tr>\n",
       "      <th>12891</th>\n",
       "      <td>B07QYRF333</td>\n",
       "      <td>Portable Dock for Nintendo Switch - innoAura R...</td>\n",
       "      <td>0.313389</td>\n",
       "    </tr>\n",
       "  </tbody>\n",
       "</table>\n",
       "</div>"
      ],
      "text/plain": [
       "      parent_asin                                              title  \\\n",
       "25023  B000S8JXAM   Naruto: Clash of Ninja Revolution - Nintendo Wii   \n",
       "2815   B0925VYS82  PS4 Wired Controller,Wired PS4 Game Controller...   \n",
       "1036   B009VIKJUS   12 Month Xbox Music Pass - Xbox One Digital Code   \n",
       "2551   B00GIK3YAO          PowerA MOGA Hero Power - Electronic Games   \n",
       "4573   B083TZM57S  ENDGAME GEAR XM1 RGB Gaming Mouse, Programmabl...   \n",
       "40833  B00FAOKV1Y  AULA Dragon Tooth 3 Color Backlit LED Illumina...   \n",
       "7536   B0BNJZDJGP  RG353V Handheld Game Console 3.5 Inch IPS Scre...   \n",
       "10974  B00KJGJPU6  Rocksmith 2014 Edition with Real Tone Cable (PS4)   \n",
       "21159  B08NT6NMZ3  KIWI design Upgraded Face Cushion Cover Pad Co...   \n",
       "12891  B07QYRF333  Portable Dock for Nintendo Switch - innoAura R...   \n",
       "\n",
       "       score_rating  \n",
       "25023      0.387601  \n",
       "2815       0.371856  \n",
       "1036       0.365042  \n",
       "2551       0.339077  \n",
       "4573       0.338954  \n",
       "40833      0.329759  \n",
       "7536       0.327544  \n",
       "10974      0.317871  \n",
       "21159      0.316609  \n",
       "12891      0.313389  "
      ]
     },
     "execution_count": 167,
     "metadata": {},
     "output_type": "execute_result"
    }
   ],
   "source": [
    "top_n_rating"
   ]
  },
  {
   "cell_type": "code",
   "execution_count": 168,
   "metadata": {},
   "outputs": [
    {
     "data": {
      "text/html": [
       "<div>\n",
       "<style scoped>\n",
       "    .dataframe tbody tr th:only-of-type {\n",
       "        vertical-align: middle;\n",
       "    }\n",
       "\n",
       "    .dataframe tbody tr th {\n",
       "        vertical-align: top;\n",
       "    }\n",
       "\n",
       "    .dataframe thead th {\n",
       "        text-align: right;\n",
       "    }\n",
       "</style>\n",
       "<table border=\"1\" class=\"dataframe\">\n",
       "  <thead>\n",
       "    <tr style=\"text-align: right;\">\n",
       "      <th></th>\n",
       "      <th>parent_asin</th>\n",
       "      <th>title</th>\n",
       "      <th>score_content</th>\n",
       "    </tr>\n",
       "  </thead>\n",
       "  <tbody>\n",
       "    <tr>\n",
       "      <th>77801</th>\n",
       "      <td>B07FJZL85Q</td>\n",
       "      <td>Front+Back Shell Housing Case Cover Protector ...</td>\n",
       "      <td>0.845150</td>\n",
       "    </tr>\n",
       "    <tr>\n",
       "      <th>16106</th>\n",
       "      <td>B088TLK92N</td>\n",
       "      <td>Gamepad Shell DIY Controller Housing Case Cove...</td>\n",
       "      <td>0.823098</td>\n",
       "    </tr>\n",
       "    <tr>\n",
       "      <th>16928</th>\n",
       "      <td>B07HVFRVP2</td>\n",
       "      <td>Front+Back Shell Housing Case Cover Protector ...</td>\n",
       "      <td>0.820399</td>\n",
       "    </tr>\n",
       "    <tr>\n",
       "      <th>24523</th>\n",
       "      <td>B08DY7MZ1X</td>\n",
       "      <td>LICHIFIT Gamepad Shell DIY Controller Housing ...</td>\n",
       "      <td>0.801288</td>\n",
       "    </tr>\n",
       "    <tr>\n",
       "      <th>118055</th>\n",
       "      <td>B0BG92X25C</td>\n",
       "      <td>Front + Back Housing Shell Case Cover Replacem...</td>\n",
       "      <td>0.796818</td>\n",
       "    </tr>\n",
       "    <tr>\n",
       "      <th>56111</th>\n",
       "      <td>B00WPKR6AA</td>\n",
       "      <td>Controller Front Shell for PS4 Controller - Ca...</td>\n",
       "      <td>0.792864</td>\n",
       "    </tr>\n",
       "    <tr>\n",
       "      <th>84728</th>\n",
       "      <td>B00008I8RE</td>\n",
       "      <td>Vet Emergency 2 - PC/Mac</td>\n",
       "      <td>0.790400</td>\n",
       "    </tr>\n",
       "    <tr>\n",
       "      <th>74897</th>\n",
       "      <td>B077QJPJQ6</td>\n",
       "      <td>Replacement Full Housing Shell Cover Case for ...</td>\n",
       "      <td>0.788180</td>\n",
       "    </tr>\n",
       "    <tr>\n",
       "      <th>38036</th>\n",
       "      <td>B000EA6VX6</td>\n",
       "      <td>Vet Emergency</td>\n",
       "      <td>0.787053</td>\n",
       "    </tr>\n",
       "    <tr>\n",
       "      <th>60079</th>\n",
       "      <td>B081V6T61D</td>\n",
       "      <td>New Replacement Top Upper Housing Shell Case C...</td>\n",
       "      <td>0.785323</td>\n",
       "    </tr>\n",
       "  </tbody>\n",
       "</table>\n",
       "</div>"
      ],
      "text/plain": [
       "       parent_asin                                              title  \\\n",
       "77801   B07FJZL85Q  Front+Back Shell Housing Case Cover Protector ...   \n",
       "16106   B088TLK92N  Gamepad Shell DIY Controller Housing Case Cove...   \n",
       "16928   B07HVFRVP2  Front+Back Shell Housing Case Cover Protector ...   \n",
       "24523   B08DY7MZ1X  LICHIFIT Gamepad Shell DIY Controller Housing ...   \n",
       "118055  B0BG92X25C  Front + Back Housing Shell Case Cover Replacem...   \n",
       "56111   B00WPKR6AA  Controller Front Shell for PS4 Controller - Ca...   \n",
       "84728   B00008I8RE                           Vet Emergency 2 - PC/Mac   \n",
       "74897   B077QJPJQ6  Replacement Full Housing Shell Cover Case for ...   \n",
       "38036   B000EA6VX6                                      Vet Emergency   \n",
       "60079   B081V6T61D  New Replacement Top Upper Housing Shell Case C...   \n",
       "\n",
       "        score_content  \n",
       "77801        0.845150  \n",
       "16106        0.823098  \n",
       "16928        0.820399  \n",
       "24523        0.801288  \n",
       "118055       0.796818  \n",
       "56111        0.792864  \n",
       "84728        0.790400  \n",
       "74897        0.788180  \n",
       "38036        0.787053  \n",
       "60079        0.785323  "
      ]
     },
     "execution_count": 168,
     "metadata": {},
     "output_type": "execute_result"
    }
   ],
   "source": [
    "top_n_content"
   ]
  },
  {
   "cell_type": "code",
   "execution_count": 169,
   "metadata": {},
   "outputs": [
    {
     "data": {
      "text/html": [
       "<div>\n",
       "<style scoped>\n",
       "    .dataframe tbody tr th:only-of-type {\n",
       "        vertical-align: middle;\n",
       "    }\n",
       "\n",
       "    .dataframe tbody tr th {\n",
       "        vertical-align: top;\n",
       "    }\n",
       "\n",
       "    .dataframe thead th {\n",
       "        text-align: right;\n",
       "    }\n",
       "</style>\n",
       "<table border=\"1\" class=\"dataframe\">\n",
       "  <thead>\n",
       "    <tr style=\"text-align: right;\">\n",
       "      <th></th>\n",
       "      <th>parent_asin</th>\n",
       "      <th>title</th>\n",
       "      <th>score_rating</th>\n",
       "      <th>score_content</th>\n",
       "      <th>final_score</th>\n",
       "      <th>main_contributor</th>\n",
       "    </tr>\n",
       "  </thead>\n",
       "  <tbody>\n",
       "    <tr>\n",
       "      <th>14</th>\n",
       "      <td>B088TLK92N</td>\n",
       "      <td>Gamepad Shell DIY Controller Housing Case Cove...</td>\n",
       "      <td>0.999997</td>\n",
       "      <td>0.959850</td>\n",
       "      <td>0.979924</td>\n",
       "      <td>both</td>\n",
       "    </tr>\n",
       "    <tr>\n",
       "      <th>18</th>\n",
       "      <td>B0BG92X25C</td>\n",
       "      <td>Front + Back Housing Shell Case Cover Replacem...</td>\n",
       "      <td>0.715899</td>\n",
       "      <td>0.912005</td>\n",
       "      <td>0.813952</td>\n",
       "      <td>content</td>\n",
       "    </tr>\n",
       "    <tr>\n",
       "      <th>9</th>\n",
       "      <td>B07FJZL85Q</td>\n",
       "      <td>Front+Back Shell Housing Case Cover Protector ...</td>\n",
       "      <td>0.569819</td>\n",
       "      <td>0.999998</td>\n",
       "      <td>0.784909</td>\n",
       "      <td>content</td>\n",
       "    </tr>\n",
       "    <tr>\n",
       "      <th>10</th>\n",
       "      <td>B07HVFRVP2</td>\n",
       "      <td>Front+Back Shell Housing Case Cover Protector ...</td>\n",
       "      <td>0.608591</td>\n",
       "      <td>0.954937</td>\n",
       "      <td>0.781764</td>\n",
       "      <td>content</td>\n",
       "    </tr>\n",
       "    <tr>\n",
       "      <th>1</th>\n",
       "      <td>B000EA6VX6</td>\n",
       "      <td>Vet Emergency</td>\n",
       "      <td>0.654552</td>\n",
       "      <td>0.894227</td>\n",
       "      <td>0.774390</td>\n",
       "      <td>content</td>\n",
       "    </tr>\n",
       "    <tr>\n",
       "      <th>8</th>\n",
       "      <td>B077QJPJQ6</td>\n",
       "      <td>Replacement Full Housing Shell Cover Case for ...</td>\n",
       "      <td>0.617040</td>\n",
       "      <td>0.896279</td>\n",
       "      <td>0.756659</td>\n",
       "      <td>content</td>\n",
       "    </tr>\n",
       "    <tr>\n",
       "      <th>15</th>\n",
       "      <td>B08DY7MZ1X</td>\n",
       "      <td>LICHIFIT Gamepad Shell DIY Controller Housing ...</td>\n",
       "      <td>0.568416</td>\n",
       "      <td>0.920143</td>\n",
       "      <td>0.744279</td>\n",
       "      <td>content</td>\n",
       "    </tr>\n",
       "    <tr>\n",
       "      <th>12</th>\n",
       "      <td>B081V6T61D</td>\n",
       "      <td>New Replacement Top Upper Housing Shell Case C...</td>\n",
       "      <td>0.506672</td>\n",
       "      <td>0.891076</td>\n",
       "      <td>0.698874</td>\n",
       "      <td>content</td>\n",
       "    </tr>\n",
       "    <tr>\n",
       "      <th>0</th>\n",
       "      <td>B00008I8RE</td>\n",
       "      <td>Vet Emergency 2 - PC/Mac</td>\n",
       "      <td>0.382812</td>\n",
       "      <td>0.900320</td>\n",
       "      <td>0.641566</td>\n",
       "      <td>content</td>\n",
       "    </tr>\n",
       "    <tr>\n",
       "      <th>7</th>\n",
       "      <td>B00WPKR6AA</td>\n",
       "      <td>Controller Front Shell for PS4 Controller - Ca...</td>\n",
       "      <td>0.158524</td>\n",
       "      <td>0.904806</td>\n",
       "      <td>0.531665</td>\n",
       "      <td>content</td>\n",
       "    </tr>\n",
       "    <tr>\n",
       "      <th>5</th>\n",
       "      <td>B00GIK3YAO</td>\n",
       "      <td>PowerA MOGA Hero Power - Electronic Games</td>\n",
       "      <td>0.064414</td>\n",
       "      <td>0.573615</td>\n",
       "      <td>0.319015</td>\n",
       "      <td>content</td>\n",
       "    </tr>\n",
       "    <tr>\n",
       "      <th>16</th>\n",
       "      <td>B08NT6NMZ3</td>\n",
       "      <td>KIWI design Upgraded Face Cushion Cover Pad Co...</td>\n",
       "      <td>0.008075</td>\n",
       "      <td>0.555841</td>\n",
       "      <td>0.281958</td>\n",
       "      <td>content</td>\n",
       "    </tr>\n",
       "    <tr>\n",
       "      <th>3</th>\n",
       "      <td>B009VIKJUS</td>\n",
       "      <td>12 Month Xbox Music Pass - Xbox One Digital Code</td>\n",
       "      <td>0.129525</td>\n",
       "      <td>0.391122</td>\n",
       "      <td>0.260323</td>\n",
       "      <td>content</td>\n",
       "    </tr>\n",
       "    <tr>\n",
       "      <th>17</th>\n",
       "      <td>B0925VYS82</td>\n",
       "      <td>PS4 Wired Controller,Wired PS4 Game Controller...</td>\n",
       "      <td>0.146610</td>\n",
       "      <td>0.310933</td>\n",
       "      <td>0.228771</td>\n",
       "      <td>content</td>\n",
       "    </tr>\n",
       "    <tr>\n",
       "      <th>6</th>\n",
       "      <td>B00KJGJPU6</td>\n",
       "      <td>Rocksmith 2014 Edition with Real Tone Cable (PS4)</td>\n",
       "      <td>0.011238</td>\n",
       "      <td>0.442267</td>\n",
       "      <td>0.226752</td>\n",
       "      <td>content</td>\n",
       "    </tr>\n",
       "    <tr>\n",
       "      <th>19</th>\n",
       "      <td>B0BNJZDJGP</td>\n",
       "      <td>RG353V Handheld Game Console 3.5 Inch IPS Scre...</td>\n",
       "      <td>0.035495</td>\n",
       "      <td>0.394677</td>\n",
       "      <td>0.215086</td>\n",
       "      <td>content</td>\n",
       "    </tr>\n",
       "    <tr>\n",
       "      <th>2</th>\n",
       "      <td>B000S8JXAM</td>\n",
       "      <td>Naruto: Clash of Ninja Revolution - Nintendo Wii</td>\n",
       "      <td>0.186093</td>\n",
       "      <td>0.133802</td>\n",
       "      <td>0.159947</td>\n",
       "      <td>both</td>\n",
       "    </tr>\n",
       "    <tr>\n",
       "      <th>11</th>\n",
       "      <td>B07QYRF333</td>\n",
       "      <td>Portable Dock for Nintendo Switch - innoAura R...</td>\n",
       "      <td>0.000000</td>\n",
       "      <td>0.136023</td>\n",
       "      <td>0.068012</td>\n",
       "      <td>content</td>\n",
       "    </tr>\n",
       "    <tr>\n",
       "      <th>13</th>\n",
       "      <td>B083TZM57S</td>\n",
       "      <td>ENDGAME GEAR XM1 RGB Gaming Mouse, Programmabl...</td>\n",
       "      <td>0.064106</td>\n",
       "      <td>0.038115</td>\n",
       "      <td>0.051110</td>\n",
       "      <td>both</td>\n",
       "    </tr>\n",
       "    <tr>\n",
       "      <th>4</th>\n",
       "      <td>B00FAOKV1Y</td>\n",
       "      <td>AULA Dragon Tooth 3 Color Backlit LED Illumina...</td>\n",
       "      <td>0.041050</td>\n",
       "      <td>0.000000</td>\n",
       "      <td>0.020525</td>\n",
       "      <td>both</td>\n",
       "    </tr>\n",
       "  </tbody>\n",
       "</table>\n",
       "</div>"
      ],
      "text/plain": [
       "   parent_asin                                              title  \\\n",
       "14  B088TLK92N  Gamepad Shell DIY Controller Housing Case Cove...   \n",
       "18  B0BG92X25C  Front + Back Housing Shell Case Cover Replacem...   \n",
       "9   B07FJZL85Q  Front+Back Shell Housing Case Cover Protector ...   \n",
       "10  B07HVFRVP2  Front+Back Shell Housing Case Cover Protector ...   \n",
       "1   B000EA6VX6                                      Vet Emergency   \n",
       "8   B077QJPJQ6  Replacement Full Housing Shell Cover Case for ...   \n",
       "15  B08DY7MZ1X  LICHIFIT Gamepad Shell DIY Controller Housing ...   \n",
       "12  B081V6T61D  New Replacement Top Upper Housing Shell Case C...   \n",
       "0   B00008I8RE                           Vet Emergency 2 - PC/Mac   \n",
       "7   B00WPKR6AA  Controller Front Shell for PS4 Controller - Ca...   \n",
       "5   B00GIK3YAO          PowerA MOGA Hero Power - Electronic Games   \n",
       "16  B08NT6NMZ3  KIWI design Upgraded Face Cushion Cover Pad Co...   \n",
       "3   B009VIKJUS   12 Month Xbox Music Pass - Xbox One Digital Code   \n",
       "17  B0925VYS82  PS4 Wired Controller,Wired PS4 Game Controller...   \n",
       "6   B00KJGJPU6  Rocksmith 2014 Edition with Real Tone Cable (PS4)   \n",
       "19  B0BNJZDJGP  RG353V Handheld Game Console 3.5 Inch IPS Scre...   \n",
       "2   B000S8JXAM   Naruto: Clash of Ninja Revolution - Nintendo Wii   \n",
       "11  B07QYRF333  Portable Dock for Nintendo Switch - innoAura R...   \n",
       "13  B083TZM57S  ENDGAME GEAR XM1 RGB Gaming Mouse, Programmabl...   \n",
       "4   B00FAOKV1Y  AULA Dragon Tooth 3 Color Backlit LED Illumina...   \n",
       "\n",
       "    score_rating  score_content  final_score main_contributor  \n",
       "14      0.999997       0.959850     0.979924             both  \n",
       "18      0.715899       0.912005     0.813952          content  \n",
       "9       0.569819       0.999998     0.784909          content  \n",
       "10      0.608591       0.954937     0.781764          content  \n",
       "1       0.654552       0.894227     0.774390          content  \n",
       "8       0.617040       0.896279     0.756659          content  \n",
       "15      0.568416       0.920143     0.744279          content  \n",
       "12      0.506672       0.891076     0.698874          content  \n",
       "0       0.382812       0.900320     0.641566          content  \n",
       "7       0.158524       0.904806     0.531665          content  \n",
       "5       0.064414       0.573615     0.319015          content  \n",
       "16      0.008075       0.555841     0.281958          content  \n",
       "3       0.129525       0.391122     0.260323          content  \n",
       "17      0.146610       0.310933     0.228771          content  \n",
       "6       0.011238       0.442267     0.226752          content  \n",
       "19      0.035495       0.394677     0.215086          content  \n",
       "2       0.186093       0.133802     0.159947             both  \n",
       "11      0.000000       0.136023     0.068012          content  \n",
       "13      0.064106       0.038115     0.051110             both  \n",
       "4       0.041050       0.000000     0.020525             both  "
      ]
     },
     "execution_count": 169,
     "metadata": {},
     "output_type": "execute_result"
    }
   ],
   "source": [
    "top_n_hybrid"
   ]
  },
  {
   "cell_type": "code",
   "execution_count": 170,
   "metadata": {},
   "outputs": [
    {
     "data": {
      "text/plain": [
       "573                                    Zoo Vet jc - PC/Mac\n",
       "323      Limited Edition Replacement Full Cover Shell C...\n",
       "1020     753 Keyboard Mouse Converter for PS3/PS4/PS5/X...\n",
       "225      Nintendo Switch Case, Abida PU Leather Protect...\n",
       "601      Game Card Storage Holder Hard Case for New Nin...\n",
       "100      PDP Xbox One Mars Starter Pack - Big Buck Hunt...\n",
       "83187    Nintendo NES Game Cartridge Dust Cover/sleeve ...\n",
       "187                              CSDC Legacy Of The Stones\n",
       "634      E-MODS GAMING Switch Charging Dock, Foldable T...\n",
       "Name: title, dtype: object"
      ]
     },
     "execution_count": 170,
     "metadata": {},
     "output_type": "execute_result"
    }
   ],
   "source": [
    "get_items(guest_history_mapped)['title']"
   ]
  },
  {
   "cell_type": "code",
   "execution_count": 171,
   "metadata": {},
   "outputs": [
    {
     "data": {
      "text/plain": [
       "14    Gamepad Shell DIY Controller Housing Case Cove...\n",
       "18    Front + Back Housing Shell Case Cover Replacem...\n",
       "9     Front+Back Shell Housing Case Cover Protector ...\n",
       "10    Front+Back Shell Housing Case Cover Protector ...\n",
       "1                                         Vet Emergency\n",
       "8     Replacement Full Housing Shell Cover Case for ...\n",
       "15    LICHIFIT Gamepad Shell DIY Controller Housing ...\n",
       "12    New Replacement Top Upper Housing Shell Case C...\n",
       "0                              Vet Emergency 2 - PC/Mac\n",
       "7     Controller Front Shell for PS4 Controller - Ca...\n",
       "5             PowerA MOGA Hero Power - Electronic Games\n",
       "16    KIWI design Upgraded Face Cushion Cover Pad Co...\n",
       "3      12 Month Xbox Music Pass - Xbox One Digital Code\n",
       "17    PS4 Wired Controller,Wired PS4 Game Controller...\n",
       "6     Rocksmith 2014 Edition with Real Tone Cable (PS4)\n",
       "19    RG353V Handheld Game Console 3.5 Inch IPS Scre...\n",
       "2      Naruto: Clash of Ninja Revolution - Nintendo Wii\n",
       "11    Portable Dock for Nintendo Switch - innoAura R...\n",
       "13    ENDGAME GEAR XM1 RGB Gaming Mouse, Programmabl...\n",
       "4     AULA Dragon Tooth 3 Color Backlit LED Illumina...\n",
       "Name: title, dtype: object"
      ]
     },
     "execution_count": 171,
     "metadata": {},
     "output_type": "execute_result"
    }
   ],
   "source": [
    "top_n_hybrid['title']"
   ]
  }
 ],
 "metadata": {
  "kernelspec": {
   "display_name": "Python 3",
   "language": "python",
   "name": "python3"
  },
  "language_info": {
   "codemirror_mode": {
    "name": "ipython",
    "version": 3
   },
   "file_extension": ".py",
   "mimetype": "text/x-python",
   "name": "python",
   "nbconvert_exporter": "python",
   "pygments_lexer": "ipython3",
   "version": "3.12.6"
  }
 },
 "nbformat": 4,
 "nbformat_minor": 2
}
