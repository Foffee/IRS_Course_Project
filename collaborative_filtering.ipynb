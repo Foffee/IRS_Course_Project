{
 "cells": [
  {
   "cell_type": "markdown",
   "metadata": {},
   "source": [
    "## Collaborative Filtering"
   ]
  },
  {
   "cell_type": "markdown",
   "metadata": {},
   "source": [
    "### Loading Datasets"
   ]
  },
  {
   "cell_type": "markdown",
   "metadata": {},
   "source": [
    "The reviews and items are from the output of the `preprocessing.ipynb` file"
   ]
  },
  {
   "cell_type": "code",
   "execution_count": 1,
   "metadata": {},
   "outputs": [],
   "source": [
    "import pandas as pd\n",
    "\n",
    "reviews = pd.read_csv('../datasets/slimmed/reviews.csv')\n",
    "items = pd.read_csv('../datasets/slimmed/items.csv')"
   ]
  },
  {
   "cell_type": "markdown",
   "metadata": {},
   "source": [
    "Helper function to get title of item from its id (parent_asin)"
   ]
  },
  {
   "cell_type": "code",
   "execution_count": 84,
   "metadata": {},
   "outputs": [],
   "source": [
    "def get_item_name_from_id(parent_asin):\n",
    "\treturn items[items['parent_asin'] == parent_asin]['title'].unique()[0]"
   ]
  },
  {
   "cell_type": "markdown",
   "metadata": {},
   "source": [
    "### Creating Sparse Matrix"
   ]
  },
  {
   "cell_type": "markdown",
   "metadata": {},
   "source": [
    "The size of the user-item matrix would be too large to fit in memory and would contain many zero values anyway"
   ]
  },
  {
   "cell_type": "code",
   "execution_count": 2,
   "metadata": {},
   "outputs": [
    {
     "data": {
      "text/plain": [
       "('2,282,093', '121,820', '278,004,569,260')"
      ]
     },
     "execution_count": 2,
     "metadata": {},
     "output_type": "execute_result"
    }
   ],
   "source": [
    "num_user_ids, num_item_ids = reviews['user_id'].nunique(), items['parent_asin'].nunique()\n",
    "format(num_user_ids, ','), format(num_item_ids, ','), format(num_user_ids * num_item_ids, ',')"
   ]
  },
  {
   "cell_type": "markdown",
   "metadata": {},
   "source": [
    "The sparse matrix and mappings from `user_item_matrix` are imported into `uim`"
   ]
  },
  {
   "cell_type": "code",
   "execution_count": 3,
   "metadata": {},
   "outputs": [],
   "source": [
    "import nbformat\n",
    "\n",
    "# Load the notebook\n",
    "with open('user_item_matrix.ipynb', 'r', encoding='utf-8') as f:\n",
    "\tnb = nbformat.read(f, as_version=4)\n",
    "\n",
    "# Execute all code cells and store data in the uim dict\n",
    "uim = {}\n",
    "for cell in nb.cells:\n",
    "\tif cell.cell_type == 'code':\n",
    "\t\texec(cell.source, uim)"
   ]
  },
  {
   "cell_type": "markdown",
   "metadata": {},
   "source": [
    "### ALS Model (Alternating Least Squares)"
   ]
  },
  {
   "cell_type": "markdown",
   "metadata": {},
   "source": [
    "`implicit` library already uses multithreading so `BLAS` threads should be set to 1 to avoid overhead"
   ]
  },
  {
   "cell_type": "code",
   "execution_count": 4,
   "metadata": {},
   "outputs": [
    {
     "data": {
      "text/plain": [
       "<threadpoolctl.threadpool_limits at 0x1c37f3b5a60>"
      ]
     },
     "execution_count": 4,
     "metadata": {},
     "output_type": "execute_result"
    }
   ],
   "source": [
    "import threadpoolctl \n",
    "threadpoolctl.threadpool_limits(1, 'blas')"
   ]
  },
  {
   "cell_type": "markdown",
   "metadata": {},
   "source": [
    "#### Transforming CSR Ratings To Confidence"
   ]
  },
  {
   "cell_type": "markdown",
   "metadata": {},
   "source": [
    "A core issue here is that implicit's ALS model works with implicit feedback and not explicit ones such as rating "
   ]
  },
  {
   "cell_type": "markdown",
   "metadata": {},
   "source": [
    "The following strategy is proposed for handling this<br><br>\n",
    "For every item with mean user rating $\\mu_u$ and standard deviation $\\sigma_u$,<br>\n",
    "o If an item rating is less than $\\mu_u$, then it is set to 0 (no confidence)<br>\n",
    "o Otherwise, it is scaled to a value in the range [1, 5] depending on $\\mu_u$ and $\\sigma_u$ (or scaled from [mean, 5] to [1, 5])"
   ]
  },
  {
   "cell_type": "code",
   "execution_count": 9,
   "metadata": {},
   "outputs": [],
   "source": [
    "import numpy as np\n",
    "\n",
    "# Extract components\n",
    "data = uim['sparse_matrix_csr'].data\n",
    "indices = uim['sparse_matrix_csr'].indices\n",
    "indptr = uim['sparse_matrix_csr'].indptr\n",
    "\n",
    "# Compute per-user mean ratings\n",
    "n_users = uim['sparse_matrix_csr'].shape[0]\n",
    "\n",
    "user_means = np.zeros(n_users)\n",
    "max_user_ratings = np.zeros(n_users)\n",
    "\n",
    "for user in range(n_users):\n",
    "\tstart, end = indptr[user], indptr[user + 1]\n",
    "\tuser_ratings = data[start:end]\n",
    "\n",
    "\tif len(user_ratings) > 0:\n",
    "\t\tuser_means[user] = np.mean(user_ratings)\n",
    "\t\tmax_user_ratings[user] = np.max(user_ratings)\n",
    "\telse:\n",
    "\t\tuser_means[user] = 0.0\n",
    "\t\tmax_user_ratings[user] = 1"
   ]
  },
  {
   "cell_type": "markdown",
   "metadata": {},
   "source": [
    "`ALPHA` is scaling factor that determines how strongly the higher ratings are trusted over low ones."
   ]
  },
  {
   "cell_type": "code",
   "execution_count": 52,
   "metadata": {},
   "outputs": [],
   "source": [
    "ALPHA = 80"
   ]
  },
  {
   "cell_type": "code",
   "execution_count": 53,
   "metadata": {},
   "outputs": [],
   "source": [
    "new_data = data.copy()\n",
    "\n",
    "for user in range(n_users):\n",
    "\tstart, end = indptr[user], indptr[user + 1]\n",
    "\tfor i in range(start, end):\n",
    "\t\trating = data[i]\n",
    "\t\tmean = user_means[user]\n",
    "\t\tmax_rating = max_user_ratings[user]\n",
    "\n",
    "\t\tif rating < mean:\n",
    "\t\t\tnew_data[i] = 0  # no confidence\n",
    "\t\telse:\n",
    "\t\t\t# # If user only gave ratings of 5, then it can be considered as the \"neutral\" rating\n",
    "\t\t\t# if mean == 5:\n",
    "\t\t\t#     conf = 3\n",
    "\t\t\t# # Linear map from [mean, 5] to [1, 5]\n",
    "\t\t\t# else:\n",
    "\t\t\t#     conf = (rating - mean) / (5 - mean) * 4 + 1\n",
    "\n",
    "\t\t\ts = 0\n",
    "\t\t\tif max_rating == mean:\n",
    "\t\t\t\ts = 1.0\n",
    "\t\t\telse:\n",
    "\t\t\t\ts = (rating - mean) / (max_rating - mean)\n",
    "\n",
    "\t\t\tnew_data[i] = 1 + ALPHA * s"
   ]
  },
  {
   "cell_type": "code",
   "execution_count": 54,
   "metadata": {},
   "outputs": [],
   "source": [
    "from scipy.sparse import csr_matrix\n",
    "confidence_csr = csr_matrix((new_data, indices, indptr), shape=uim['sparse_matrix_csr'].shape)"
   ]
  },
  {
   "cell_type": "code",
   "execution_count": 55,
   "metadata": {},
   "outputs": [],
   "source": [
    "confidence_csr.eliminate_zeros()"
   ]
  },
  {
   "cell_type": "markdown",
   "metadata": {},
   "source": [
    "The ALS model is trained"
   ]
  },
  {
   "cell_type": "code",
   "execution_count": 56,
   "metadata": {},
   "outputs": [
    {
     "data": {
      "application/vnd.jupyter.widget-view+json": {
       "model_id": "2516931d37e84cc79f8a7d5dbab3b4c7",
       "version_major": 2,
       "version_minor": 0
      },
      "text/plain": [
       "  0%|          | 0/15 [00:00<?, ?it/s]"
      ]
     },
     "metadata": {},
     "output_type": "display_data"
    }
   ],
   "source": [
    "from implicit.als import AlternatingLeastSquares\n",
    "\n",
    "# Train ALS model\n",
    "als_model = AlternatingLeastSquares(factors=50, iterations=15, regularization=0.1, random_state=42)\n",
    "als_model.fit(confidence_csr)"
   ]
  },
  {
   "cell_type": "markdown",
   "metadata": {},
   "source": [
    "#### Saving ALS Model"
   ]
  },
  {
   "cell_type": "code",
   "execution_count": 106,
   "metadata": {},
   "outputs": [],
   "source": [
    "import pickle\n",
    "import gzip\n",
    "\n",
    "# Save to a pickle file\n",
    "with gzip.open('../data_structures/als_model.pkl', 'wb', compresslevel=5) as f:\n",
    "\tpickle.dump(als_model, f)"
   ]
  },
  {
   "cell_type": "markdown",
   "metadata": {},
   "source": [
    "#### Loading ALS Model"
   ]
  },
  {
   "cell_type": "code",
   "execution_count": 121,
   "metadata": {},
   "outputs": [],
   "source": [
    "import pickle\n",
    "import gzip\n",
    "\n",
    "from typing import cast\n",
    "from implicit.cpu.als import AlternatingLeastSquares\n",
    "\n",
    "# Load the compressed file\n",
    "with gzip.open('../data_structures/als_model.pkl', 'rb') as f:\n",
    "\tals_model = cast(AlternatingLeastSquares, pickle.load(f))"
   ]
  },
  {
   "cell_type": "markdown",
   "metadata": {},
   "source": [
    "#### Predicting User Ratings"
   ]
  },
  {
   "cell_type": "markdown",
   "metadata": {},
   "source": [
    "A test run where the top 5 items are recommended for user with id from the map"
   ]
  },
  {
   "cell_type": "code",
   "execution_count": 108,
   "metadata": {},
   "outputs": [
    {
     "name": "stdout",
     "output_type": "stream",
     "text": [
      "Top 15 recommended items for User AFTC6ZR5IKNRDG5JCPVNVMU3XV2Q:\n",
      "Item B009GE437W - Score: 0.3135\n",
      "Item B087SHFL9B - Score: 0.3040\n",
      "Item B07ZJ6RY1W - Score: 0.2774\n",
      "Item B00DDILSBG - Score: 0.2502\n",
      "Item B07L3D7C21 - Score: 0.2393\n",
      "Item B0015AARJI - Score: 0.2247\n",
      "Item B08JHZHWZ3 - Score: 0.2195\n",
      "Item B0C3BNJFBV - Score: 0.2191\n",
      "Item B0BMGHMP23 - Score: 0.2142\n",
      "Item B016XBGWAQ - Score: 0.2042\n",
      "Item B08F4D36D9 - Score: 0.2031\n",
      "Item B07213YKCX - Score: 0.2007\n",
      "Item B07R6NYNBJ - Score: 0.1996\n",
      "Item B06Y2LGTW3 - Score: 0.1964\n",
      "Item B01EJ9DMQQ - Score: 0.1947\n"
     ]
    }
   ],
   "source": [
    "user_id = 2  # Target user\n",
    "num_recommendations = 15  # How many items to recommend\n",
    "\n",
    "# Get top N recommended items and their scores\n",
    "recommended_items = als_model.recommend(\n",
    "\tuser_id, uim['sparse_matrix_csr'][user_id], N=num_recommendations\n",
    ")\n",
    "\n",
    "recommendations, scores = recommended_items\n",
    "recommendations_scores = zip(recommendations, scores)\n",
    "\n",
    "print(f'Top {num_recommendations} recommended items for User {uim['reverse_user_map'][user_id]}:')\n",
    "for item_id, score in recommendations_scores:\n",
    "\tprint(f'Item {uim['reverse_item_map'][item_id]} - Score: {score:.4f}')"
   ]
  },
  {
   "cell_type": "code",
   "execution_count": 109,
   "metadata": {},
   "outputs": [
    {
     "data": {
      "text/html": [
       "<div>\n",
       "<style scoped>\n",
       "    .dataframe tbody tr th:only-of-type {\n",
       "        vertical-align: middle;\n",
       "    }\n",
       "\n",
       "    .dataframe tbody tr th {\n",
       "        vertical-align: top;\n",
       "    }\n",
       "\n",
       "    .dataframe thead th {\n",
       "        text-align: right;\n",
       "    }\n",
       "</style>\n",
       "<table border=\"1\" class=\"dataframe\">\n",
       "  <thead>\n",
       "    <tr style=\"text-align: right;\">\n",
       "      <th></th>\n",
       "      <th>parent_asin</th>\n",
       "      <th>rating</th>\n",
       "    </tr>\n",
       "  </thead>\n",
       "  <tbody>\n",
       "    <tr>\n",
       "      <th>3</th>\n",
       "      <td>B0BCHWZX95</td>\n",
       "      <td>5</td>\n",
       "    </tr>\n",
       "    <tr>\n",
       "      <th>4</th>\n",
       "      <td>B00HUWA45W</td>\n",
       "      <td>5</td>\n",
       "    </tr>\n",
       "  </tbody>\n",
       "</table>\n",
       "</div>"
      ],
      "text/plain": [
       "  parent_asin  rating\n",
       "3  B0BCHWZX95       5\n",
       "4  B00HUWA45W       5"
      ]
     },
     "execution_count": 109,
     "metadata": {},
     "output_type": "execute_result"
    }
   ],
   "source": [
    "already_rated_user_items = reviews[reviews['user_id'] == uim['reverse_user_map'][user_id]][['title', 'parent_asin', 'text', 'rating']]\n",
    "already_rated_user_items[['parent_asin', 'rating']]"
   ]
  },
  {
   "cell_type": "code",
   "execution_count": 110,
   "metadata": {},
   "outputs": [
    {
     "data": {
      "text/html": [
       "<div>\n",
       "<style scoped>\n",
       "    .dataframe tbody tr th:only-of-type {\n",
       "        vertical-align: middle;\n",
       "    }\n",
       "\n",
       "    .dataframe tbody tr th {\n",
       "        vertical-align: top;\n",
       "    }\n",
       "\n",
       "    .dataframe thead th {\n",
       "        text-align: right;\n",
       "    }\n",
       "</style>\n",
       "<table border=\"1\" class=\"dataframe\">\n",
       "  <thead>\n",
       "    <tr style=\"text-align: right;\">\n",
       "      <th></th>\n",
       "      <th>title</th>\n",
       "    </tr>\n",
       "  </thead>\n",
       "  <tbody>\n",
       "    <tr>\n",
       "      <th>4085</th>\n",
       "      <td>PowerA Enhanced Wireless Controller for Ninten...</td>\n",
       "    </tr>\n",
       "    <tr>\n",
       "      <th>18048</th>\n",
       "      <td>KontrolFreek FPS Freek CQC Signature - Xbox One</td>\n",
       "    </tr>\n",
       "  </tbody>\n",
       "</table>\n",
       "</div>"
      ],
      "text/plain": [
       "                                                   title\n",
       "4085   PowerA Enhanced Wireless Controller for Ninten...\n",
       "18048    KontrolFreek FPS Freek CQC Signature - Xbox One"
      ]
     },
     "execution_count": 110,
     "metadata": {},
     "output_type": "execute_result"
    }
   ],
   "source": [
    "items[items['parent_asin'].isin(already_rated_user_items['parent_asin'])][['title']]"
   ]
  },
  {
   "cell_type": "code",
   "execution_count": 111,
   "metadata": {},
   "outputs": [
    {
     "data": {
      "text/plain": [
       "(array([3, 4]), array([0.686079  , 0.00524818], dtype=float32))"
      ]
     },
     "execution_count": 111,
     "metadata": {},
     "output_type": "execute_result"
    }
   ],
   "source": [
    "als_model.recommend(\n",
    "\tuser_id, uim['sparse_matrix_csr'][user_id], items=[3, 4], filter_already_liked_items=False\n",
    ")"
   ]
  },
  {
   "cell_type": "markdown",
   "metadata": {},
   "source": [
    "Those confidence scores in the items are now converted back to user ratings"
   ]
  },
  {
   "cell_type": "code",
   "execution_count": 112,
   "metadata": {},
   "outputs": [
    {
     "data": {
      "text/plain": [
       "(2, 'AFTC6ZR5IKNRDG5JCPVNVMU3XV2Q', np.float64(5.0), np.float64(5.0))"
      ]
     },
     "execution_count": 112,
     "metadata": {},
     "output_type": "execute_result"
    }
   ],
   "source": [
    "user_id, uim['reverse_user_map'][user_id], user_means[user_id], max_user_ratings[user_id]"
   ]
  },
  {
   "cell_type": "markdown",
   "metadata": {},
   "source": [
    "A helper function to convert confidence scores to predicted ratings"
   ]
  },
  {
   "cell_type": "code",
   "execution_count": 113,
   "metadata": {},
   "outputs": [],
   "source": [
    "def confidence_to_predicted_rating(user_id, confidences):\n",
    "    mean = user_means[user_id]\n",
    "    max_rating = max_user_ratings[user_id]\n",
    "\n",
    "    s = (confidences - 1) / ALPHA\n",
    "    return mean + s * (max_rating - mean)"
   ]
  },
  {
   "cell_type": "markdown",
   "metadata": {},
   "source": [
    "The model correctly predicted the user's ratings on items they'd seen before"
   ]
  },
  {
   "cell_type": "code",
   "execution_count": 114,
   "metadata": {},
   "outputs": [
    {
     "data": {
      "text/plain": [
       "array([5., 5.])"
      ]
     },
     "execution_count": 114,
     "metadata": {},
     "output_type": "execute_result"
    }
   ],
   "source": [
    "confidence_to_predicted_rating(user_id, als_model.recommend(\n",
    "\tuser_id, uim['sparse_matrix_csr'][user_id], items=[3, 4], filter_already_liked_items=False\n",
    ")[1])"
   ]
  },
  {
   "cell_type": "markdown",
   "metadata": {},
   "source": [
    "The predicted ratings that the user would give to the recommended items"
   ]
  },
  {
   "cell_type": "code",
   "execution_count": 115,
   "metadata": {},
   "outputs": [
    {
     "data": {
      "text/plain": [
       "[(np.int32(769), np.float64(5.0)),\n",
       " (np.int32(1282), np.float64(5.0)),\n",
       " (np.int32(187), np.float64(5.0)),\n",
       " (np.int32(1013), np.float64(5.0)),\n",
       " (np.int32(3148), np.float64(5.0)),\n",
       " (np.int32(4351), np.float64(5.0)),\n",
       " (np.int32(927), np.float64(5.0)),\n",
       " (np.int32(1760), np.float64(5.0)),\n",
       " (np.int32(3999), np.float64(5.0)),\n",
       " (np.int32(2017), np.float64(5.0)),\n",
       " (np.int32(139), np.float64(5.0)),\n",
       " (np.int32(2740), np.float64(5.0)),\n",
       " (np.int32(2712), np.float64(5.0)),\n",
       " (np.int32(1521), np.float64(5.0)),\n",
       " (np.int32(153), np.float64(5.0))]"
      ]
     },
     "execution_count": 115,
     "metadata": {},
     "output_type": "execute_result"
    }
   ],
   "source": [
    "list(zip(recommendations, confidence_to_predicted_rating(user_id, recommendations)))"
   ]
  },
  {
   "cell_type": "markdown",
   "metadata": {},
   "source": [
    "The names of the recommended items"
   ]
  },
  {
   "cell_type": "code",
   "execution_count": 116,
   "metadata": {},
   "outputs": [
    {
     "data": {
      "text/plain": [
       "['Remote Plus, Mario - Nintendo Wii',\n",
       " 'Super Mario Odyssey - Nintendo Switch',\n",
       " '$45 Nintendo eShop Gift Card [Digital Code]',\n",
       " 'Final Fantasy XV Deluxe Edition - PlayStation 4',\n",
       " 'Nintendo Switch Online 12-Month Individual Membership [Digital Code]',\n",
       " 'PlayStation 3 Dualshock 3 Wireless Controller (Black)',\n",
       " 'Super Mario 3D All-Stars - Nintendo Switch, 175 pieces',\n",
       " 'Logitech G815 LIGHTSYNC RGB Mechanical Gaming Keyboard with Low Profile GL Tactile switch, 5 programmable G-keys,USB Passthrough, dedicated media control - Linear, Black',\n",
       " 'Logitech G502 Lightspeed Wireless Gaming Mouse with Hero 25K Sensor, PowerPlay Compatible, Tunable Weights and Lightsync RGB - Black',\n",
       " 'Steam Link',\n",
       " 'Pokémon Sword + Pokémon Sword Expansion Pass - Nintendo Switch',\n",
       " 'Pokémon Ultra Sun and Ultra Moon Steelbook Dual Pack - Nintendo 3DS',\n",
       " 'Logitech G635 DTS, X 7.1 Surround Sound LIGHTSYNC RGB PC Gaming Headset',\n",
       " 'Power Supply Brick for Xbox One, Xbox Power Supply Brick Cord AC Adapter Power Supply Charger Replacement for Xbox One',\n",
       " 'Kootek Vertical Stand for PS4 Slim / Regular Playstation 4 Cooling Fan Controller Charging Station with Game Storage and Dualshock Charger ( Not for PS4 Pro )']"
      ]
     },
     "execution_count": 116,
     "metadata": {},
     "output_type": "execute_result"
    }
   ],
   "source": [
    "list(map(lambda i: get_item_name_from_id(uim['reverse_item_map'][i]), recommendations))"
   ]
  },
  {
   "cell_type": "markdown",
   "metadata": {},
   "source": [
    "### Finding Similar Users"
   ]
  },
  {
   "cell_type": "code",
   "execution_count": 147,
   "metadata": {},
   "outputs": [
    {
     "name": "stdout",
     "output_type": "stream",
     "text": [
      "Top 10 users similar to User AFTC6ZR5IKNRDG5JCPVNVMU3XV2Q:\n",
      "User AGOIYLLZ563YGSOCOQKCBH2FOAIQ - Similarity Score: 0.9977\n",
      "User AG7XTSDKYIHMEUQ7S7I66GOBZBZQ - Similarity Score: 0.9977\n",
      "User AEVD66QO6BYDVTAN73RB7VXETLFQ - Similarity Score: 0.9976\n",
      "User AEOBH5LQGQHMW6CMUNOQ2DULKQ3Q - Similarity Score: 0.9976\n",
      "User AEBMZFW7E6HKMJDBM3YOFX6PCEPQ - Similarity Score: 0.9976\n",
      "User AFDZ3XB6OJF2SRSJKJYIWZTZBC5A - Similarity Score: 0.9976\n",
      "User AHDRCQN6PLDSKTCGGTMRK23K3BZA - Similarity Score: 0.9976\n",
      "User AGBQL7LTUQ5GDCHH4CROBNN6NUYQ - Similarity Score: 0.9976\n",
      "User AEFNJ5ZXL4ZT5HVBETVRLX75TN6A - Similarity Score: 0.9976\n"
     ]
    }
   ],
   "source": [
    "num_similar = 10  # How many similar items to find\n",
    "top_similar_users = als_model.similar_users(user_id, N=num_similar+1)\n",
    "\n",
    "similar_users, scores = top_similar_users\n",
    "similar_users_scores = list(zip(similar_users[1:], scores[1:]))\n",
    "\n",
    "print(f'Top {num_similar} users similar to User {uim['reverse_user_map'][user_id]}:')\n",
    "for sim_user_id, similarity in similar_users_scores[1:]:\n",
    "\tprint(f'User {uim['reverse_user_map'][sim_user_id]} - Similarity Score: {similarity:.4f}')"
   ]
  },
  {
   "cell_type": "markdown",
   "metadata": {},
   "source": [
    "#### Finding Similar Items"
   ]
  },
  {
   "cell_type": "code",
   "execution_count": 117,
   "metadata": {},
   "outputs": [
    {
     "name": "stdout",
     "output_type": "stream",
     "text": [
      "Top 10 items similar to Item B09JY72CNG:\n",
      "Item B095J5JP9T - Similarity Score: 0.9978\n",
      "Item B09LBFSL1F - Similarity Score: 0.9962\n",
      "Item B07LBG68KV - Similarity Score: 0.8819\n",
      "Item B07PB4BDKD - Similarity Score: 0.8503\n",
      "Item B07LCRLXM7 - Similarity Score: 0.8308\n",
      "Item B09K7YM2TN - Similarity Score: 0.8277\n",
      "Item B07NTT87J9 - Similarity Score: 0.8267\n",
      "Item B08XX4WPB7 - Similarity Score: 0.8158\n",
      "Item B0B8XDYWG1 - Similarity Score: 0.8130\n",
      "Item B07GBSHTQK - Similarity Score: 0.8121\n"
     ]
    }
   ],
   "source": [
    "item_id = 12  # Target item\n",
    "num_similar = 10  # How many similar items to find\n",
    "\n",
    "# Get top N similar items and their similarity scores (+1 is added to skip the item itself later on)\n",
    "top_similar_items = als_model.similar_items(item_id, N=num_similar+1)\n",
    "\n",
    "similar_items, scores = top_similar_items\n",
    "similar_items_scores = list(zip(similar_items, scores))\n",
    "\n",
    "print(f'Top {num_similar} items similar to Item {uim['reverse_item_map'][item_id]}:')\n",
    "for sim_item_id, similarity in similar_items_scores[1:]:\n",
    "\tprint(f'Item {uim['reverse_item_map'][sim_item_id]} - Similarity Score: {similarity:.4f}')"
   ]
  },
  {
   "cell_type": "markdown",
   "metadata": {},
   "source": [
    "Very good and relevant recommendations for the given item (first in the list)"
   ]
  },
  {
   "cell_type": "code",
   "execution_count": 118,
   "metadata": {},
   "outputs": [
    {
     "data": {
      "text/plain": [
       "['Razer Goliathus Extended Chroma Gaming Mouse Pad: Customizable Chroma RGB Lighting - Soft, Cloth Material - Balanced Control & Speed - Non-Slip Rubber Base - Mercury White',\n",
       " 'Razer BlackWidow Mechanical Gaming Keyboard - Mercury Edition (Renewed)',\n",
       " 'Corsair Virtuoso RGB Wireless XT High-Fidelity Gaming Headset with Bluetooth and Spatial Audio - Works with Mac, PC, PS5, PS4, Xbox Series X/S - Slate (Renewed)',\n",
       " 'Amaping Retro Mechanical Keyboard Steampunk Style Pattern RGB Colorful LED Backlit USB Wired 87 Keys Gaming Keyboards for PUBG LOL Gamer Ergonomic Design (White)',\n",
       " 'Razer Abyssus Essential: True 7,200 DPI Optical Sensor - 3 Hyperesponse Buttons - Powered by Razer Chroma - Ambidextrous Ergonomic Gaming Mouse (Renewed)',\n",
       " 'Xbox One USB Hub Adapter,VSEER High Speed USB Hub Extension with 4 USB Ports for Xbox One Game Console Accessories(Third Party Product)-Black',\n",
       " '(Mouse + Grip Tape) Glorious Model O Wireless Gaming Mouse - RGB 69g Lightweight Wireless Gaming Mouse (Matte Black) + Glorious Gaming Mouse Grip Tape (Model O) (Bundle)',\n",
       " 'Razer Basilisk Gaming Mouse: 16,000 DPI Optical Sensor - Chroma RGB Lighting - 8 Programmable Buttons - Mechanical Switches - Customizable Scroll Resistance - Quartz Pink',\n",
       " 'KISLANE Soft Carrying Case Compatible with Oculus Quest 2 VR, Carrying Case for Oculus Quest 2 Headset Fits for Travel, Home, Outdoor, Large Size Compatible with Elite Strap(Black-Large)',\n",
       " 'Skin Sticker Compatible with Xbox Series S Console and Controllers Protective Vinyl Decal Wrap Cover Compatible with Microsoft Xbox Series S (America Flag)',\n",
       " 'IFYOO KMAX1 Keyboard and Mouse Adapter Converter for PS4 / Xbox One / Switch / PS3 - Compatible with PUBG, H1Z1 and Other Shooting Games']"
      ]
     },
     "execution_count": 118,
     "metadata": {},
     "output_type": "execute_result"
    }
   ],
   "source": [
    "list(map(get_item_name_from_id, map(lambda x: uim['reverse_item_map'][x], [item_id, *similar_items[1:]])))"
   ]
  },
  {
   "cell_type": "markdown",
   "metadata": {},
   "source": [
    "### Text Features"
   ]
  },
  {
   "cell_type": "markdown",
   "metadata": {},
   "source": [
    "A more powerful recommendation system can be built using the other features in the `items` dataset"
   ]
  },
  {
   "cell_type": "code",
   "execution_count": 119,
   "metadata": {},
   "outputs": [
    {
     "data": {
      "text/html": [
       "<div>\n",
       "<style scoped>\n",
       "    .dataframe tbody tr th:only-of-type {\n",
       "        vertical-align: middle;\n",
       "    }\n",
       "\n",
       "    .dataframe tbody tr th {\n",
       "        vertical-align: top;\n",
       "    }\n",
       "\n",
       "    .dataframe thead th {\n",
       "        text-align: right;\n",
       "    }\n",
       "</style>\n",
       "<table border=\"1\" class=\"dataframe\">\n",
       "  <thead>\n",
       "    <tr style=\"text-align: right;\">\n",
       "      <th></th>\n",
       "      <th>title</th>\n",
       "      <th>parent_asin</th>\n",
       "      <th>features</th>\n",
       "      <th>description</th>\n",
       "      <th>details</th>\n",
       "      <th>categories</th>\n",
       "    </tr>\n",
       "  </thead>\n",
       "  <tbody>\n",
       "    <tr>\n",
       "      <th>0</th>\n",
       "      <td>Phantasmagoria: A Puzzle of Flesh</td>\n",
       "      <td>B00069EVOG</td>\n",
       "      <td>['Windows 95']</td>\n",
       "      <td>[]</td>\n",
       "      <td>{'Best Sellers Rank': {'Video Games': 137612, ...</td>\n",
       "      <td>['Video Games', 'PC', 'Games']</td>\n",
       "    </tr>\n",
       "    <tr>\n",
       "      <th>1</th>\n",
       "      <td>NBA 2K17 - Early Tip Off Edition - PlayStation 4</td>\n",
       "      <td>B00Z9TLVK0</td>\n",
       "      <td>['The #1 rated NBA video game simulation serie...</td>\n",
       "      <td>['Following the record-breaking launch of NBA ...</td>\n",
       "      <td>{'Release date': 'September 16, 2016', 'Best S...</td>\n",
       "      <td>['Video Games', 'PlayStation 4', 'Games']</td>\n",
       "    </tr>\n",
       "    <tr>\n",
       "      <th>2</th>\n",
       "      <td>Nintendo Selects: The Legend of Zelda Ocarina ...</td>\n",
       "      <td>B07SZJZV88</td>\n",
       "      <td>['Authentic Nintendo Selects: The Legend of Ze...</td>\n",
       "      <td>[]</td>\n",
       "      <td>{'Best Sellers Rank': {'Video Games': 51019, '...</td>\n",
       "      <td>['Video Games', 'Legacy Systems', 'Nintendo Sy...</td>\n",
       "    </tr>\n",
       "    <tr>\n",
       "      <th>3</th>\n",
       "      <td>Spongebob Squarepants, Vol. 1</td>\n",
       "      <td>B0001ZNU56</td>\n",
       "      <td>['Bubblestand: SpongeBob shows Patrick and Squ...</td>\n",
       "      <td>['Now you can watch the wild underwater antics...</td>\n",
       "      <td>{'Release date': 'August 15, 2004', 'Best Sell...</td>\n",
       "      <td>['Video Games', 'Legacy Systems', 'Nintendo Sy...</td>\n",
       "    </tr>\n",
       "    <tr>\n",
       "      <th>4</th>\n",
       "      <td>eXtremeRate Soft Touch Top Shell Front Housing...</td>\n",
       "      <td>B07H93H878</td>\n",
       "      <td>['Compatibility Models: Ultra fits for Xbox On...</td>\n",
       "      <td>[]</td>\n",
       "      <td>{'Best Sellers Rank': {'Video Games': 48130, '...</td>\n",
       "      <td>['Video Games', 'Xbox One', 'Accessories', 'Fa...</td>\n",
       "    </tr>\n",
       "    <tr>\n",
       "      <th>...</th>\n",
       "      <td>...</td>\n",
       "      <td>...</td>\n",
       "      <td>...</td>\n",
       "      <td>...</td>\n",
       "      <td>...</td>\n",
       "      <td>...</td>\n",
       "    </tr>\n",
       "    <tr>\n",
       "      <th>121815</th>\n",
       "      <td>DANVILLE SKY</td>\n",
       "      <td>B014RXTSDK</td>\n",
       "      <td>[]</td>\n",
       "      <td>['Disney Infinity Series 3 Power Disc Danville...</td>\n",
       "      <td>{'Best Sellers Rank': {'Video Games': 105422, ...</td>\n",
       "      <td>['Video Games', 'Legacy Systems', 'Nintendo Sy...</td>\n",
       "    </tr>\n",
       "    <tr>\n",
       "      <th>121816</th>\n",
       "      <td>Ci-Yu-Online Charizard Black #1 Limited Editio...</td>\n",
       "      <td>B07JDT455V</td>\n",
       "      <td>[]</td>\n",
       "      <td>[]</td>\n",
       "      <td>{'Pricing': 'The strikethrough price is the Li...</td>\n",
       "      <td>['Video Games', 'Legacy Systems', 'Nintendo Sy...</td>\n",
       "    </tr>\n",
       "    <tr>\n",
       "      <th>121817</th>\n",
       "      <td>Story of Seasons: Pioneers Of Olive Town (Nint...</td>\n",
       "      <td>B09XQJS4CZ</td>\n",
       "      <td>['A wild world of discovery - tame the wildern...</td>\n",
       "      <td>['Product Description', \"Inspired by Tales of ...</td>\n",
       "      <td>{'Release date': 'March 26, 2021', 'Best Selle...</td>\n",
       "      <td>['Video Games', 'Nintendo Switch', 'Games']</td>\n",
       "    </tr>\n",
       "    <tr>\n",
       "      <th>121818</th>\n",
       "      <td>MotoGP 18 (PC DVD) UK IMPORT REGION FREE</td>\n",
       "      <td>B07DGPTGNV</td>\n",
       "      <td>['Brand new game engine - MotoGP18 has been re...</td>\n",
       "      <td>['Become the champion of the 2018 MotoGP Seaso...</td>\n",
       "      <td>{'Pricing': 'The strikethrough price is the Li...</td>\n",
       "      <td>['Video Games', 'Game Genre of the Month']</td>\n",
       "    </tr>\n",
       "    <tr>\n",
       "      <th>121819</th>\n",
       "      <td>Century Accessory Soft Silicone Protective Ski...</td>\n",
       "      <td>B00HUWCQBW</td>\n",
       "      <td>['Easy access to all buttons, controls and por...</td>\n",
       "      <td>['This soft case cover will add a splash of co...</td>\n",
       "      <td>{'Package Dimensions': '2.76 x 2.76 x 0.2 inch...</td>\n",
       "      <td>['Video Games', 'Legacy Systems', 'Xbox System...</td>\n",
       "    </tr>\n",
       "  </tbody>\n",
       "</table>\n",
       "<p>121820 rows × 6 columns</p>\n",
       "</div>"
      ],
      "text/plain": [
       "                                                    title parent_asin  \\\n",
       "0                       Phantasmagoria: A Puzzle of Flesh  B00069EVOG   \n",
       "1        NBA 2K17 - Early Tip Off Edition - PlayStation 4  B00Z9TLVK0   \n",
       "2       Nintendo Selects: The Legend of Zelda Ocarina ...  B07SZJZV88   \n",
       "3                           Spongebob Squarepants, Vol. 1  B0001ZNU56   \n",
       "4       eXtremeRate Soft Touch Top Shell Front Housing...  B07H93H878   \n",
       "...                                                   ...         ...   \n",
       "121815                                       DANVILLE SKY  B014RXTSDK   \n",
       "121816  Ci-Yu-Online Charizard Black #1 Limited Editio...  B07JDT455V   \n",
       "121817  Story of Seasons: Pioneers Of Olive Town (Nint...  B09XQJS4CZ   \n",
       "121818           MotoGP 18 (PC DVD) UK IMPORT REGION FREE  B07DGPTGNV   \n",
       "121819  Century Accessory Soft Silicone Protective Ski...  B00HUWCQBW   \n",
       "\n",
       "                                                 features  \\\n",
       "0                                          ['Windows 95']   \n",
       "1       ['The #1 rated NBA video game simulation serie...   \n",
       "2       ['Authentic Nintendo Selects: The Legend of Ze...   \n",
       "3       ['Bubblestand: SpongeBob shows Patrick and Squ...   \n",
       "4       ['Compatibility Models: Ultra fits for Xbox On...   \n",
       "...                                                   ...   \n",
       "121815                                                 []   \n",
       "121816                                                 []   \n",
       "121817  ['A wild world of discovery - tame the wildern...   \n",
       "121818  ['Brand new game engine - MotoGP18 has been re...   \n",
       "121819  ['Easy access to all buttons, controls and por...   \n",
       "\n",
       "                                              description  \\\n",
       "0                                                      []   \n",
       "1       ['Following the record-breaking launch of NBA ...   \n",
       "2                                                      []   \n",
       "3       ['Now you can watch the wild underwater antics...   \n",
       "4                                                      []   \n",
       "...                                                   ...   \n",
       "121815  ['Disney Infinity Series 3 Power Disc Danville...   \n",
       "121816                                                 []   \n",
       "121817  ['Product Description', \"Inspired by Tales of ...   \n",
       "121818  ['Become the champion of the 2018 MotoGP Seaso...   \n",
       "121819  ['This soft case cover will add a splash of co...   \n",
       "\n",
       "                                                  details  \\\n",
       "0       {'Best Sellers Rank': {'Video Games': 137612, ...   \n",
       "1       {'Release date': 'September 16, 2016', 'Best S...   \n",
       "2       {'Best Sellers Rank': {'Video Games': 51019, '...   \n",
       "3       {'Release date': 'August 15, 2004', 'Best Sell...   \n",
       "4       {'Best Sellers Rank': {'Video Games': 48130, '...   \n",
       "...                                                   ...   \n",
       "121815  {'Best Sellers Rank': {'Video Games': 105422, ...   \n",
       "121816  {'Pricing': 'The strikethrough price is the Li...   \n",
       "121817  {'Release date': 'March 26, 2021', 'Best Selle...   \n",
       "121818  {'Pricing': 'The strikethrough price is the Li...   \n",
       "121819  {'Package Dimensions': '2.76 x 2.76 x 0.2 inch...   \n",
       "\n",
       "                                               categories  \n",
       "0                          ['Video Games', 'PC', 'Games']  \n",
       "1               ['Video Games', 'PlayStation 4', 'Games']  \n",
       "2       ['Video Games', 'Legacy Systems', 'Nintendo Sy...  \n",
       "3       ['Video Games', 'Legacy Systems', 'Nintendo Sy...  \n",
       "4       ['Video Games', 'Xbox One', 'Accessories', 'Fa...  \n",
       "...                                                   ...  \n",
       "121815  ['Video Games', 'Legacy Systems', 'Nintendo Sy...  \n",
       "121816  ['Video Games', 'Legacy Systems', 'Nintendo Sy...  \n",
       "121817        ['Video Games', 'Nintendo Switch', 'Games']  \n",
       "121818         ['Video Games', 'Game Genre of the Month']  \n",
       "121819  ['Video Games', 'Legacy Systems', 'Xbox System...  \n",
       "\n",
       "[121820 rows x 6 columns]"
      ]
     },
     "execution_count": 119,
     "metadata": {},
     "output_type": "execute_result"
    }
   ],
   "source": [
    "items[['title', 'parent_asin', 'features', 'description', 'details', 'categories']]"
   ]
  },
  {
   "cell_type": "markdown",
   "metadata": {},
   "source": [
    "Use TF-IDF or BERT Embeddings... (Embeddings would be better as descriptions may not contain similar words)"
   ]
  },
  {
   "cell_type": "markdown",
   "metadata": {},
   "source": [
    "Good luck :)"
   ]
  }
 ],
 "metadata": {
  "kernelspec": {
   "display_name": "Python 3",
   "language": "python",
   "name": "python3"
  },
  "language_info": {
   "codemirror_mode": {
    "name": "ipython",
    "version": 3
   },
   "file_extension": ".py",
   "mimetype": "text/x-python",
   "name": "python",
   "nbconvert_exporter": "python",
   "pygments_lexer": "ipython3",
   "version": "3.12.6"
  }
 },
 "nbformat": 4,
 "nbformat_minor": 2
}
