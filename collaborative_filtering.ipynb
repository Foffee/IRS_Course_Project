{
 "cells": [
  {
   "cell_type": "markdown",
   "metadata": {},
   "source": [
    "## Collaborative Filtering"
   ]
  },
  {
   "cell_type": "markdown",
   "metadata": {},
   "source": [
    "### Loading Datasets"
   ]
  },
  {
   "cell_type": "markdown",
   "metadata": {},
   "source": [
    "The reviews and items are from the output of the `preprocessing.ipynb` file"
   ]
  },
  {
   "cell_type": "code",
   "execution_count": 2,
   "metadata": {},
   "outputs": [],
   "source": [
    "import pandas as pd\n",
    "\n",
    "reviews = pd.read_csv('../datasets/slimmed/reviews.csv')\n",
    "items = pd.read_csv('../datasets/slimmed/items.csv')"
   ]
  },
  {
   "cell_type": "markdown",
   "metadata": {},
   "source": [
    "Helper function to get title of item from its id (parent_asin)"
   ]
  },
  {
   "cell_type": "code",
   "execution_count": 3,
   "metadata": {},
   "outputs": [],
   "source": [
    "def get_item_name_from_id(parent_asin):\n",
    "\treturn items[items['parent_asin'] == parent_asin]['title'].unique()[0]"
   ]
  },
  {
   "cell_type": "markdown",
   "metadata": {},
   "source": [
    "### Creating Sparse Matrix"
   ]
  },
  {
   "cell_type": "markdown",
   "metadata": {},
   "source": [
    "The size of the user-item matrix would be too large to fit in memory and would contain many zero values anyway"
   ]
  },
  {
   "cell_type": "code",
   "execution_count": 4,
   "metadata": {},
   "outputs": [
    {
     "data": {
      "text/plain": [
       "('2,282,093', '121,820', '278,004,569,260')"
      ]
     },
     "execution_count": 4,
     "metadata": {},
     "output_type": "execute_result"
    }
   ],
   "source": [
    "num_user_ids, num_item_ids = reviews['user_id'].nunique(), items['parent_asin'].nunique()\n",
    "format(num_user_ids, ','), format(num_item_ids, ','), format(num_user_ids * num_item_ids, ',')"
   ]
  },
  {
   "cell_type": "markdown",
   "metadata": {},
   "source": [
    "The sparse matrix and mappings from `user_item_matrix` are imported into `uim`"
   ]
  },
  {
   "cell_type": "code",
   "execution_count": 5,
   "metadata": {},
   "outputs": [],
   "source": [
    "import nbformat\n",
    "\n",
    "# Load the notebook\n",
    "with open('user_item_matrix.ipynb', 'r', encoding='utf-8') as f:\n",
    "\tnb = nbformat.read(f, as_version=4)\n",
    "\n",
    "# Execute all code cells and store data in the uim dict\n",
    "uim = {}\n",
    "for cell in nb.cells:\n",
    "\tif cell.cell_type == 'code':\n",
    "\t\texec(cell.source, uim)"
   ]
  },
  {
   "cell_type": "markdown",
   "metadata": {},
   "source": [
    "### ALS Model (Alternating Least Squares)"
   ]
  },
  {
   "cell_type": "markdown",
   "metadata": {},
   "source": [
    "`implicit` library already uses multithreading so `BLAS` threads should be set to 1 to avoid overhead"
   ]
  },
  {
   "cell_type": "code",
   "execution_count": 6,
   "metadata": {},
   "outputs": [
    {
     "data": {
      "text/plain": [
       "<threadpoolctl.threadpool_limits at 0x2e3a2af9100>"
      ]
     },
     "execution_count": 6,
     "metadata": {},
     "output_type": "execute_result"
    }
   ],
   "source": [
    "import threadpoolctl \n",
    "threadpoolctl.threadpool_limits(1, 'blas')"
   ]
  },
  {
   "cell_type": "markdown",
   "metadata": {},
   "source": [
    "#### Transforming CSR Ratings To Confidence"
   ]
  },
  {
   "cell_type": "markdown",
   "metadata": {},
   "source": [
    "A core issue here is that implicit's ALS model works with implicit feedback and not explicit ones such as rating "
   ]
  },
  {
   "cell_type": "code",
   "execution_count": 7,
   "metadata": {},
   "outputs": [],
   "source": [
    "import numpy as np\n",
    "\n",
    "# Extract components\n",
    "data = uim['sparse_matrix_csr'].data\n",
    "indices = uim['sparse_matrix_csr'].indices\n",
    "indptr = uim['sparse_matrix_csr'].indptr\n",
    "\n",
    "# Compute per-user mean ratings\n",
    "n_users = uim['sparse_matrix_csr'].shape[0]\n",
    "\n",
    "user_means = np.zeros(n_users)\n",
    "max_user_ratings = np.zeros(n_users)\n",
    "\n",
    "for user in range(n_users):\n",
    "\tstart, end = indptr[user], indptr[user + 1]\n",
    "\tuser_ratings = data[start:end]\n",
    "\n",
    "\tif len(user_ratings) > 0:\n",
    "\t\tuser_means[user] = np.mean(user_ratings)\n",
    "\t\tmax_user_ratings[user] = np.max(user_ratings)\n",
    "\telse:\n",
    "\t\tuser_means[user] = 0.0\n",
    "\t\tmax_user_ratings[user] = 1"
   ]
  },
  {
   "cell_type": "markdown",
   "metadata": {},
   "source": [
    "`ALPHA` is scaling factor that determines how strongly the higher ratings are trusted over low ones."
   ]
  },
  {
   "cell_type": "code",
   "execution_count": 8,
   "metadata": {},
   "outputs": [],
   "source": [
    "ALPHA = 80"
   ]
  },
  {
   "cell_type": "markdown",
   "metadata": {},
   "source": [
    "The following strategy is proposed for handling this<br><br>\n",
    "For every item with mean user rating $\\mu_u$<br>\n",
    "o If an item rating is less than $\\mu_u$, then it is set to 0 (considered as not seen)<br>\n",
    "o Otherwise, it is scaled to a value in the range [1, 5] using min-max normalization of min=$\\mu_u$ and max=max_user_rating"
   ]
  },
  {
   "cell_type": "code",
   "execution_count": 9,
   "metadata": {},
   "outputs": [],
   "source": [
    "new_data = data.copy()\n",
    "\n",
    "for user in range(n_users):\n",
    "\tstart, end = indptr[user], indptr[user + 1]\n",
    "\tfor i in range(start, end):\n",
    "\t\trating = data[i]\n",
    "\t\tmean = user_means[user]\n",
    "\t\tmax_rating = max_user_ratings[user]\n",
    "\n",
    "\t\tif rating < mean:\n",
    "\t\t\tnew_data[i] = 0  # no confidence\n",
    "\t\telse:\n",
    "\t\t\t# # If user only gave ratings of 5, then it can be considered as the \"neutral\" rating\n",
    "\t\t\t# if mean == 5:\n",
    "\t\t\t#     conf = 3\n",
    "\t\t\t# # Linear map from [mean, 5] to [1, 5]\n",
    "\t\t\t# else:\n",
    "\t\t\t#     conf = (rating - mean) / (5 - mean) * 4 + 1\n",
    "\n",
    "\t\t\ts = 0\n",
    "\t\t\tif max_rating == mean:\n",
    "\t\t\t\ts = 1.0\n",
    "\t\t\telse:\n",
    "\t\t\t\ts = (rating - mean) / (max_rating - mean)\n",
    "\n",
    "\t\t\tnew_data[i] = 1 + ALPHA * s"
   ]
  },
  {
   "cell_type": "code",
   "execution_count": 10,
   "metadata": {},
   "outputs": [],
   "source": [
    "from scipy.sparse import csr_matrix\n",
    "confidence_csr = csr_matrix((new_data, indices, indptr), shape=uim['sparse_matrix_csr'].shape)"
   ]
  },
  {
   "cell_type": "code",
   "execution_count": 11,
   "metadata": {},
   "outputs": [],
   "source": [
    "confidence_csr.eliminate_zeros()"
   ]
  },
  {
   "cell_type": "markdown",
   "metadata": {},
   "source": [
    "The ALS model is trained"
   ]
  },
  {
   "cell_type": "code",
   "execution_count": 12,
   "metadata": {},
   "outputs": [
    {
     "data": {
      "application/vnd.jupyter.widget-view+json": {
       "model_id": "1e8ad90545f2482c90dc4cb3fde12157",
       "version_major": 2,
       "version_minor": 0
      },
      "text/plain": [
       "  0%|          | 0/15 [00:00<?, ?it/s]"
      ]
     },
     "metadata": {},
     "output_type": "display_data"
    }
   ],
   "source": [
    "from implicit.als import AlternatingLeastSquares\n",
    "\n",
    "# Train ALS model\n",
    "als_model = AlternatingLeastSquares(factors=200, iterations=15, regularization=0.1, random_state=42, calculate_training_loss=True)\n",
    "als_model.fit(confidence_csr)"
   ]
  },
  {
   "cell_type": "markdown",
   "metadata": {},
   "source": [
    "#### Saving ALS Model"
   ]
  },
  {
   "cell_type": "code",
   "execution_count": 13,
   "metadata": {},
   "outputs": [],
   "source": [
    "import pickle\n",
    "import gzip\n",
    "\n",
    "# Save to a pickle file\n",
    "with gzip.open('../data_structures/als_model.pkl', 'wb', compresslevel=5) as f:\n",
    "\tpickle.dump(als_model, f)"
   ]
  },
  {
   "cell_type": "markdown",
   "metadata": {},
   "source": [
    "#### Loading ALS Model"
   ]
  },
  {
   "cell_type": "code",
   "execution_count": 14,
   "metadata": {},
   "outputs": [],
   "source": [
    "import pickle\n",
    "import gzip\n",
    "\n",
    "from typing import cast\n",
    "from implicit.cpu.als import AlternatingLeastSquares\n",
    "\n",
    "# Load the compressed file\n",
    "with gzip.open('../data_structures/als_model.pkl', 'rb') as f:\n",
    "\tals_model = cast(AlternatingLeastSquares, pickle.load(f))"
   ]
  },
  {
   "cell_type": "markdown",
   "metadata": {},
   "source": [
    "#### Predicting User Ratings"
   ]
  },
  {
   "cell_type": "markdown",
   "metadata": {},
   "source": [
    "A test run where the top 5 items are recommended for user with id from the map"
   ]
  },
  {
   "cell_type": "code",
   "execution_count": 15,
   "metadata": {},
   "outputs": [
    {
     "name": "stdout",
     "output_type": "stream",
     "text": [
      "Top 15 recommended items for User AFTC6ZR5IKNRDG5JCPVNVMU3XV2Q:\n",
      "Item B017QU5G1O - Score: 0.3404\n",
      "Item B01N4JYY1H - Score: 0.2889\n",
      "Item B0CB7JB1V6 - Score: 0.2749\n",
      "Item B07KRWJCQW - Score: 0.2592\n",
      "Item B00CMQTUSS - Score: 0.2528\n",
      "Item B00HUW901Q - Score: 0.2527\n",
      "Item B01MRN26ES - Score: 0.2478\n",
      "Item B08LMKNSPL - Score: 0.2464\n",
      "Item B07ZJ6RY1W - Score: 0.2447\n",
      "Item B08GPBG66Y - Score: 0.2441\n",
      "Item B017V6YVDC - Score: 0.2425\n",
      "Item B000N5Z2L4 - Score: 0.2401\n",
      "Item B01N6QKT7H - Score: 0.2318\n",
      "Item B087NNPYP3 - Score: 0.2312\n",
      "Item B08Q1MFHT3 - Score: 0.2302\n"
     ]
    }
   ],
   "source": [
    "user_id = 2  # Target user\n",
    "num_recommendations = 15  # How many items to recommend\n",
    "\n",
    "# Get top N recommended items and their scores\n",
    "recommended_items = als_model.recommend(\n",
    "\tuser_id, uim['sparse_matrix_csr'][user_id], N=num_recommendations\n",
    ")\n",
    "\n",
    "recommendations, scores = recommended_items\n",
    "recommendations_scores = zip(recommendations, scores)\n",
    "\n",
    "print(f'Top {num_recommendations} recommended items for User {uim['reverse_user_map'][user_id]}:')\n",
    "for item_id, score in recommendations_scores:\n",
    "\tprint(f'Item {uim['reverse_item_map'][item_id]} - Score: {score:.4f}')"
   ]
  },
  {
   "cell_type": "code",
   "execution_count": 16,
   "metadata": {},
   "outputs": [
    {
     "data": {
      "text/html": [
       "<div>\n",
       "<style scoped>\n",
       "    .dataframe tbody tr th:only-of-type {\n",
       "        vertical-align: middle;\n",
       "    }\n",
       "\n",
       "    .dataframe tbody tr th {\n",
       "        vertical-align: top;\n",
       "    }\n",
       "\n",
       "    .dataframe thead th {\n",
       "        text-align: right;\n",
       "    }\n",
       "</style>\n",
       "<table border=\"1\" class=\"dataframe\">\n",
       "  <thead>\n",
       "    <tr style=\"text-align: right;\">\n",
       "      <th></th>\n",
       "      <th>parent_asin</th>\n",
       "      <th>rating</th>\n",
       "    </tr>\n",
       "  </thead>\n",
       "  <tbody>\n",
       "    <tr>\n",
       "      <th>3</th>\n",
       "      <td>B0BCHWZX95</td>\n",
       "      <td>5</td>\n",
       "    </tr>\n",
       "    <tr>\n",
       "      <th>4</th>\n",
       "      <td>B00HUWA45W</td>\n",
       "      <td>5</td>\n",
       "    </tr>\n",
       "  </tbody>\n",
       "</table>\n",
       "</div>"
      ],
      "text/plain": [
       "  parent_asin  rating\n",
       "3  B0BCHWZX95       5\n",
       "4  B00HUWA45W       5"
      ]
     },
     "execution_count": 16,
     "metadata": {},
     "output_type": "execute_result"
    }
   ],
   "source": [
    "already_rated_user_items = reviews[reviews['user_id'] == uim['reverse_user_map'][user_id]][['title', 'parent_asin', 'text', 'rating']]\n",
    "already_rated_user_items[['parent_asin', 'rating']]"
   ]
  },
  {
   "cell_type": "code",
   "execution_count": 17,
   "metadata": {},
   "outputs": [
    {
     "data": {
      "text/html": [
       "<div>\n",
       "<style scoped>\n",
       "    .dataframe tbody tr th:only-of-type {\n",
       "        vertical-align: middle;\n",
       "    }\n",
       "\n",
       "    .dataframe tbody tr th {\n",
       "        vertical-align: top;\n",
       "    }\n",
       "\n",
       "    .dataframe thead th {\n",
       "        text-align: right;\n",
       "    }\n",
       "</style>\n",
       "<table border=\"1\" class=\"dataframe\">\n",
       "  <thead>\n",
       "    <tr style=\"text-align: right;\">\n",
       "      <th></th>\n",
       "      <th>title</th>\n",
       "    </tr>\n",
       "  </thead>\n",
       "  <tbody>\n",
       "    <tr>\n",
       "      <th>4085</th>\n",
       "      <td>PowerA Enhanced Wireless Controller for Ninten...</td>\n",
       "    </tr>\n",
       "    <tr>\n",
       "      <th>18048</th>\n",
       "      <td>KontrolFreek FPS Freek CQC Signature - Xbox One</td>\n",
       "    </tr>\n",
       "  </tbody>\n",
       "</table>\n",
       "</div>"
      ],
      "text/plain": [
       "                                                   title\n",
       "4085   PowerA Enhanced Wireless Controller for Ninten...\n",
       "18048    KontrolFreek FPS Freek CQC Signature - Xbox One"
      ]
     },
     "execution_count": 17,
     "metadata": {},
     "output_type": "execute_result"
    }
   ],
   "source": [
    "items[items['parent_asin'].isin(already_rated_user_items['parent_asin'])][['title']]"
   ]
  },
  {
   "cell_type": "code",
   "execution_count": 18,
   "metadata": {},
   "outputs": [
    {
     "data": {
      "text/plain": [
       "(array([3, 4]), array([0.866863  , 0.22684452], dtype=float32))"
      ]
     },
     "execution_count": 18,
     "metadata": {},
     "output_type": "execute_result"
    }
   ],
   "source": [
    "als_model.recommend(\n",
    "\tuser_id, uim['sparse_matrix_csr'][user_id], items=[3, 4], filter_already_liked_items=False\n",
    ")"
   ]
  },
  {
   "cell_type": "markdown",
   "metadata": {},
   "source": [
    "Those confidence scores in the items are now converted back to user ratings"
   ]
  },
  {
   "cell_type": "code",
   "execution_count": 19,
   "metadata": {},
   "outputs": [
    {
     "data": {
      "text/plain": [
       "(2, 'AFTC6ZR5IKNRDG5JCPVNVMU3XV2Q', np.float64(5.0), np.float64(5.0))"
      ]
     },
     "execution_count": 19,
     "metadata": {},
     "output_type": "execute_result"
    }
   ],
   "source": [
    "user_id, uim['reverse_user_map'][user_id], user_means[user_id], max_user_ratings[user_id]"
   ]
  },
  {
   "cell_type": "markdown",
   "metadata": {},
   "source": [
    "A helper function to convert confidence scores to predicted ratings"
   ]
  },
  {
   "cell_type": "code",
   "execution_count": 20,
   "metadata": {},
   "outputs": [],
   "source": [
    "def confidence_to_predicted_rating(user_id, confidences):\n",
    "    mean = user_means[user_id]\n",
    "    max_rating = max_user_ratings[user_id]\n",
    "\n",
    "    s = (confidences - 1) / ALPHA\n",
    "    return mean + s * (max_rating - mean)"
   ]
  },
  {
   "cell_type": "markdown",
   "metadata": {},
   "source": [
    "The model correctly predicted the user's ratings on items they'd seen before"
   ]
  },
  {
   "cell_type": "code",
   "execution_count": 21,
   "metadata": {},
   "outputs": [
    {
     "data": {
      "text/plain": [
       "array([5., 5.])"
      ]
     },
     "execution_count": 21,
     "metadata": {},
     "output_type": "execute_result"
    }
   ],
   "source": [
    "confidence_to_predicted_rating(user_id, als_model.recommend(\n",
    "\tuser_id, uim['sparse_matrix_csr'][user_id], items=[3, 4], filter_already_liked_items=False\n",
    ")[1])"
   ]
  },
  {
   "cell_type": "markdown",
   "metadata": {},
   "source": [
    "The predicted ratings that the user would give to the recommended items"
   ]
  },
  {
   "cell_type": "code",
   "execution_count": 22,
   "metadata": {},
   "outputs": [
    {
     "data": {
      "text/plain": [
       "[(np.int32(587), np.float64(5.0)),\n",
       " (np.int32(936), np.float64(5.0)),\n",
       " (np.int32(335), np.float64(5.0)),\n",
       " (np.int32(634), np.float64(5.0)),\n",
       " (np.int32(5761), np.float64(5.0)),\n",
       " (np.int32(10963), np.float64(5.0)),\n",
       " (np.int32(805), np.float64(5.0)),\n",
       " (np.int32(8802), np.float64(5.0)),\n",
       " (np.int32(187), np.float64(5.0)),\n",
       " (np.int32(1706), np.float64(5.0)),\n",
       " (np.int32(9), np.float64(5.0)),\n",
       " (np.int32(738), np.float64(5.0)),\n",
       " (np.int32(284), np.float64(5.0)),\n",
       " (np.int32(822), np.float64(5.0)),\n",
       " (np.int32(1951), np.float64(5.0))]"
      ]
     },
     "execution_count": 22,
     "metadata": {},
     "output_type": "execute_result"
    }
   ],
   "source": [
    "list(zip(recommendations, confidence_to_predicted_rating(user_id, recommendations)))"
   ]
  },
  {
   "cell_type": "markdown",
   "metadata": {},
   "source": [
    "The names of the recommended items"
   ]
  },
  {
   "cell_type": "code",
   "execution_count": 23,
   "metadata": {},
   "outputs": [
    {
     "data": {
      "text/plain": [
       "['PDP Gaming Energizer Dual Controller Charging System, Two Rechargeable Battery Packs: Black - Xbox One',\n",
       " 'Xbox Wireless Controller – Red',\n",
       " 'ASTARRY Wireless Pro Controller Compatible with Switch Lite/Switch OLED (Red)',\n",
       " '$40 Xbox Gift Card [Digital Code]',\n",
       " 'Xbox One Wireless Controller (Without 3.5 millimeter headset jack)',\n",
       " 'KontrolFreek FPS Freek Phantom for Xbox One Controller | Performance Thumbsticks | 2 High-Rise Concave | White',\n",
       " 'Rii RK100+ Multiple Color Rainbow LED Backlit Large Size USB Wired Mechanical Feeling Multimedia PC Gaming Keyboard,Office Keyboard for Working or Primer Gaming,Office Device',\n",
       " 'KontrolFreek Alpha for Xbox One and Xbox Series X Controller | Performance Thumbsticks | 2 Low-Rise Concave | Green (Blue)',\n",
       " '$45 Nintendo eShop Gift Card [Digital Code]',\n",
       " 'havit RGB Gaming Mouse Pad Soft Non-Slip Rubber Base Mouse Mat for Laptop Computer PC Games (13.8 X 9.8 X 0.16 inches, Black)',\n",
       " 'PlayStation Plus: 1 Month Membership [Digital Code]',\n",
       " 'Xbox Live Gold: 1 Month Membership [Digital Code]',\n",
       " 'Nintendo Joy-Con (L/R) - Gray',\n",
       " 'The Legend of Zelda: Breath of the Wild Master Edition - Nintendo Switch',\n",
       " 'PowerA Enhanced Wireless Controller for Nintendo Switch - Black']"
      ]
     },
     "execution_count": 23,
     "metadata": {},
     "output_type": "execute_result"
    }
   ],
   "source": [
    "list(map(lambda i: get_item_name_from_id(uim['reverse_item_map'][i]), recommendations))"
   ]
  },
  {
   "cell_type": "markdown",
   "metadata": {},
   "source": [
    "### Finding Similar Users"
   ]
  },
  {
   "cell_type": "code",
   "execution_count": 24,
   "metadata": {},
   "outputs": [
    {
     "name": "stdout",
     "output_type": "stream",
     "text": [
      "Top 10 users similar to User AFTC6ZR5IKNRDG5JCPVNVMU3XV2Q:\n",
      "User AFDLCLJLGZXA2XJ45DONGSVO4XXQ - Similarity Score: 0.8034\n",
      "User AGTDQUFRFYACW5KROJR6ORNSLJIA - Similarity Score: 0.8034\n",
      "User AFNFYEEHTMG4DCD7O2Y5YHUAYJHQ - Similarity Score: 0.8034\n",
      "User AE4JBASSCLATBR3EW5F2DZOI2H6A - Similarity Score: 0.8034\n",
      "User AEKBLLHCHN2SUABPQA37IQVPPAHA - Similarity Score: 0.8034\n",
      "User AGPYL2VFOE3ECPEM7MLLMPWPPWIQ - Similarity Score: 0.8034\n",
      "User AGOY3BLZLETYUBBYEQXOD4F74OOA - Similarity Score: 0.8034\n",
      "User AHAFOJR2DG35UZR36IGJPUKYOP6Q - Similarity Score: 0.8034\n",
      "User AEFUC4ESBD2SEXMZV32XWVEGN57A - Similarity Score: 0.8034\n"
     ]
    }
   ],
   "source": [
    "num_similar = 10  # How many similar items to find\n",
    "top_similar_users = als_model.similar_users(user_id, N=num_similar+1)\n",
    "\n",
    "similar_users, scores = top_similar_users\n",
    "similar_users_scores = list(zip(similar_users[1:], scores[1:]))\n",
    "\n",
    "print(f'Top {num_similar} users similar to User {uim['reverse_user_map'][user_id]}:')\n",
    "for sim_user_id, similarity in similar_users_scores[1:]:\n",
    "\tprint(f'User {uim['reverse_user_map'][sim_user_id]} - Similarity Score: {similarity:.4f}')"
   ]
  },
  {
   "cell_type": "markdown",
   "metadata": {},
   "source": [
    "#### Finding Similar Items"
   ]
  },
  {
   "cell_type": "code",
   "execution_count": 25,
   "metadata": {},
   "outputs": [
    {
     "name": "stdout",
     "output_type": "stream",
     "text": [
      "Top 10 items similar to Item B09JY72CNG:\n",
      "Item B07RVMNWDM - Similarity Score: 0.6381\n",
      "Item B07DHNX18W - Similarity Score: 0.5705\n",
      "Item B07P6T66XS - Similarity Score: 0.5275\n",
      "Item B087ZRQ44S - Similarity Score: 0.4865\n",
      "Item B07NTT87J9 - Similarity Score: 0.4800\n",
      "Item B08HC6N4KY - Similarity Score: 0.4533\n",
      "Item B07DHNZ676 - Similarity Score: 0.4393\n",
      "Item B093XLM8YX - Similarity Score: 0.4284\n",
      "Item B07FFCN3DJ - Similarity Score: 0.4235\n",
      "Item B08LYVLM84 - Similarity Score: 0.4176\n"
     ]
    }
   ],
   "source": [
    "item_id = 12  # Target item\n",
    "num_similar = 10  # How many similar items to find\n",
    "\n",
    "# Get top N similar items and their similarity scores (+1 is added to skip the item itself later on)\n",
    "top_similar_items = als_model.similar_items(item_id, N=num_similar+1)\n",
    "\n",
    "similar_items, scores = top_similar_items\n",
    "similar_items_scores = list(zip(similar_items, scores))\n",
    "\n",
    "print(f'Top {num_similar} items similar to Item {uim['reverse_item_map'][item_id]}:')\n",
    "for sim_item_id, similarity in similar_items_scores[1:]:\n",
    "\tprint(f'Item {uim['reverse_item_map'][sim_item_id]} - Similarity Score: {similarity:.4f}')"
   ]
  },
  {
   "cell_type": "markdown",
   "metadata": {},
   "source": [
    "Very good and relevant recommendations for the given item (first in the list)"
   ]
  },
  {
   "cell_type": "code",
   "execution_count": 37,
   "metadata": {},
   "outputs": [
    {
     "data": {
      "text/html": [
       "<div>\n",
       "<style scoped>\n",
       "    .dataframe tbody tr th:only-of-type {\n",
       "        vertical-align: middle;\n",
       "    }\n",
       "\n",
       "    .dataframe tbody tr th {\n",
       "        vertical-align: top;\n",
       "    }\n",
       "\n",
       "    .dataframe thead th {\n",
       "        text-align: right;\n",
       "    }\n",
       "</style>\n",
       "<table border=\"1\" class=\"dataframe\">\n",
       "  <thead>\n",
       "    <tr style=\"text-align: right;\">\n",
       "      <th></th>\n",
       "      <th>title</th>\n",
       "      <th>features</th>\n",
       "      <th>description</th>\n",
       "      <th>videos</th>\n",
       "      <th>details</th>\n",
       "      <th>images</th>\n",
       "      <th>parent_asin</th>\n",
       "      <th>categories</th>\n",
       "      <th>average_rating</th>\n",
       "      <th>rating_number</th>\n",
       "      <th>main_category</th>\n",
       "      <th>store</th>\n",
       "      <th>price</th>\n",
       "    </tr>\n",
       "  </thead>\n",
       "  <tbody>\n",
       "    <tr>\n",
       "      <th>410</th>\n",
       "      <td>Razer Goliathus Extended Chroma Gaming Mouse P...</td>\n",
       "      <td>['Ultimate Personalization &amp; Gaming Immersion ...</td>\n",
       "      <td>['The Razer Goliathus extended Chroma soft gam...</td>\n",
       "      <td>[{'title': 'My 3 Biggest Thoughts On This Gami...</td>\n",
       "      <td>{'Product Dimensions': '11.58 x 1.23 x 0.12 in...</td>\n",
       "      <td>[{'thumb': 'https://m.media-amazon.com/images/...</td>\n",
       "      <td>B09JY72CNG</td>\n",
       "      <td>['Video Games', 'PC', 'Accessories', 'Gaming M...</td>\n",
       "      <td>4.8</td>\n",
       "      <td>11426</td>\n",
       "      <td>Computers</td>\n",
       "      <td>Razer</td>\n",
       "      <td>59.99</td>\n",
       "    </tr>\n",
       "  </tbody>\n",
       "</table>\n",
       "</div>"
      ],
      "text/plain": [
       "                                                 title  \\\n",
       "410  Razer Goliathus Extended Chroma Gaming Mouse P...   \n",
       "\n",
       "                                              features  \\\n",
       "410  ['Ultimate Personalization & Gaming Immersion ...   \n",
       "\n",
       "                                           description  \\\n",
       "410  ['The Razer Goliathus extended Chroma soft gam...   \n",
       "\n",
       "                                                videos  \\\n",
       "410  [{'title': 'My 3 Biggest Thoughts On This Gami...   \n",
       "\n",
       "                                               details  \\\n",
       "410  {'Product Dimensions': '11.58 x 1.23 x 0.12 in...   \n",
       "\n",
       "                                                images parent_asin  \\\n",
       "410  [{'thumb': 'https://m.media-amazon.com/images/...  B09JY72CNG   \n",
       "\n",
       "                                            categories  average_rating  \\\n",
       "410  ['Video Games', 'PC', 'Accessories', 'Gaming M...             4.8   \n",
       "\n",
       "     rating_number main_category  store  price  \n",
       "410          11426     Computers  Razer  59.99  "
      ]
     },
     "execution_count": 37,
     "metadata": {},
     "output_type": "execute_result"
    }
   ],
   "source": [
    "items[items['parent_asin'] == uim['reverse_item_map'][item_id]]"
   ]
  },
  {
   "cell_type": "code",
   "execution_count": 26,
   "metadata": {},
   "outputs": [
    {
     "data": {
      "text/plain": [
       "['Razer Goliathus Extended Chroma Gaming Mouse Pad: Customizable Chroma RGB Lighting - Soft, Cloth Material - Balanced Control & Speed - Non-Slip Rubber Base - Mercury White',\n",
       " 'Razer Base Station Chroma Headphone/Headset Stand w/USB Hub: Chroma RGB Lighting - 3X USB 3.0 Ports - Non-Slip Rubber Base - Designed for Gaming Headsets - Mercury White',\n",
       " 'Razer Huntsman Elite Gaming Keyboard: Fast Keyboard Switches - Clicky Optical Switches - Chroma RGB Lighting - Magnetic Plush Wrist Rest - Dedicated Media Keys & Dial - Classic Black',\n",
       " 'Razer Lancehead Wireless Gaming Mouse: 16K DPI Optical Sensor - Chroma RGB Lighting - 9 Programmable Buttons - Mechanical Switches - 50Hr Battery - Gunmetal',\n",
       " 'Razer Firefly Hard V2 RGB Gaming Mouse Pad: Customizable Chroma Lighting, Built-in Cable Management, Balanced Control & Speed, Non-Slip Rubber Base',\n",
       " 'Razer Basilisk Gaming Mouse: 16,000 DPI Optical Sensor - Chroma RGB Lighting - 8 Programmable Buttons - Mechanical Switches - Customizable Scroll Resistance - Quartz Pink',\n",
       " 'Razer Mouse Charging Dock Chroma: Magnetic Dock with Charge Status RGB Lighting - Anti-Slip Gecko Feet - Powered by Razer Chroma - Classic Black',\n",
       " 'Razer Huntsman Gaming Keyboard: Fast Keyboard Switches - Clicky Optical Switches - Customizable Chroma RGB Lighting - Programmable Macro Functionality - Classic Black',\n",
       " 'Razer Mouse Grip Tape DeathAdder V2 Mini: Anti-Slip Grip Tape - Self-Adhesive Design - Pre-Cut',\n",
       " 'Razer BlackWidow Elite Mechanical Gaming Keyboard: Green Mechanical Switches - Tactile & Clicky - Chroma RGB Lighting - Magnetic Wrist Rest - Dedicated Media Keys & Dial - USB Passthrough',\n",
       " 'Razer Viper Ultralight Ambidextrous Wired Gaming Mouse: 2nd Generation Optical Mouse Switches 5G Optical Sensor - 71g Lightweight Design - Speedflex Cable - Mercury White']"
      ]
     },
     "execution_count": 26,
     "metadata": {},
     "output_type": "execute_result"
    }
   ],
   "source": [
    "list(map(get_item_name_from_id, map(lambda x: uim['reverse_item_map'][x], [item_id, *similar_items[1:]])))"
   ]
  },
  {
   "cell_type": "markdown",
   "metadata": {},
   "source": [
    "### Handling Guests"
   ]
  },
  {
   "cell_type": "markdown",
   "metadata": {},
   "source": [
    "Guest (vectors) are not in the ALS matrix and so cannot use the `similar_users` & `recommend_items` above directly but this can be handled<br>"
   ]
  },
  {
   "cell_type": "code",
   "execution_count": 27,
   "metadata": {},
   "outputs": [
    {
     "data": {
      "text/plain": [
       "[634, 187, 83187, 100, 601, 225, 1020, 323, 573]"
      ]
     },
     "execution_count": 27,
     "metadata": {},
     "output_type": "execute_result"
    }
   ],
   "source": [
    "guest_vector = ['B07KRWJCQW', 'B07ZJ6RY1W', 'B07JGVX9D6', 'B075YBBQMM', 'B0BN942894', 'B077GG9D5D', 'B00ZQB28XK', 'B014R4KYMS', 'B07YBXFF5C']\n",
    "mapped_guest_vector = [uim['item_map'][item_id] for item_id in guest_vector]\n",
    "\n",
    "mapped_guest_vector"
   ]
  },
  {
   "cell_type": "code",
   "execution_count": 28,
   "metadata": {},
   "outputs": [
    {
     "data": {
      "text/plain": [
       "['$40 Xbox Gift Card [Digital Code]',\n",
       " '$45 Nintendo eShop Gift Card [Digital Code]',\n",
       " 'Microsoft Xbox One X 1 TB with Red Dead Redemption 2',\n",
       " 'PS4 Controller Charger Dock Station, OIVO PS4 Controller Charging Dock Station with Upgraded 1.8-Hours Charging Chip, Charging Dock Station Replacement for Playstation 4 Dualshock 4 Controller Charger',\n",
       " 'BENGOO Stereo Pro Gaming Headset for PS4, PC, Xbox One Controller, Noise Cancelling Over Ear Headphones with Mic, LED Light, Bass Surround, Soft Memory Earmuffs for Laptop Mac Wii Accessory Kits',\n",
       " 'DualShock 4 Wireless Controller for PlayStation 4 - Jet Black',\n",
       " \"No Man's Sky - PlayStation 4\",\n",
       " \"Uncharted 4: A Thief's End - PlayStation 4\",\n",
       " 'Doom - PC']"
      ]
     },
     "execution_count": 28,
     "metadata": {},
     "output_type": "execute_result"
    }
   ],
   "source": [
    "[get_item_name_from_id(parent_asin) for parent_asin in guest_vector]"
   ]
  },
  {
   "cell_type": "markdown",
   "metadata": {},
   "source": [
    "`similar_items` only needs item ids (similar_items also includes the given item so N+1 similar items must be generated)"
   ]
  },
  {
   "cell_type": "code",
   "execution_count": 29,
   "metadata": {},
   "outputs": [
    {
     "data": {
      "text/plain": [
       "(array([  634, 18137, 10201, 10203,  6917, 32427, 14639, 27012,  5448,\n",
       "          842, 31988], dtype=int32),\n",
       " array([0.9999999 , 0.36045963, 0.29659322, 0.2835863 , 0.28153694,\n",
       "        0.28103322, 0.28006414, 0.2779255 , 0.27625108, 0.27396494,\n",
       "        0.2709237 ], dtype=float32))"
      ]
     },
     "execution_count": 29,
     "metadata": {},
     "output_type": "execute_result"
    }
   ],
   "source": [
    "personalized_items = als_model.similar_items(mapped_guest_vector, N=10+1)\n",
    "\n",
    "recommend_items, scores = personalized_items\n",
    "similar_items = list(zip(recommend_items, scores))\n",
    "\n",
    "similar_items[0] # An example print of similar items for 'B07KRWJCQW'"
   ]
  },
  {
   "cell_type": "code",
   "execution_count": 30,
   "metadata": {},
   "outputs": [
    {
     "name": "stdout",
     "output_type": "stream",
     "text": [
      "For $40 Xbox Gift Card [Digital Code]\n",
      "The similar items are ['Xbox $5 Gift Card - Xbox 360 Digital Code', 'PowerA Complete Power Station', \"WB Games Rocket League: Collector's Edition - Xbox One\", 'UL SADES SA807 Multi-Platform Gaming Headsets Headphones For New Xbox one PS4 PC Laptop Mac iPad iPod (Black&Blue)', 'Sour Patch Kids Limited Edition Just Blue', 'Wireless Controller for Nintendo Switch Pro - Sinbadteck Remote Controller for Nintendo Switch Switch pro Console w 6 Axis Gyro Dual Vibration', 'MLB The Show 16 - MVP Edition - PS4 [Digital Code]', 'Xbox LIVE 4000 Microsoft Points - Xbox 360 Digital Code', '$20 PlayStation Store Gift Card [Digital Code]']\n",
      "----------\n",
      "For $45 Nintendo eShop Gift Card [Digital Code]\n",
      "The similar items are ['Nintendo Switch Online 12-Month Individual Membership [Digital Code]', 'Rocket League: Rocket League Crate Unlock Key X5 - PS4 [Digital Code]', 'Apex Legends - 1,000 Coins Virtual Currency - PS4 [Digital Code]', 'NCSoft NCoin 1600 [Online Game Code]', 'Mario Kart 7 - 3DS [Digital Code]', 'Wireless Controller for Xbox One,2.4GHZ Wireless Game Controller Compatible with Xbox One S/X/Elite, PS3, PC Windows 7/8/10,with Built-in Dual Vibration', 'Analog Stick Thumbsticks Joystick Cap for Xbox One Controller Mushroom Cap Rubber Cover (Clear Red)', 'Nyko Power Pak - 5000 mAh rechargeable battery pack with built-in Kickstand for Nintendo Switch', 'Nintendo Switch 32GB Video Game Console - Black (HAC-001) / CONSOLE ONLY (Renewed)']\n",
      "----------\n",
      "For Microsoft Xbox One X 1 TB with Red Dead Redemption 2\n",
      "The similar items are ['Frappuccino Mechanical Keyboard Accessories Switches Hot-Swappable DIY Cross Switches Dust Cover Shaft Pre-lubed 45 Pcs (Chocolate mousse)', 'Logitech G613 Lightspeed Wireless Mechanical Gaming Keyboard - Black & MX Master Wireless Mouse – High-Precision Sensor, Speed-Adaptive Scroll Wheel', 'SWOJG Carrying Case for PS5, Protective Travel Bag for PS 5 Controller Console Games, Large Capacity Carry Case Compatible with Playstation 5 Disk Digital Edition, Gaming Headset and Game Accessories', 'Ao no Exorcist: Genkoku no Labyrinth [Limited Edition] [Japan Import]', 'FastSnail Nunchuck and Remote Controller Set for Nintendo Wii & Wii U & Wii Mini with Silicon Case Blue', 'Quad Charging Dock Station for Two PS4/PSVR/Move Motion Controllers- 4 in 1 Charging Dock Station Desk Charging Station for Playstation PS4 PSVR VR Move [4 USB Charging Station with LED Indicator]', 'EA Sports Active Multiplayer Personal Trainer Pack -Wii', 'WalkOVR | Wearable VR Motion Device - Move Freely In Virtual Reality Games And Environments By Using Your Legs And Body, Walk And Run In-Place Physically In VR', 'Namco One Piece: Gigant Battle']\n",
      "----------\n",
      "For PS4 Controller Charger Dock Station, OIVO PS4 Controller Charging Dock Station with Upgraded 1.8-Hours Charging Chip, Charging Dock Station Replacement for Playstation 4 Dualshock 4 Controller Charger\n",
      "The similar items are ['Switch Lite Case Protective Case for Nintendo Switch Lite, Feerne Full Protection TPU Shockproof Case Cover for Nintendo Switch Lite Skin with Built-in Screen Protector & Joystick Caps, Turquoise', 'Controller Adapters, BIGBIG WON Wireless Controller Adapter for Xbox Series X|S Controller/Xbox One X|S Controller/Elite Series 2/PS5/PS4/Switch Controller Playing on PS4/Switch/Windows 11&10 PC (1pc)', '2 Pairs Thumbsticks Analog Thumb Sticks for Sony Playstation Dual Shock 4 PS4 Controller (Black)', 'Wireless Controller for P-4,', 'ENHANCE Scoria USB Gaming Headset with Noise Cancelling Mic, 7.1 Surround Sound, Bass Vibration, LED Lighting & In-Line Controls - Gaming Headphones for PC, Laptop, PS5, PS4 - TeamSpeak Certified', '2 Pack Wireless Controller for Playstation 4, Qyszy88 Wireless Controller for Sony PS4/Pro/Slim/, with Double Shock/Stereo Headset Jack/Touch Pad/Six-axis Motion Control，Great Gamepad Gift (Blue+Purple)', 'Drimoor Wireless Controller Compatible with PC - Replacement Game Joystick Remote Compatible with PC', 'Kingdom Hearts: All-in-One Package - PlayStation 4', 'Replacement for PS-4 Controller, Wireless Controller for Ps4/Pro/3/Slim/PC, Touch Panel Gamepad with Dual Vibration and Audio Function, LED Indicator USB Cable - Berry Blue']\n",
      "----------\n",
      "For BENGOO Stereo Pro Gaming Headset for PS4, PC, Xbox One Controller, Noise Cancelling Over Ear Headphones with Mic, LED Light, Bass Surround, Soft Memory Earmuffs for Laptop Mac Wii Accessory Kits\n",
      "The similar items are ['BENGOO Gaming Keyboard, RGB LED Rainbow Backlit Small Gaming Keyboard with 89 Keys and Multimedia Shortcus, Mechanical Feeling Keyboard Wired with 25 Anti-ghosting Keys for Windows Gaming PC Mac', 'BENGOO G9900 Gaming Headset Headphones for PS4 PS5 Xbox One PC Controller, Noise Isolating Over Ear Headphones with Mic, Red LED Light, Bass Surround for Super Nintendo Sega Dreamcast Sony PSP', 'BENGOO Gaming Keyboard, RGB LED Rainbow Backlit Small Wired Keyboard with 89 Keys and Multimedia Shortcus,Mechanical Feeling Keyboard with 25 Anti-ghosting Keys for Computer Gamer PC Mac', 'Microsoft Xbox One Wireless Controller (Bulk Packaging) (Volcano Shadow)', 'BENGOO KM-2 Wireless Gaming Mouse, Computer Mouse USB Wireless Mouse with 7 Programmed Buttons 3 Adjustable DPI RGB Backlits Rapid Fire Button, Ergonomic Optical Gamer Mice for Windows PC Mac', 'BENGOO G9700 Gaming Headset Headphones for PS4 PS5 Xbox One PC Controller, Noise Canceling Over Ear Headphones with Mic, White LED Light, Bass Surround Sound for Sega Genesis Game Boy', 'G9400 Gaming Headset for PS4 PS5 PC Xbox One Controller, Noise Cancelling Over Ear Headphones with Mic, Bass Surround Sound, Memory Earmuffs, Wired Headsets for Mac Laptop Super Nintendo Gameboy', 'PDP Afterglow AG 9+ Prismatic True Wireless Headset for PlayStation 4 - White', 'BENGOO 2.4G Wireless Gaming Headset Headphones with Microphone for PS4 PS5 PC, 3.5mm Wired Mode for Switch Xbox Controller, Noise Cancelling Over Ear with 7.1 Surround Sound, Up to 17 Hrs']\n",
      "----------\n",
      "For DualShock 4 Wireless Controller for PlayStation 4 - Jet Black\n",
      "The similar items are ['Sony DUALSHOCK 4 USB Wireless Adapter - Playstation 4', 'Minecraft: PlayStation 4 Edition [PlayStation 4 PS4]', 'Crash Team Racing + Crash Bandicoot N.Sane Trilogy Bundle – Playstation 4', 'FIFA 18 PS4 Playstation 4 Game', 'Musou Dual USB Charging Charger Docking Station Stand Compatible for Playstation 4/Pro/Slim Controller', 'Megadream Controller Charger for PS4/PS4 Pro/PS4 Slim DualShock 4 Controller Charging Station', 'Amazon Basics PlayStation 4 Controller Charging Cable - Pack of 2, 6 Foot, Blue', 'FIFA 17 (PS4)', 'FIFA 18 for PlayStation 4']\n",
      "----------\n",
      "For No Man's Sky - PlayStation 4\n",
      "The similar items are ['Oyen Digital 2TB 5400RPM Hard Drive Upgrade Kit - Sony PlayStation 4 (PS4) - PlayStation 4', \"No Man's Sky - Limited Edition - PlayStation 4\", 'Lichdom: Battlemage - Xbox One', 'Nintendo 3DS Charging Cradle w/AC Adapter', 'Far Cry Primal Deluxe Edition with SteelBook - PlayStation 4', 'SOONHUA Xbox One,PS4 Gaming Headset with Mic,Over-Ear Noise Isolation Bass Gaming Headphones with Microphone, Surround Sound,Volume Control, Soft Memory Earmuffs for PC/Computers/Laptops/Phones', 'Detroit: Become Human - PS4 [Digital Code]', 'PlayStation 4 Vertical Stand', 'Corsair CA-9011139-NA VOID USB RGB Gaming Headset, White']\n",
      "----------\n",
      "For Uncharted 4: A Thief's End - PlayStation 4\n",
      "The similar items are ['Uncharted: The Lost Legacy - PlayStation 4', 'UNCHARTED: The Nathan Drake Collection - PlayStation 4', 'Rise of the Tomb Raider: 20 Year Celebration - PlayStation 4', 'Ratchet & Clank - PlayStation 4', 'DEATHLOOP Standard Edition - PlayStation 5', 'The Order: 1886 - PS4 [Digital Code]', 'Far Cry Primal Deluxe Edition with SteelBook - PlayStation 4', 'Uncharted: The Lost Legacy - PS4 [Digital Code]', 'Uncharted: Nathan Drake Collection Hits - PlayStation 4']\n",
      "----------\n",
      "For Doom - PC\n",
      "The similar items are ['Wolfenstein: The New Order - Xbox 360', 'Deus Ex: Mankind Divided - PS4 [Digital Code]', 'Bloodborne - Game Of The Year PS4 Game New (Middle Eastern Version)', 'Borderlands: The Handsome Collection - Xbox One', 'ScreamRide', 'The Talos Principle: Deluxe Edition - PlayStation 4', 'Wolfenstein: The Old Blood - Xbox One', \"Tom Clancy's The Division - Collector's Edition - Xbox One\", 'Enslaved: Odyssey To The West - Xbox 360']\n",
      "----------\n"
     ]
    }
   ],
   "source": [
    "for idx, parent_asin in enumerate(guest_vector):\n",
    "    print(f'For {get_item_name_from_id(parent_asin)}')\n",
    "    print(f'The similar items are {[get_item_name_from_id(uim['reverse_item_map'][parent_asin]) for parent_asin in similar_items[idx][0][1:10]]}')\n",
    "    print('----------')"
   ]
  },
  {
   "cell_type": "code",
   "execution_count": 31,
   "metadata": {},
   "outputs": [
    {
     "data": {
      "text/plain": [
       "('$40 Xbox Gift Card [Digital Code]',\n",
       " ['Xbox $5 Gift Card - Xbox 360 Digital Code',\n",
       "  'PowerA Complete Power Station',\n",
       "  \"WB Games Rocket League: Collector's Edition - Xbox One\",\n",
       "  'UL SADES SA807 Multi-Platform Gaming Headsets Headphones For New Xbox one PS4 PC Laptop Mac iPad iPod (Black&Blue)',\n",
       "  'Sour Patch Kids Limited Edition Just Blue',\n",
       "  'Wireless Controller for Nintendo Switch Pro - Sinbadteck Remote Controller for Nintendo Switch Switch pro Console w 6 Axis Gyro Dual Vibration',\n",
       "  'MLB The Show 16 - MVP Edition - PS4 [Digital Code]',\n",
       "  'Xbox LIVE 4000 Microsoft Points - Xbox 360 Digital Code',\n",
       "  '$20 PlayStation Store Gift Card [Digital Code]'])"
      ]
     },
     "execution_count": 31,
     "metadata": {},
     "output_type": "execute_result"
    }
   ],
   "source": [
    "get_item_name_from_id(guest_vector[0]), [get_item_name_from_id(uim['reverse_item_map'][parent_asin]) for parent_asin in similar_items[0][0][1:10]]"
   ]
  },
  {
   "cell_type": "markdown",
   "metadata": {},
   "source": [
    "### Text Features"
   ]
  },
  {
   "cell_type": "markdown",
   "metadata": {},
   "source": [
    "A more powerful recommendation system can be built using the other features in the `items` dataset"
   ]
  },
  {
   "cell_type": "code",
   "execution_count": 32,
   "metadata": {},
   "outputs": [
    {
     "data": {
      "text/html": [
       "<div>\n",
       "<style scoped>\n",
       "    .dataframe tbody tr th:only-of-type {\n",
       "        vertical-align: middle;\n",
       "    }\n",
       "\n",
       "    .dataframe tbody tr th {\n",
       "        vertical-align: top;\n",
       "    }\n",
       "\n",
       "    .dataframe thead th {\n",
       "        text-align: right;\n",
       "    }\n",
       "</style>\n",
       "<table border=\"1\" class=\"dataframe\">\n",
       "  <thead>\n",
       "    <tr style=\"text-align: right;\">\n",
       "      <th></th>\n",
       "      <th>title</th>\n",
       "      <th>parent_asin</th>\n",
       "      <th>features</th>\n",
       "      <th>description</th>\n",
       "      <th>details</th>\n",
       "      <th>categories</th>\n",
       "    </tr>\n",
       "  </thead>\n",
       "  <tbody>\n",
       "    <tr>\n",
       "      <th>0</th>\n",
       "      <td>Phantasmagoria: A Puzzle of Flesh</td>\n",
       "      <td>B00069EVOG</td>\n",
       "      <td>['Windows 95']</td>\n",
       "      <td>[]</td>\n",
       "      <td>{'Best Sellers Rank': {'Video Games': 137612, ...</td>\n",
       "      <td>['Video Games', 'PC', 'Games']</td>\n",
       "    </tr>\n",
       "    <tr>\n",
       "      <th>1</th>\n",
       "      <td>NBA 2K17 - Early Tip Off Edition - PlayStation 4</td>\n",
       "      <td>B00Z9TLVK0</td>\n",
       "      <td>['The #1 rated NBA video game simulation serie...</td>\n",
       "      <td>['Following the record-breaking launch of NBA ...</td>\n",
       "      <td>{'Release date': 'September 16, 2016', 'Best S...</td>\n",
       "      <td>['Video Games', 'PlayStation 4', 'Games']</td>\n",
       "    </tr>\n",
       "    <tr>\n",
       "      <th>2</th>\n",
       "      <td>Nintendo Selects: The Legend of Zelda Ocarina ...</td>\n",
       "      <td>B07SZJZV88</td>\n",
       "      <td>['Authentic Nintendo Selects: The Legend of Ze...</td>\n",
       "      <td>[]</td>\n",
       "      <td>{'Best Sellers Rank': {'Video Games': 51019, '...</td>\n",
       "      <td>['Video Games', 'Legacy Systems', 'Nintendo Sy...</td>\n",
       "    </tr>\n",
       "    <tr>\n",
       "      <th>3</th>\n",
       "      <td>Spongebob Squarepants, Vol. 1</td>\n",
       "      <td>B0001ZNU56</td>\n",
       "      <td>['Bubblestand: SpongeBob shows Patrick and Squ...</td>\n",
       "      <td>['Now you can watch the wild underwater antics...</td>\n",
       "      <td>{'Release date': 'August 15, 2004', 'Best Sell...</td>\n",
       "      <td>['Video Games', 'Legacy Systems', 'Nintendo Sy...</td>\n",
       "    </tr>\n",
       "    <tr>\n",
       "      <th>4</th>\n",
       "      <td>eXtremeRate Soft Touch Top Shell Front Housing...</td>\n",
       "      <td>B07H93H878</td>\n",
       "      <td>['Compatibility Models: Ultra fits for Xbox On...</td>\n",
       "      <td>[]</td>\n",
       "      <td>{'Best Sellers Rank': {'Video Games': 48130, '...</td>\n",
       "      <td>['Video Games', 'Xbox One', 'Accessories', 'Fa...</td>\n",
       "    </tr>\n",
       "    <tr>\n",
       "      <th>...</th>\n",
       "      <td>...</td>\n",
       "      <td>...</td>\n",
       "      <td>...</td>\n",
       "      <td>...</td>\n",
       "      <td>...</td>\n",
       "      <td>...</td>\n",
       "    </tr>\n",
       "    <tr>\n",
       "      <th>121815</th>\n",
       "      <td>DANVILLE SKY</td>\n",
       "      <td>B014RXTSDK</td>\n",
       "      <td>[]</td>\n",
       "      <td>['Disney Infinity Series 3 Power Disc Danville...</td>\n",
       "      <td>{'Best Sellers Rank': {'Video Games': 105422, ...</td>\n",
       "      <td>['Video Games', 'Legacy Systems', 'Nintendo Sy...</td>\n",
       "    </tr>\n",
       "    <tr>\n",
       "      <th>121816</th>\n",
       "      <td>Ci-Yu-Online Charizard Black #1 Limited Editio...</td>\n",
       "      <td>B07JDT455V</td>\n",
       "      <td>[]</td>\n",
       "      <td>[]</td>\n",
       "      <td>{'Pricing': 'The strikethrough price is the Li...</td>\n",
       "      <td>['Video Games', 'Legacy Systems', 'Nintendo Sy...</td>\n",
       "    </tr>\n",
       "    <tr>\n",
       "      <th>121817</th>\n",
       "      <td>Story of Seasons: Pioneers Of Olive Town (Nint...</td>\n",
       "      <td>B09XQJS4CZ</td>\n",
       "      <td>['A wild world of discovery - tame the wildern...</td>\n",
       "      <td>['Product Description', \"Inspired by Tales of ...</td>\n",
       "      <td>{'Release date': 'March 26, 2021', 'Best Selle...</td>\n",
       "      <td>['Video Games', 'Nintendo Switch', 'Games']</td>\n",
       "    </tr>\n",
       "    <tr>\n",
       "      <th>121818</th>\n",
       "      <td>MotoGP 18 (PC DVD) UK IMPORT REGION FREE</td>\n",
       "      <td>B07DGPTGNV</td>\n",
       "      <td>['Brand new game engine - MotoGP18 has been re...</td>\n",
       "      <td>['Become the champion of the 2018 MotoGP Seaso...</td>\n",
       "      <td>{'Pricing': 'The strikethrough price is the Li...</td>\n",
       "      <td>['Video Games', 'Game Genre of the Month']</td>\n",
       "    </tr>\n",
       "    <tr>\n",
       "      <th>121819</th>\n",
       "      <td>Century Accessory Soft Silicone Protective Ski...</td>\n",
       "      <td>B00HUWCQBW</td>\n",
       "      <td>['Easy access to all buttons, controls and por...</td>\n",
       "      <td>['This soft case cover will add a splash of co...</td>\n",
       "      <td>{'Package Dimensions': '2.76 x 2.76 x 0.2 inch...</td>\n",
       "      <td>['Video Games', 'Legacy Systems', 'Xbox System...</td>\n",
       "    </tr>\n",
       "  </tbody>\n",
       "</table>\n",
       "<p>121820 rows × 6 columns</p>\n",
       "</div>"
      ],
      "text/plain": [
       "                                                    title parent_asin  \\\n",
       "0                       Phantasmagoria: A Puzzle of Flesh  B00069EVOG   \n",
       "1        NBA 2K17 - Early Tip Off Edition - PlayStation 4  B00Z9TLVK0   \n",
       "2       Nintendo Selects: The Legend of Zelda Ocarina ...  B07SZJZV88   \n",
       "3                           Spongebob Squarepants, Vol. 1  B0001ZNU56   \n",
       "4       eXtremeRate Soft Touch Top Shell Front Housing...  B07H93H878   \n",
       "...                                                   ...         ...   \n",
       "121815                                       DANVILLE SKY  B014RXTSDK   \n",
       "121816  Ci-Yu-Online Charizard Black #1 Limited Editio...  B07JDT455V   \n",
       "121817  Story of Seasons: Pioneers Of Olive Town (Nint...  B09XQJS4CZ   \n",
       "121818           MotoGP 18 (PC DVD) UK IMPORT REGION FREE  B07DGPTGNV   \n",
       "121819  Century Accessory Soft Silicone Protective Ski...  B00HUWCQBW   \n",
       "\n",
       "                                                 features  \\\n",
       "0                                          ['Windows 95']   \n",
       "1       ['The #1 rated NBA video game simulation serie...   \n",
       "2       ['Authentic Nintendo Selects: The Legend of Ze...   \n",
       "3       ['Bubblestand: SpongeBob shows Patrick and Squ...   \n",
       "4       ['Compatibility Models: Ultra fits for Xbox On...   \n",
       "...                                                   ...   \n",
       "121815                                                 []   \n",
       "121816                                                 []   \n",
       "121817  ['A wild world of discovery - tame the wildern...   \n",
       "121818  ['Brand new game engine - MotoGP18 has been re...   \n",
       "121819  ['Easy access to all buttons, controls and por...   \n",
       "\n",
       "                                              description  \\\n",
       "0                                                      []   \n",
       "1       ['Following the record-breaking launch of NBA ...   \n",
       "2                                                      []   \n",
       "3       ['Now you can watch the wild underwater antics...   \n",
       "4                                                      []   \n",
       "...                                                   ...   \n",
       "121815  ['Disney Infinity Series 3 Power Disc Danville...   \n",
       "121816                                                 []   \n",
       "121817  ['Product Description', \"Inspired by Tales of ...   \n",
       "121818  ['Become the champion of the 2018 MotoGP Seaso...   \n",
       "121819  ['This soft case cover will add a splash of co...   \n",
       "\n",
       "                                                  details  \\\n",
       "0       {'Best Sellers Rank': {'Video Games': 137612, ...   \n",
       "1       {'Release date': 'September 16, 2016', 'Best S...   \n",
       "2       {'Best Sellers Rank': {'Video Games': 51019, '...   \n",
       "3       {'Release date': 'August 15, 2004', 'Best Sell...   \n",
       "4       {'Best Sellers Rank': {'Video Games': 48130, '...   \n",
       "...                                                   ...   \n",
       "121815  {'Best Sellers Rank': {'Video Games': 105422, ...   \n",
       "121816  {'Pricing': 'The strikethrough price is the Li...   \n",
       "121817  {'Release date': 'March 26, 2021', 'Best Selle...   \n",
       "121818  {'Pricing': 'The strikethrough price is the Li...   \n",
       "121819  {'Package Dimensions': '2.76 x 2.76 x 0.2 inch...   \n",
       "\n",
       "                                               categories  \n",
       "0                          ['Video Games', 'PC', 'Games']  \n",
       "1               ['Video Games', 'PlayStation 4', 'Games']  \n",
       "2       ['Video Games', 'Legacy Systems', 'Nintendo Sy...  \n",
       "3       ['Video Games', 'Legacy Systems', 'Nintendo Sy...  \n",
       "4       ['Video Games', 'Xbox One', 'Accessories', 'Fa...  \n",
       "...                                                   ...  \n",
       "121815  ['Video Games', 'Legacy Systems', 'Nintendo Sy...  \n",
       "121816  ['Video Games', 'Legacy Systems', 'Nintendo Sy...  \n",
       "121817        ['Video Games', 'Nintendo Switch', 'Games']  \n",
       "121818         ['Video Games', 'Game Genre of the Month']  \n",
       "121819  ['Video Games', 'Legacy Systems', 'Xbox System...  \n",
       "\n",
       "[121820 rows x 6 columns]"
      ]
     },
     "execution_count": 32,
     "metadata": {},
     "output_type": "execute_result"
    }
   ],
   "source": [
    "items[['title', 'parent_asin', 'features', 'description', 'details', 'categories']]"
   ]
  },
  {
   "cell_type": "markdown",
   "metadata": {},
   "source": [
    "Use TF-IDF or BERT Embeddings... (Embeddings would be better as descriptions may not contain similar words)"
   ]
  },
  {
   "cell_type": "markdown",
   "metadata": {},
   "source": [
    "Good luck :)"
   ]
  }
 ],
 "metadata": {
  "kernelspec": {
   "display_name": "Python 3",
   "language": "python",
   "name": "python3"
  },
  "language_info": {
   "codemirror_mode": {
    "name": "ipython",
    "version": 3
   },
   "file_extension": ".py",
   "mimetype": "text/x-python",
   "name": "python",
   "nbconvert_exporter": "python",
   "pygments_lexer": "ipython3",
   "version": "3.12.6"
  }
 },
 "nbformat": 4,
 "nbformat_minor": 2
}
