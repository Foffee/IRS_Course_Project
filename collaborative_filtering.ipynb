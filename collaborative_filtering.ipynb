{
 "cells": [
  {
   "cell_type": "markdown",
   "metadata": {},
   "source": [
    "## Collaborative Filtering"
   ]
  },
  {
   "cell_type": "markdown",
   "metadata": {},
   "source": [
    "### Loading Datasets"
   ]
  },
  {
   "cell_type": "markdown",
   "metadata": {},
   "source": [
    "The reviews and items are from the output of the `preprocessing.ipynb` file"
   ]
  },
  {
   "cell_type": "code",
   "execution_count": 1,
   "metadata": {},
   "outputs": [],
   "source": [
    "import pandas as pd\n",
    "\n",
    "reviews = pd.read_csv('../datasets/slimmed/reviews.csv')\n",
    "items = pd.read_csv('../datasets/slimmed/items.csv')"
   ]
  },
  {
   "cell_type": "markdown",
   "metadata": {},
   "source": [
    "Helper function to get title of item from its id (parent_asin)"
   ]
  },
  {
   "cell_type": "code",
   "execution_count": 2,
   "metadata": {},
   "outputs": [],
   "source": [
    "def get_item_name_from_id(parent_asin):\n",
    "\treturn items[items['parent_asin'] == parent_asin]['title'].unique()[0]"
   ]
  },
  {
   "cell_type": "markdown",
   "metadata": {},
   "source": [
    "### Creating Sparse Matrix"
   ]
  },
  {
   "cell_type": "markdown",
   "metadata": {},
   "source": [
    "The size of the user-item matrix would be too large to fit in memory and would contain many zero values anyway"
   ]
  },
  {
   "cell_type": "code",
   "execution_count": 3,
   "metadata": {},
   "outputs": [
    {
     "data": {
      "text/plain": [
       "('2,282,093', '121,820', '278,004,569,260')"
      ]
     },
     "execution_count": 3,
     "metadata": {},
     "output_type": "execute_result"
    }
   ],
   "source": [
    "num_user_ids, num_item_ids = reviews['user_id'].nunique(), items['parent_asin'].nunique()\n",
    "format(num_user_ids, ','), format(num_item_ids, ','), format(num_user_ids * num_item_ids, ',')"
   ]
  },
  {
   "cell_type": "markdown",
   "metadata": {},
   "source": [
    "The sparse matrix and mappings from `user_item_matrix` are imported into `uim`"
   ]
  },
  {
   "cell_type": "code",
   "execution_count": 4,
   "metadata": {},
   "outputs": [
    {
     "name": "stdout",
     "output_type": "stream",
     "text": [
      "99.998734\n"
     ]
    }
   ],
   "source": [
    "import nbformat\n",
    "\n",
    "# Load the notebook\n",
    "with open('user_item_matrix.ipynb', 'r', encoding='utf-8') as f:\n",
    "\tnb = nbformat.read(f, as_version=4)\n",
    "\n",
    "# Execute all code cells and store data in the uim dict\n",
    "uim = {}\n",
    "for cell in nb.cells:\n",
    "\tif cell.cell_type == 'code':\n",
    "\t\texec(cell.source, uim)"
   ]
  },
  {
   "cell_type": "markdown",
   "metadata": {},
   "source": [
    "### ALS Model (Alternating Least Squares)"
   ]
  },
  {
   "cell_type": "markdown",
   "metadata": {},
   "source": [
    "`implicit` library already uses multithreading so `BLAS` threads should be set to 1 to avoid overhead"
   ]
  },
  {
   "cell_type": "code",
   "execution_count": 5,
   "metadata": {},
   "outputs": [
    {
     "data": {
      "text/plain": [
       "<threadpoolctl.threadpool_limits at 0x298d7c2ec60>"
      ]
     },
     "execution_count": 5,
     "metadata": {},
     "output_type": "execute_result"
    }
   ],
   "source": [
    "import threadpoolctl \n",
    "threadpoolctl.threadpool_limits(1, 'blas')"
   ]
  },
  {
   "cell_type": "markdown",
   "metadata": {},
   "source": [
    "#### Transforming CSR Ratings To Confidence"
   ]
  },
  {
   "cell_type": "markdown",
   "metadata": {},
   "source": [
    "A core issue here is that implicit's ALS model works with implicit feedback and not explicit ones such as rating "
   ]
  },
  {
   "cell_type": "code",
   "execution_count": 6,
   "metadata": {},
   "outputs": [],
   "source": [
    "import numpy as np\n",
    "\n",
    "# Extract components\n",
    "data = uim['sparse_matrix_csr'].data\n",
    "indices = uim['sparse_matrix_csr'].indices\n",
    "indptr = uim['sparse_matrix_csr'].indptr\n",
    "\n",
    "# Compute per-user mean ratings\n",
    "n_users = uim['sparse_matrix_csr'].shape[0]\n",
    "\n",
    "user_means = np.zeros(n_users)\n",
    "max_user_ratings = np.zeros(n_users)\n",
    "\n",
    "for user in range(n_users):\n",
    "\tstart, end = indptr[user], indptr[user + 1]\n",
    "\tuser_ratings = data[start:end]\n",
    "\n",
    "\tif len(user_ratings) > 0:\n",
    "\t\tuser_means[user] = np.mean(user_ratings)\n",
    "\t\tmax_user_ratings[user] = np.max(user_ratings)\n",
    "\telse:\n",
    "\t\tuser_means[user] = 0.0\n",
    "\t\tmax_user_ratings[user] = 1"
   ]
  },
  {
   "cell_type": "markdown",
   "metadata": {},
   "source": [
    "`ALPHA` is scaling factor that determines how strongly the higher ratings are trusted over low ones."
   ]
  },
  {
   "cell_type": "code",
   "execution_count": 7,
   "metadata": {},
   "outputs": [],
   "source": [
    "ALPHA = 80"
   ]
  },
  {
   "cell_type": "markdown",
   "metadata": {},
   "source": [
    "The following strategy is proposed for handling this<br><br>\n",
    "For every item with mean user rating $\\mu_u$<br>\n",
    "o If an item rating is less than $\\mu_u$, then it is set to 0 (considered as not seen)<br>\n",
    "o Otherwise, it is scaled to a value in the range [1, 5] using min-max normalization of min=$\\mu_u$ and max=max_user_rating"
   ]
  },
  {
   "cell_type": "code",
   "execution_count": 8,
   "metadata": {},
   "outputs": [],
   "source": [
    "new_data = data.copy()\n",
    "\n",
    "for user in range(n_users):\n",
    "\tstart, end = indptr[user], indptr[user + 1]\n",
    "\tfor i in range(start, end):\n",
    "\t\trating = data[i]\n",
    "\t\tmean = user_means[user]\n",
    "\t\tmax_rating = max_user_ratings[user]\n",
    "\n",
    "\t\tif rating < mean:\n",
    "\t\t\tnew_data[i] = 0  # no confidence\n",
    "\t\telse:\n",
    "\t\t\t# # If user only gave ratings of 5, then it can be considered as the \"neutral\" rating\n",
    "\t\t\t# if mean == 5:\n",
    "\t\t\t#     conf = 3\n",
    "\t\t\t# # Linear map from [mean, 5] to [1, 5]\n",
    "\t\t\t# else:\n",
    "\t\t\t#     conf = (rating - mean) / (5 - mean) * 4 + 1\n",
    "\n",
    "\t\t\ts = 0\n",
    "\t\t\tif max_rating == mean:\n",
    "\t\t\t\ts = 1.0\n",
    "\t\t\telse:\n",
    "\t\t\t\ts = (rating - mean) / (max_rating - mean)\n",
    "\n",
    "\t\t\tnew_data[i] = 1 + ALPHA * s"
   ]
  },
  {
   "cell_type": "code",
   "execution_count": 9,
   "metadata": {},
   "outputs": [],
   "source": [
    "from scipy.sparse import csr_matrix\n",
    "confidence_csr = csr_matrix((new_data, indices, indptr), shape=uim['sparse_matrix_csr'].shape)"
   ]
  },
  {
   "cell_type": "code",
   "execution_count": 10,
   "metadata": {},
   "outputs": [],
   "source": [
    "confidence_csr.eliminate_zeros()"
   ]
  },
  {
   "cell_type": "markdown",
   "metadata": {},
   "source": [
    "The ALS model is trained"
   ]
  },
  {
   "cell_type": "code",
   "execution_count": 11,
   "metadata": {},
   "outputs": [
    {
     "data": {
      "application/vnd.jupyter.widget-view+json": {
       "model_id": "209c18309304478ea8b7ed413e259f5e",
       "version_major": 2,
       "version_minor": 0
      },
      "text/plain": [
       "  0%|          | 0/15 [00:00<?, ?it/s]"
      ]
     },
     "metadata": {},
     "output_type": "display_data"
    }
   ],
   "source": [
    "from implicit.als import AlternatingLeastSquares\n",
    "\n",
    "# Train ALS model\n",
    "als_model = AlternatingLeastSquares(factors=200, iterations=15, regularization=0.1, random_state=42, calculate_training_loss=True)\n",
    "als_model.fit(confidence_csr)"
   ]
  },
  {
   "cell_type": "markdown",
   "metadata": {},
   "source": [
    "#### Saving ALS Model"
   ]
  },
  {
   "cell_type": "code",
   "execution_count": 12,
   "metadata": {},
   "outputs": [],
   "source": [
    "import pickle\n",
    "import gzip\n",
    "\n",
    "# Save to a pickle file\n",
    "with gzip.open('../data_structures/als_model.pkl', 'wb', compresslevel=5) as f:\n",
    "\tpickle.dump(als_model, f)"
   ]
  },
  {
   "cell_type": "markdown",
   "metadata": {},
   "source": [
    "#### Loading ALS Model"
   ]
  },
  {
   "cell_type": "code",
   "execution_count": 13,
   "metadata": {},
   "outputs": [],
   "source": [
    "import pickle\n",
    "import gzip\n",
    "\n",
    "from typing import cast\n",
    "from implicit.cpu.als import AlternatingLeastSquares\n",
    "\n",
    "# Load the compressed file\n",
    "with gzip.open('../data_structures/als_model.pkl', 'rb') as f:\n",
    "\tals_model = cast(AlternatingLeastSquares, pickle.load(f))"
   ]
  },
  {
   "cell_type": "markdown",
   "metadata": {},
   "source": [
    "#### Predicting User Ratings"
   ]
  },
  {
   "cell_type": "markdown",
   "metadata": {},
   "source": [
    "A test run where the top 5 items are recommended for user with id from the map"
   ]
  },
  {
   "cell_type": "code",
   "execution_count": 14,
   "metadata": {},
   "outputs": [
    {
     "name": "stdout",
     "output_type": "stream",
     "text": [
      "Top 15 recommended items for User AFTC6ZR5IKNRDG5JCPVNVMU3XV2Q:\n",
      "Item B00KSVXSZU - Score: 0.3600\n",
      "Item B00DBDPOZ4 - Score: 0.3291\n",
      "Item B01GW8VG7O - Score: 0.2962\n",
      "Item B00EQNP8F4 - Score: 0.2639\n",
      "Item B00DB2BI8M - Score: 0.2566\n",
      "Item B08LMKNSPL - Score: 0.2524\n",
      "Item B01JS3F79I - Score: 0.2338\n",
      "Item B00KSRV19E - Score: 0.2279\n",
      "Item B07K3KHFSY - Score: 0.2209\n",
      "Item B00MMN7W9A - Score: 0.2192\n",
      "Item B00LMHX16K - Score: 0.2181\n",
      "Item B07FSYMKPD - Score: 0.2171\n",
      "Item B082W522QZ - Score: 0.2170\n",
      "Item B00ZDNNRB8 - Score: 0.2161\n",
      "Item B00ASKNT3W - Score: 0.2153\n"
     ]
    }
   ],
   "source": [
    "user_id = 2  # Target user\n",
    "num_recommendations = 15  # How many items to recommend\n",
    "\n",
    "# Get top N recommended items and their scores\n",
    "recommended_items = als_model.recommend(\n",
    "\tuser_id, uim['sparse_matrix_csr'][user_id], N=num_recommendations\n",
    ")\n",
    "\n",
    "recommendations, scores = recommended_items\n",
    "recommendations_scores = zip(recommendations, scores)\n",
    "\n",
    "print(f'Top {num_recommendations} recommended items for User {uim['reverse_user_map'][user_id]}:')\n",
    "for item_id, score in recommendations_scores:\n",
    "\tprint(f'Item {uim['reverse_item_map'][item_id]} - Score: {score:.4f}')"
   ]
  },
  {
   "cell_type": "code",
   "execution_count": 15,
   "metadata": {},
   "outputs": [
    {
     "data": {
      "text/html": [
       "<div>\n",
       "<style scoped>\n",
       "    .dataframe tbody tr th:only-of-type {\n",
       "        vertical-align: middle;\n",
       "    }\n",
       "\n",
       "    .dataframe tbody tr th {\n",
       "        vertical-align: top;\n",
       "    }\n",
       "\n",
       "    .dataframe thead th {\n",
       "        text-align: right;\n",
       "    }\n",
       "</style>\n",
       "<table border=\"1\" class=\"dataframe\">\n",
       "  <thead>\n",
       "    <tr style=\"text-align: right;\">\n",
       "      <th></th>\n",
       "      <th>parent_asin</th>\n",
       "      <th>rating</th>\n",
       "    </tr>\n",
       "  </thead>\n",
       "  <tbody>\n",
       "    <tr>\n",
       "      <th>3</th>\n",
       "      <td>B0BCHWZX95</td>\n",
       "      <td>5</td>\n",
       "    </tr>\n",
       "    <tr>\n",
       "      <th>4</th>\n",
       "      <td>B00HUWA45W</td>\n",
       "      <td>5</td>\n",
       "    </tr>\n",
       "  </tbody>\n",
       "</table>\n",
       "</div>"
      ],
      "text/plain": [
       "  parent_asin  rating\n",
       "3  B0BCHWZX95       5\n",
       "4  B00HUWA45W       5"
      ]
     },
     "execution_count": 15,
     "metadata": {},
     "output_type": "execute_result"
    }
   ],
   "source": [
    "already_rated_user_items = reviews[reviews['user_id'] == uim['reverse_user_map'][user_id]][['title', 'parent_asin', 'text', 'rating']]\n",
    "already_rated_user_items[['parent_asin', 'rating']]"
   ]
  },
  {
   "cell_type": "code",
   "execution_count": 16,
   "metadata": {},
   "outputs": [
    {
     "data": {
      "text/html": [
       "<div>\n",
       "<style scoped>\n",
       "    .dataframe tbody tr th:only-of-type {\n",
       "        vertical-align: middle;\n",
       "    }\n",
       "\n",
       "    .dataframe tbody tr th {\n",
       "        vertical-align: top;\n",
       "    }\n",
       "\n",
       "    .dataframe thead th {\n",
       "        text-align: right;\n",
       "    }\n",
       "</style>\n",
       "<table border=\"1\" class=\"dataframe\">\n",
       "  <thead>\n",
       "    <tr style=\"text-align: right;\">\n",
       "      <th></th>\n",
       "      <th>title</th>\n",
       "    </tr>\n",
       "  </thead>\n",
       "  <tbody>\n",
       "    <tr>\n",
       "      <th>4085</th>\n",
       "      <td>PowerA Enhanced Wireless Controller for Ninten...</td>\n",
       "    </tr>\n",
       "    <tr>\n",
       "      <th>18048</th>\n",
       "      <td>KontrolFreek FPS Freek CQC Signature - Xbox One</td>\n",
       "    </tr>\n",
       "  </tbody>\n",
       "</table>\n",
       "</div>"
      ],
      "text/plain": [
       "                                                   title\n",
       "4085   PowerA Enhanced Wireless Controller for Ninten...\n",
       "18048    KontrolFreek FPS Freek CQC Signature - Xbox One"
      ]
     },
     "execution_count": 16,
     "metadata": {},
     "output_type": "execute_result"
    }
   ],
   "source": [
    "items[items['parent_asin'].isin(already_rated_user_items['parent_asin'])][['title']]"
   ]
  },
  {
   "cell_type": "code",
   "execution_count": 17,
   "metadata": {},
   "outputs": [
    {
     "data": {
      "text/plain": [
       "(array([4, 3]), array([0.07769904, 0.00035912], dtype=float32))"
      ]
     },
     "execution_count": 17,
     "metadata": {},
     "output_type": "execute_result"
    }
   ],
   "source": [
    "als_model.recommend(\n",
    "\tuser_id, uim['sparse_matrix_csr'][user_id], items=[3, 4], filter_already_liked_items=False\n",
    ")"
   ]
  },
  {
   "cell_type": "markdown",
   "metadata": {},
   "source": [
    "Those confidence scores in the items are now converted back to user ratings"
   ]
  },
  {
   "cell_type": "code",
   "execution_count": 18,
   "metadata": {},
   "outputs": [
    {
     "data": {
      "text/plain": [
       "(2, 'AFTC6ZR5IKNRDG5JCPVNVMU3XV2Q', np.float64(5.0), np.float64(5.0))"
      ]
     },
     "execution_count": 18,
     "metadata": {},
     "output_type": "execute_result"
    }
   ],
   "source": [
    "user_id, uim['reverse_user_map'][user_id], user_means[user_id], max_user_ratings[user_id]"
   ]
  },
  {
   "cell_type": "markdown",
   "metadata": {},
   "source": [
    "A helper function to convert confidence scores to predicted ratings"
   ]
  },
  {
   "cell_type": "code",
   "execution_count": 19,
   "metadata": {},
   "outputs": [],
   "source": [
    "def confidence_to_predicted_rating(user_id, confidences):\n",
    "    mean = user_means[user_id]\n",
    "    max_rating = max_user_ratings[user_id]\n",
    "\n",
    "    s = (confidences - 1) / ALPHA\n",
    "    return mean + s * (max_rating - mean)"
   ]
  },
  {
   "cell_type": "markdown",
   "metadata": {},
   "source": [
    "The model correctly predicted the user's ratings on items they'd seen before"
   ]
  },
  {
   "cell_type": "code",
   "execution_count": 20,
   "metadata": {},
   "outputs": [
    {
     "data": {
      "text/plain": [
       "array([5., 5.])"
      ]
     },
     "execution_count": 20,
     "metadata": {},
     "output_type": "execute_result"
    }
   ],
   "source": [
    "confidence_to_predicted_rating(user_id, als_model.recommend(\n",
    "\tuser_id, uim['sparse_matrix_csr'][user_id], items=[3, 4], filter_already_liked_items=False\n",
    ")[1])"
   ]
  },
  {
   "cell_type": "markdown",
   "metadata": {},
   "source": [
    "The predicted ratings that the user would give to the recommended items"
   ]
  },
  {
   "cell_type": "code",
   "execution_count": 21,
   "metadata": {},
   "outputs": [
    {
     "data": {
      "text/plain": [
       "[(np.int32(78352), np.float64(5.0)),\n",
       " (np.int32(104562), np.float64(5.0)),\n",
       " (np.int32(68874), np.float64(5.0)),\n",
       " (np.int32(40735), np.float64(5.0)),\n",
       " (np.int32(8938), np.float64(5.0)),\n",
       " (np.int32(968), np.float64(5.0)),\n",
       " (np.int32(91094), np.float64(5.0)),\n",
       " (np.int32(10450), np.float64(5.0)),\n",
       " (np.int32(28605), np.float64(5.0)),\n",
       " (np.int32(66300), np.float64(5.0)),\n",
       " (np.int32(44264), np.float64(5.0)),\n",
       " (np.int32(16727), np.float64(5.0)),\n",
       " (np.int32(22046), np.float64(5.0)),\n",
       " (np.int32(1645), np.float64(5.0)),\n",
       " (np.int32(56938), np.float64(5.0))]"
      ]
     },
     "execution_count": 21,
     "metadata": {},
     "output_type": "execute_result"
    }
   ],
   "source": [
    "list(zip(recommendations, confidence_to_predicted_rating(user_id, recommendations)))"
   ]
  },
  {
   "cell_type": "markdown",
   "metadata": {},
   "source": [
    "The names of the recommended items"
   ]
  },
  {
   "cell_type": "code",
   "execution_count": 22,
   "metadata": {},
   "outputs": [
    {
     "data": {
      "text/plain": [
       "['Turtle Beach - Ear Force XO One Amplified Gaming Headset and Headset Audio Controller- Xbox One',\n",
       " 'Xbox One Play and Charge Kit',\n",
       " 'Xbox One X 1TB Limited Edition Console - Project Scorpio Edition [Discontinued]',\n",
       " 'Microsoft Xbox LIVE 12 Month Gold Membership (Physical Card)',\n",
       " 'Rocksmith 2014 Edition - PC/Mac (Cable Included)',\n",
       " 'KontrolFreek Alpha for Xbox One and Xbox Series X Controller | Performance Thumbsticks | 2 Low-Rise Concave | Green (Blue)',\n",
       " 'Turtle Beach - Stealth 520 Premium Fully Wireless Gaming Headset \\xa0PS4 Pro PS4 & PS3 (Discontinued by Manufacturer)',\n",
       " 'Forza Horizon 2 for Xbox One',\n",
       " 'Nyko Charge Base - 2 Port Controller Charger with 2 USB Charge Adapters for PlayStation 3',\n",
       " 'KontrolFreek CQCX Performance Thumbsticks for Xbox One 2 Mid-Rise Convex Thumb Grips Black',\n",
       " 'KontrolFreek FPS Freek CQC for Xbox One Controller | Performance Thumbsticks | 2 Mid-Rise Concave | Black',\n",
       " 'HyperX Cloud Pro Gaming Headset - Silver - with in-Line Audio Control for PS4, Xbox One, and PC (HX-HSCL-SR/NA)',\n",
       " 'eXtremeRate Soft Anti-Slip Silicone Controller Cover Skins Thumb Grips Caps Protective Case for Xbox One Elite - Black',\n",
       " 'Xbox Elite Wireless Controller',\n",
       " 'Turtle Beach - Ear Force HS1 Universal Gaming Headset Stand']"
      ]
     },
     "execution_count": 22,
     "metadata": {},
     "output_type": "execute_result"
    }
   ],
   "source": [
    "list(map(lambda i: get_item_name_from_id(uim['reverse_item_map'][i]), recommendations))"
   ]
  },
  {
   "cell_type": "markdown",
   "metadata": {},
   "source": [
    "### Finding Similar Users"
   ]
  },
  {
   "cell_type": "code",
   "execution_count": 23,
   "metadata": {},
   "outputs": [
    {
     "name": "stdout",
     "output_type": "stream",
     "text": [
      "Top 10 users similar to User AFTC6ZR5IKNRDG5JCPVNVMU3XV2Q:\n",
      "User AHAFOJR2DG35UZR36IGJPUKYOP6Q - Similarity Score: 0.8024\n",
      "User AEHYRREFC65LM6WI6PUSKEV7EGSA - Similarity Score: 0.8024\n",
      "User AFOOTQZFQTKZCTCMF6J2QY4SMBVQ - Similarity Score: 0.8024\n",
      "User AGPYL2VFOE3ECPEM7MLLMPWPPWIQ - Similarity Score: 0.8024\n",
      "User AGOY3BLZLETYUBBYEQXOD4F74OOA - Similarity Score: 0.8024\n",
      "User AFDLCLJLGZXA2XJ45DONGSVO4XXQ - Similarity Score: 0.8024\n",
      "User AFNFYEEHTMG4DCD7O2Y5YHUAYJHQ - Similarity Score: 0.8024\n",
      "User AE4JBASSCLATBR3EW5F2DZOI2H6A - Similarity Score: 0.8024\n",
      "User AFTJ7MJFDEHXWGP6E7VDR624A4WQ - Similarity Score: 0.8024\n"
     ]
    }
   ],
   "source": [
    "num_similar = 10  # How many similar items to find\n",
    "top_similar_users = als_model.similar_users(user_id, N=num_similar+1)\n",
    "\n",
    "similar_users, scores = top_similar_users\n",
    "similar_users_scores = list(zip(similar_users[1:], scores[1:]))\n",
    "\n",
    "print(f'Top {num_similar} users similar to User {uim['reverse_user_map'][user_id]}:')\n",
    "for sim_user_id, similarity in similar_users_scores[1:]:\n",
    "\tprint(f'User {uim['reverse_user_map'][sim_user_id]} - Similarity Score: {similarity:.4f}')"
   ]
  },
  {
   "cell_type": "markdown",
   "metadata": {},
   "source": [
    "#### Finding Similar Items"
   ]
  },
  {
   "cell_type": "code",
   "execution_count": 47,
   "metadata": {},
   "outputs": [
    {
     "name": "stdout",
     "output_type": "stream",
     "text": [
      "Top 10 items similar to Item B00Z9TLVK0:\n",
      "Item B00Z9TMH1W - Similarity Score: 0.5020\n",
      "Item B00XWE54NE - Similarity Score: 0.4507\n",
      "Item B00XWE54CU - Similarity Score: 0.4130\n",
      "Item B00AY1CT3G - Similarity Score: 0.3753\n",
      "Item B07GQ8HRFV - Similarity Score: 0.3648\n",
      "Item B01MG6DORB - Similarity Score: 0.3630\n",
      "Item B07BT5L9RS - Similarity Score: 0.3551\n",
      "Item B00ZKZY04M - Similarity Score: 0.3394\n",
      "Item B00XZDQ6O8 - Similarity Score: 0.3304\n",
      "Item B00XZ30HSO - Similarity Score: 0.3297\n"
     ]
    }
   ],
   "source": [
    "item_id = 1  # Target item\n",
    "num_similar = 10  # How many similar items to find\n",
    "\n",
    "# Get top N similar items and their similarity scores (+1 is added to skip the item itself later on)\n",
    "top_similar_items = als_model.similar_items(item_id, N=num_similar+1)\n",
    "\n",
    "similar_items, scores = top_similar_items\n",
    "similar_items_scores = list(zip(similar_items, scores))\n",
    "\n",
    "print(f'Top {num_similar} items similar to Item {uim['reverse_item_map'][item_id]}:')\n",
    "for sim_item_id, similarity in similar_items_scores[1:]:\n",
    "\tprint(f'Item {uim['reverse_item_map'][sim_item_id]} - Similarity Score: {similarity:.4f}')"
   ]
  },
  {
   "cell_type": "markdown",
   "metadata": {},
   "source": [
    "Very good and relevant recommendations for the given item (first in the list)"
   ]
  },
  {
   "cell_type": "code",
   "execution_count": 48,
   "metadata": {},
   "outputs": [
    {
     "data": {
      "text/html": [
       "<div>\n",
       "<style scoped>\n",
       "    .dataframe tbody tr th:only-of-type {\n",
       "        vertical-align: middle;\n",
       "    }\n",
       "\n",
       "    .dataframe tbody tr th {\n",
       "        vertical-align: top;\n",
       "    }\n",
       "\n",
       "    .dataframe thead th {\n",
       "        text-align: right;\n",
       "    }\n",
       "</style>\n",
       "<table border=\"1\" class=\"dataframe\">\n",
       "  <thead>\n",
       "    <tr style=\"text-align: right;\">\n",
       "      <th></th>\n",
       "      <th>title</th>\n",
       "      <th>features</th>\n",
       "      <th>description</th>\n",
       "      <th>videos</th>\n",
       "      <th>details</th>\n",
       "      <th>images</th>\n",
       "      <th>parent_asin</th>\n",
       "      <th>categories</th>\n",
       "      <th>average_rating</th>\n",
       "      <th>rating_number</th>\n",
       "      <th>main_category</th>\n",
       "      <th>store</th>\n",
       "      <th>price</th>\n",
       "    </tr>\n",
       "  </thead>\n",
       "  <tbody>\n",
       "    <tr>\n",
       "      <th>1</th>\n",
       "      <td>NBA 2K17 - Early Tip Off Edition - PlayStation 4</td>\n",
       "      <td>['The #1 rated NBA video game simulation serie...</td>\n",
       "      <td>['Following the record-breaking launch of NBA ...</td>\n",
       "      <td>[{'title': 'NBA 2K17 - Kobe: Haters vs Players...</td>\n",
       "      <td>{'Release date': 'September 16, 2016', 'Best S...</td>\n",
       "      <td>[{'thumb': 'https://m.media-amazon.com/images/...</td>\n",
       "      <td>B00Z9TLVK0</td>\n",
       "      <td>['Video Games', 'PlayStation 4', 'Games']</td>\n",
       "      <td>4.3</td>\n",
       "      <td>223</td>\n",
       "      <td>Video Games</td>\n",
       "      <td>2K</td>\n",
       "      <td>58.0</td>\n",
       "    </tr>\n",
       "  </tbody>\n",
       "</table>\n",
       "</div>"
      ],
      "text/plain": [
       "                                              title  \\\n",
       "1  NBA 2K17 - Early Tip Off Edition - PlayStation 4   \n",
       "\n",
       "                                            features  \\\n",
       "1  ['The #1 rated NBA video game simulation serie...   \n",
       "\n",
       "                                         description  \\\n",
       "1  ['Following the record-breaking launch of NBA ...   \n",
       "\n",
       "                                              videos  \\\n",
       "1  [{'title': 'NBA 2K17 - Kobe: Haters vs Players...   \n",
       "\n",
       "                                             details  \\\n",
       "1  {'Release date': 'September 16, 2016', 'Best S...   \n",
       "\n",
       "                                              images parent_asin  \\\n",
       "1  [{'thumb': 'https://m.media-amazon.com/images/...  B00Z9TLVK0   \n",
       "\n",
       "                                  categories  average_rating  rating_number  \\\n",
       "1  ['Video Games', 'PlayStation 4', 'Games']             4.3            223   \n",
       "\n",
       "  main_category store price  \n",
       "1   Video Games    2K  58.0  "
      ]
     },
     "execution_count": 48,
     "metadata": {},
     "output_type": "execute_result"
    }
   ],
   "source": [
    "items[items['parent_asin'] == uim['reverse_item_map'][item_id]]"
   ]
  },
  {
   "cell_type": "code",
   "execution_count": 49,
   "metadata": {},
   "outputs": [
    {
     "data": {
      "text/plain": [
       "['NBA 2K17 - Early Tip Off Edition - PlayStation 4',\n",
       " 'Madden NFL 17 - Deluxe Edition - Xbox One',\n",
       " 'NBA 2K16 : Early Tip-off Edition - Xbox One',\n",
       " 'NBA 2K16 : Early Tip-off Edition - PlayStation 4',\n",
       " 'Madden NFL 25 - Playstation 3',\n",
       " 'Creed: Rise to Glory - PlayStation VR',\n",
       " 'NBA 2K17 Standard Edition - PlayStation 4',\n",
       " 'NBA 2K17 - Legends Gold - Xbox One Digital Code',\n",
       " 'NBA Live 16 - Xbox One Digital Code',\n",
       " 'WWE 2K16 - Steam PC [Online Game Code]',\n",
       " 'Turtle Beach Ear Force XO One Gaming Headset (Certified Refurbished)']"
      ]
     },
     "execution_count": 49,
     "metadata": {},
     "output_type": "execute_result"
    }
   ],
   "source": [
    "list(map(get_item_name_from_id, map(lambda x: uim['reverse_item_map'][x], [item_id, *similar_items[1:]])))"
   ]
  },
  {
   "cell_type": "markdown",
   "metadata": {},
   "source": [
    "### Handling Guests"
   ]
  },
  {
   "cell_type": "markdown",
   "metadata": {},
   "source": [
    "Guest (vectors) are not in the ALS matrix and so cannot use the `similar_users` & `recommend_items` above directly but this can be handled<br>"
   ]
  },
  {
   "cell_type": "code",
   "execution_count": 50,
   "metadata": {},
   "outputs": [
    {
     "data": {
      "text/plain": [
       "[2107, 7305, 12910, 18299, 38594, 45030, 57258, 60129, 90348]"
      ]
     },
     "execution_count": 50,
     "metadata": {},
     "output_type": "execute_result"
    }
   ],
   "source": [
    "guest_vector = ['B07KRWJCQW', 'B07ZJ6RY1W', 'B07JGVX9D6', 'B075YBBQMM', 'B0BN942894', 'B077GG9D5D', 'B00ZQB28XK', 'B014R4KYMS', 'B07YBXFF5C']\n",
    "mapped_guest_vector = uim['item_map'][uim['item_map']['parent_asin'].isin(guest_vector)].index.tolist()\n",
    "\n",
    "mapped_guest_vector"
   ]
  },
  {
   "cell_type": "code",
   "execution_count": 51,
   "metadata": {},
   "outputs": [
    {
     "data": {
      "text/plain": [
       "['$40 Xbox Gift Card [Digital Code]',\n",
       " '$45 Nintendo eShop Gift Card [Digital Code]',\n",
       " 'Microsoft Xbox One X 1 TB with Red Dead Redemption 2',\n",
       " 'PS4 Controller Charger Dock Station, OIVO PS4 Controller Charging Dock Station with Upgraded 1.8-Hours Charging Chip, Charging Dock Station Replacement for Playstation 4 Dualshock 4 Controller Charger',\n",
       " 'BENGOO Stereo Pro Gaming Headset for PS4, PC, Xbox One Controller, Noise Cancelling Over Ear Headphones with Mic, LED Light, Bass Surround, Soft Memory Earmuffs for Laptop Mac Wii Accessory Kits',\n",
       " 'DualShock 4 Wireless Controller for PlayStation 4 - Jet Black',\n",
       " \"No Man's Sky - PlayStation 4\",\n",
       " \"Uncharted 4: A Thief's End - PlayStation 4\",\n",
       " 'Doom - PC']"
      ]
     },
     "execution_count": 51,
     "metadata": {},
     "output_type": "execute_result"
    }
   ],
   "source": [
    "[get_item_name_from_id(parent_asin) for parent_asin in guest_vector]"
   ]
  },
  {
   "cell_type": "markdown",
   "metadata": {},
   "source": [
    "`similar_items` only needs item ids (similar_items also includes the given item so N+1 similar items must be generated)"
   ]
  },
  {
   "cell_type": "code",
   "execution_count": 52,
   "metadata": {},
   "outputs": [
    {
     "data": {
      "text/plain": [
       "(array([  2107, 102879,  70320,   9491,  35150,  94542,  32501,  57818,\n",
       "        101932,  81290,  51247], dtype=int32),\n",
       " array([0.9999999 , 0.3593087 , 0.3019174 , 0.30171075, 0.27262   ,\n",
       "        0.2725433 , 0.27099964, 0.26811698, 0.26728627, 0.26313052,\n",
       "        0.26081574], dtype=float32))"
      ]
     },
     "execution_count": 52,
     "metadata": {},
     "output_type": "execute_result"
    }
   ],
   "source": [
    "personalized_items = als_model.similar_items(mapped_guest_vector, N=10+1)\n",
    "\n",
    "recommend_items, scores = personalized_items\n",
    "similar_items = list(zip(recommend_items, scores))\n",
    "\n",
    "similar_items[0] # An example print of similar items for 'B07KRWJCQW'"
   ]
  },
  {
   "cell_type": "code",
   "execution_count": 53,
   "metadata": {},
   "outputs": [
    {
     "name": "stdout",
     "output_type": "stream",
     "text": [
      "For $40 Xbox Gift Card [Digital Code]\n",
      "The similar items are ['Xbox $5 Gift Card - Xbox 360 Digital Code', 'MLB The Show 16 - MVP Edition - PS4 [Digital Code]', '3-Pack 6FT PS4 Controller Charger Cable for Xbox One Controller,Dualshock 4,PS4 Charging Cord,Nylon Braided Micro USB Data Sync Cable for Xbox One S/X,Playstation 4,PS4 Slim/Pro,Charge and Play Wire', 'Sliq Gaming Pro-Hex Thumb Stick Grips for Xbox Series X|S & Xbox One Controllers', 'PowerA Complete Power Station', 'Grand Theft Auto V - Tiger Shark Cash Card - Xbox One Digital Code', 'Pokemon HeartGold Version - Limited Edition - Nintendo DS', 'RGB Gaming Mouse Pad with 4-Port USB Hub, LED Soft Extended Large Size Mousepad, 16 Color 3 Brightness Mouse Mat, Non-Slip Rubber Base for Desk Laptop Computer PC Games (31.5×11.8x0.16in)', 'YHT Wireless Joy Pad Controller for Switch, Replacement with Redesigned Ergonomic Hand Grip Comfortable Handheld Gamepad Remote(Grey)']\n",
      "----------\n",
      "For $45 Nintendo eShop Gift Card [Digital Code]\n",
      "The similar items are ['BENGOO Gaming Keyboard, RGB LED Rainbow Backlit Small Gaming Keyboard with 89 Keys and Multimedia Shortcus, Mechanical Feeling Keyboard Wired with 25 Anti-ghosting Keys for Windows Gaming PC Mac', 'BENGOO G9900 Gaming Headset Headphones for PS4 PS5 Xbox One PC Controller, Noise Isolating Over Ear Headphones with Mic, Red LED Light, Bass Surround for Super Nintendo Sega Dreamcast Sony PSP', 'Gaming Headset for Xbox One, PS4, PC, Controller, Over Ear Bass Surround Headphones with Noise Cancelling Mic, Soft Memory Earmuffs for Computer Mac Laptop Nintendo Switch Games', 'Exlene® Nintendo 2DS Hard EVA Carrying Case Cover Bag + 3M usb charging cable for Nintendo 2ds, Protective Travel Storage Cover pouch with 8 Game Cartridge Holders (Blue)', 'G9400 Gaming Headset for PS4 PS5 PC Xbox One Controller, Noise Cancelling Over Ear Headphones with Mic, Bass Surround Sound, Memory Earmuffs, Wired Headsets for Mac Laptop Super Nintendo Gameboy', '2 Pack miadore Wii Nunchuck Controller, Nunchuk Controller Replacement Compatible for Wii Wii U Console', '3-Pack 6FT PS4 Controller Charger Cable for Xbox One Controller,Dualshock 4,PS4 Charging Cord,Nylon Braided Micro USB Data Sync Cable for Xbox One S/X,Playstation 4,PS4 Slim/Pro,Charge and Play Wire', 'BENGOO KM-2 Wireless Gaming Mouse, Computer Mouse USB Wireless Mouse with 7 Programmed Buttons 3 Adjustable DPI RGB Backlits Rapid Fire Button, Ergonomic Optical Gamer Mice for Windows PC Mac', 'Reiso Xbox 360 Controller, 7.2 ft USB Wired Controller Gamepad Compatible with Microsoft Xbox 360 & Slim 360 PC Windows 7 (Black)']\n",
      "----------\n",
      "For Microsoft Xbox One X 1 TB with Red Dead Redemption 2\n",
      "The similar items are ['UNCHARTED: The Nathan Drake Collection - PlayStation 4', 'Ratchet & Clank - PlayStation 4', 'Uncharted: The Lost Legacy - PlayStation 4', 'Rise of the Tomb Raider: 20 Year Celebration - PlayStation 4', 'Far Cry Primal - PlayStation 4 Standard Edition', 'Far Cry Primal Deluxe Edition with SteelBook - PlayStation 4', 'Dishonored 2 - PlayStation 4', 'DEATHLOOP Standard Edition - PlayStation 5', 'The Order: 1886 - PlayStation 4']\n",
      "----------\n",
      "For PS4 Controller Charger Dock Station, OIVO PS4 Controller Charging Dock Station with Upgraded 1.8-Hours Charging Chip, Charging Dock Station Replacement for Playstation 4 Dualshock 4 Controller Charger\n",
      "The similar items are ['Nintendo Switch Online 12-Month Individual Membership [Digital Code]', 'Nyko Power Pak - 5000 mAh rechargeable battery pack with built-in Kickstand for Nintendo Switch', 'Apex Legends - 1,000 Coins Virtual Currency - PS4 [Digital Code]', 'NCSoft NCoin 1600 [Online Game Code]', 'SanDisk 64GB microSDXC UHS-I card for Nintendo Switch -\\xa0SDSQXAT-064G-GN6ZA', 'Rocket League: Rocket League Crate Unlock Key X5 - PS4 [Digital Code]', 'XBERSTAR 1 Pair Portable Controller Carrying Hand Strap Wrist Rope for Switch Video Games (Pink)', 'Mario Kart 7 - 3DS [Digital Code]', 'Sour Patch Kids Limited Edition Just Blue']\n",
      "----------\n",
      "For BENGOO Stereo Pro Gaming Headset for PS4, PC, Xbox One Controller, Noise Cancelling Over Ear Headphones with Mic, LED Light, Bass Surround, Soft Memory Earmuffs for Laptop Mac Wii Accessory Kits\n",
      "The similar items are ['BRENDO 3DS XL / 3DS Case with 16 Game Cartridge Holders - Pink', 'Dayz - PlayStation 4', \"No Man's Sky - Limited Edition - PlayStation 4\", 'Skyrocket Pixel Stars Dreamhouse - Create a Virtual Dream Version of Yourself!', 'ROCCAT Tyon Black - All Action Multi-Button Gaming Mouse', 'Monster Hunter World: Iceborne Master Edition - PlayStation 4 Standard Edition', 'Ratchet & Clank - PS4 [Digital Code]', 'Diablo II + Expansion Set', 'Sentinel Pro Xp 1080P Portable Gaming Monitor for Xbox One X, Xbox One S, PlayStation 4 Pro, PlayStation 4, PS4 Slim, (Consoles Not Included) - PlayStation 4']\n",
      "----------\n",
      "For DualShock 4 Wireless Controller for PlayStation 4 - Jet Black\n",
      "The similar items are ['Sony DUALSHOCK 4 USB Wireless Adapter - Playstation 4', 'UGREEN PS4 Controller Charger PS4 Charging Station, 2.5 Hours Full Charge for 2 Controllers, DualShock 4 Charger Dock for Playstation Slim, PS4 Pro Controller with AC Adapter 5FT', 'Far Cry Primal (PS4)', 'Minecraft: PlayStation 4 Edition [PlayStation 4 PS4]', 'FIFA 18 - PS4 [Digital Code]', 'Amazon Basics PlayStation 4 Controller Charging Cable - Pack of 2, 6 Foot, Blue', 'Musou Dual USB Charging Charger Docking Station Stand Compatible for Playstation 4/Pro/Slim Controller', 'TURN RAISE 3.5mm Stereo Gaming Headset, Noise Cancelling Over Ear Headphones with Mic, LED Light, Bass Surround, Soft Memory Earmuffs for PC, Laptop, Tablet, Smartphones (Blue)', 'FIFA 18 PS4 Playstation 4 Game']\n",
      "----------\n",
      "For No Man's Sky - PlayStation 4\n",
      "The similar items are ['Wireless Controller for P-4,', 'OSTENT Battery Pack Replacement for Sony PS4 Slim Pro Bluetooth Wireless Dual Shock Controller Second Generation CUH-ZCT2 or CUH-ZCT2U New 2016 Version', 'Drimoor Wireless Controller Compatible with PC - Replacement Game Joystick Remote Compatible with PC', 'Switch Lite Case Protective Case for Nintendo Switch Lite, Feerne Full Protection TPU Shockproof Case Cover for Nintendo Switch Lite Skin with Built-in Screen Protector & Joystick Caps, Turquoise', 'Wiv77 Wireless Controller Compatible with PS4 Controller, pa4 Controller Works with Playstation 4,Remote/Control/Joystick/Mando/Matte with Charging Cable,Sunset Orange', 'Old Skool CLASSIQ N Console Compatible with NES - Grey/Grey Clone System', 'Jump Force (PS4)', 'OIVO PS5 Stand with Cooling Station and PS5 Controller Charging Station for Playstation 5 Console Disc/Digital Edition, PS5 Cooling Fan Stand, PS5 Accessories Vertical Stand with Pull-Out Game Slots', 'Final Fantasy XIV: Stormblood [Online Game Code]']\n",
      "----------\n",
      "For Uncharted 4: A Thief's End - PlayStation 4\n",
      "The similar items are ['Bloodborne - Game Of The Year PS4 Game New (Middle Eastern Version)', 'Wolfenstein: The New Order - Xbox 360', 'Far Cry Primal - PlayStation 4 Standard Edition', 'TrackMania Turbo - Xbox One', \"Tom Clancy's The Division - Collector's Edition - Xbox One\", 'Resident Evil 5 - Standard Edition - Xbox One', 'Journey - PS3/PS4 [Digital Code]', 'VEGCOO Wireless Gaming Mouse, Silent Click Wireless Rechargeable Gaming Mouse with Colorful LED Lights 2400/1600/1000 Adjustable DPI Optical Gamer Mice for Laptop and Computer (C21 Black)', 'The Witcher: Wild Hunt - Windows']\n",
      "----------\n",
      "For Doom - PC\n",
      "The similar items are ['Skylanders Giants CHILL First Edition Figure Figure & Code', 'Kajiali Powkiddy RGB20S Handheld Game Console, 3.5 Inch IPS Screen, Built-in 20000 Games, 2.4G 5G WiFi, PS1/PSP/GBA/GBC/BIN/FC/MD, 16G+128G, Birthday for Kids, TZRF36T82CO4J8NYR5K3DPWV, White', 'Hard Drive Bracket Hard Disk Drive Tray HDD Mounting Bracket Support Holder for Playstation 4 PS4 1200 CUH-1200 CUH-1215A Controller', 'Bomberman Land 2 (PlayStation2 the Best) [Japan Import]', 'Mcbazel Silicone Magnetic Clip Holder for Pokemon Go-tcha Xiaomi Mi Band 1 & 2 Black', 'TACKY DESIGN Clouds Skin for Xbox Controller Skin Compatible for Xbox Series x Controller Skin & Xbox Series s Controller Skin, Xbox x Sticker Premium Vinyl 3M Decal Full wrap, Xbox Cover', 'AKWOX 28 in 1 Game Card Case for Nintendo Switch, Cartridge Storage Case with 24 NS Game slot & 4 SD Slot', 'AZLANJK Black Gaming Mouse Wired , RGB Backlight and 8000 Adjustable DPI, Ergonomic and Lightweight USB Computer Mouse with High Precision Sensor for Windows PC & Laptop Gamers', \"Zulu's Zoo [Download]\"]\n",
      "----------\n"
     ]
    }
   ],
   "source": [
    "for idx, parent_asin in enumerate(guest_vector):\n",
    "    print(f'For {get_item_name_from_id(parent_asin)}')\n",
    "    print(f'The similar items are {[get_item_name_from_id(uim['reverse_item_map'][parent_asin]) for parent_asin in similar_items[idx][0][1:10]]}')\n",
    "    print('----------')"
   ]
  },
  {
   "cell_type": "code",
   "execution_count": 54,
   "metadata": {},
   "outputs": [
    {
     "data": {
      "text/plain": [
       "('$40 Xbox Gift Card [Digital Code]',\n",
       " ['Xbox $5 Gift Card - Xbox 360 Digital Code',\n",
       "  'MLB The Show 16 - MVP Edition - PS4 [Digital Code]',\n",
       "  '3-Pack 6FT PS4 Controller Charger Cable for Xbox One Controller,Dualshock 4,PS4 Charging Cord,Nylon Braided Micro USB Data Sync Cable for Xbox One S/X,Playstation 4,PS4 Slim/Pro,Charge and Play Wire',\n",
       "  'Sliq Gaming Pro-Hex Thumb Stick Grips for Xbox Series X|S & Xbox One Controllers',\n",
       "  'PowerA Complete Power Station',\n",
       "  'Grand Theft Auto V - Tiger Shark Cash Card - Xbox One Digital Code',\n",
       "  'Pokemon HeartGold Version - Limited Edition - Nintendo DS',\n",
       "  'RGB Gaming Mouse Pad with 4-Port USB Hub, LED Soft Extended Large Size Mousepad, 16 Color 3 Brightness Mouse Mat, Non-Slip Rubber Base for Desk Laptop Computer PC Games (31.5×11.8x0.16in)',\n",
       "  'YHT Wireless Joy Pad Controller for Switch, Replacement with Redesigned Ergonomic Hand Grip Comfortable Handheld Gamepad Remote(Grey)'])"
      ]
     },
     "execution_count": 54,
     "metadata": {},
     "output_type": "execute_result"
    }
   ],
   "source": [
    "get_item_name_from_id(guest_vector[0]), [get_item_name_from_id(uim['reverse_item_map'][parent_asin]) for parent_asin in similar_items[0][0][1:10]]"
   ]
  },
  {
   "cell_type": "markdown",
   "metadata": {},
   "source": [
    "### Text Features"
   ]
  },
  {
   "cell_type": "markdown",
   "metadata": {},
   "source": [
    "A more powerful recommendation system can be built using the other features in the `items` dataset"
   ]
  },
  {
   "cell_type": "code",
   "execution_count": 55,
   "metadata": {},
   "outputs": [
    {
     "data": {
      "text/html": [
       "<div>\n",
       "<style scoped>\n",
       "    .dataframe tbody tr th:only-of-type {\n",
       "        vertical-align: middle;\n",
       "    }\n",
       "\n",
       "    .dataframe tbody tr th {\n",
       "        vertical-align: top;\n",
       "    }\n",
       "\n",
       "    .dataframe thead th {\n",
       "        text-align: right;\n",
       "    }\n",
       "</style>\n",
       "<table border=\"1\" class=\"dataframe\">\n",
       "  <thead>\n",
       "    <tr style=\"text-align: right;\">\n",
       "      <th></th>\n",
       "      <th>title</th>\n",
       "      <th>parent_asin</th>\n",
       "      <th>features</th>\n",
       "      <th>description</th>\n",
       "      <th>details</th>\n",
       "      <th>categories</th>\n",
       "    </tr>\n",
       "  </thead>\n",
       "  <tbody>\n",
       "    <tr>\n",
       "      <th>0</th>\n",
       "      <td>Phantasmagoria: A Puzzle of Flesh</td>\n",
       "      <td>B00069EVOG</td>\n",
       "      <td>['Windows 95']</td>\n",
       "      <td>[]</td>\n",
       "      <td>{'Best Sellers Rank': {'Video Games': 137612, ...</td>\n",
       "      <td>['Video Games', 'PC', 'Games']</td>\n",
       "    </tr>\n",
       "    <tr>\n",
       "      <th>1</th>\n",
       "      <td>NBA 2K17 - Early Tip Off Edition - PlayStation 4</td>\n",
       "      <td>B00Z9TLVK0</td>\n",
       "      <td>['The #1 rated NBA video game simulation serie...</td>\n",
       "      <td>['Following the record-breaking launch of NBA ...</td>\n",
       "      <td>{'Release date': 'September 16, 2016', 'Best S...</td>\n",
       "      <td>['Video Games', 'PlayStation 4', 'Games']</td>\n",
       "    </tr>\n",
       "    <tr>\n",
       "      <th>2</th>\n",
       "      <td>Nintendo Selects: The Legend of Zelda Ocarina ...</td>\n",
       "      <td>B07SZJZV88</td>\n",
       "      <td>['Authentic Nintendo Selects: The Legend of Ze...</td>\n",
       "      <td>[]</td>\n",
       "      <td>{'Best Sellers Rank': {'Video Games': 51019, '...</td>\n",
       "      <td>['Video Games', 'Legacy Systems', 'Nintendo Sy...</td>\n",
       "    </tr>\n",
       "    <tr>\n",
       "      <th>3</th>\n",
       "      <td>Spongebob Squarepants, Vol. 1</td>\n",
       "      <td>B0001ZNU56</td>\n",
       "      <td>['Bubblestand: SpongeBob shows Patrick and Squ...</td>\n",
       "      <td>['Now you can watch the wild underwater antics...</td>\n",
       "      <td>{'Release date': 'August 15, 2004', 'Best Sell...</td>\n",
       "      <td>['Video Games', 'Legacy Systems', 'Nintendo Sy...</td>\n",
       "    </tr>\n",
       "    <tr>\n",
       "      <th>4</th>\n",
       "      <td>eXtremeRate Soft Touch Top Shell Front Housing...</td>\n",
       "      <td>B07H93H878</td>\n",
       "      <td>['Compatibility Models: Ultra fits for Xbox On...</td>\n",
       "      <td>[]</td>\n",
       "      <td>{'Best Sellers Rank': {'Video Games': 48130, '...</td>\n",
       "      <td>['Video Games', 'Xbox One', 'Accessories', 'Fa...</td>\n",
       "    </tr>\n",
       "    <tr>\n",
       "      <th>...</th>\n",
       "      <td>...</td>\n",
       "      <td>...</td>\n",
       "      <td>...</td>\n",
       "      <td>...</td>\n",
       "      <td>...</td>\n",
       "      <td>...</td>\n",
       "    </tr>\n",
       "    <tr>\n",
       "      <th>121815</th>\n",
       "      <td>DANVILLE SKY</td>\n",
       "      <td>B014RXTSDK</td>\n",
       "      <td>[]</td>\n",
       "      <td>['Disney Infinity Series 3 Power Disc Danville...</td>\n",
       "      <td>{'Best Sellers Rank': {'Video Games': 105422, ...</td>\n",
       "      <td>['Video Games', 'Legacy Systems', 'Nintendo Sy...</td>\n",
       "    </tr>\n",
       "    <tr>\n",
       "      <th>121816</th>\n",
       "      <td>Ci-Yu-Online Charizard Black #1 Limited Editio...</td>\n",
       "      <td>B07JDT455V</td>\n",
       "      <td>[]</td>\n",
       "      <td>[]</td>\n",
       "      <td>{'Pricing': 'The strikethrough price is the Li...</td>\n",
       "      <td>['Video Games', 'Legacy Systems', 'Nintendo Sy...</td>\n",
       "    </tr>\n",
       "    <tr>\n",
       "      <th>121817</th>\n",
       "      <td>Story of Seasons: Pioneers Of Olive Town (Nint...</td>\n",
       "      <td>B09XQJS4CZ</td>\n",
       "      <td>['A wild world of discovery - tame the wildern...</td>\n",
       "      <td>['Product Description', \"Inspired by Tales of ...</td>\n",
       "      <td>{'Release date': 'March 26, 2021', 'Best Selle...</td>\n",
       "      <td>['Video Games', 'Nintendo Switch', 'Games']</td>\n",
       "    </tr>\n",
       "    <tr>\n",
       "      <th>121818</th>\n",
       "      <td>MotoGP 18 (PC DVD) UK IMPORT REGION FREE</td>\n",
       "      <td>B07DGPTGNV</td>\n",
       "      <td>['Brand new game engine - MotoGP18 has been re...</td>\n",
       "      <td>['Become the champion of the 2018 MotoGP Seaso...</td>\n",
       "      <td>{'Pricing': 'The strikethrough price is the Li...</td>\n",
       "      <td>['Video Games', 'Game Genre of the Month']</td>\n",
       "    </tr>\n",
       "    <tr>\n",
       "      <th>121819</th>\n",
       "      <td>Century Accessory Soft Silicone Protective Ski...</td>\n",
       "      <td>B00HUWCQBW</td>\n",
       "      <td>['Easy access to all buttons, controls and por...</td>\n",
       "      <td>['This soft case cover will add a splash of co...</td>\n",
       "      <td>{'Package Dimensions': '2.76 x 2.76 x 0.2 inch...</td>\n",
       "      <td>['Video Games', 'Legacy Systems', 'Xbox System...</td>\n",
       "    </tr>\n",
       "  </tbody>\n",
       "</table>\n",
       "<p>121820 rows × 6 columns</p>\n",
       "</div>"
      ],
      "text/plain": [
       "                                                    title parent_asin  \\\n",
       "0                       Phantasmagoria: A Puzzle of Flesh  B00069EVOG   \n",
       "1        NBA 2K17 - Early Tip Off Edition - PlayStation 4  B00Z9TLVK0   \n",
       "2       Nintendo Selects: The Legend of Zelda Ocarina ...  B07SZJZV88   \n",
       "3                           Spongebob Squarepants, Vol. 1  B0001ZNU56   \n",
       "4       eXtremeRate Soft Touch Top Shell Front Housing...  B07H93H878   \n",
       "...                                                   ...         ...   \n",
       "121815                                       DANVILLE SKY  B014RXTSDK   \n",
       "121816  Ci-Yu-Online Charizard Black #1 Limited Editio...  B07JDT455V   \n",
       "121817  Story of Seasons: Pioneers Of Olive Town (Nint...  B09XQJS4CZ   \n",
       "121818           MotoGP 18 (PC DVD) UK IMPORT REGION FREE  B07DGPTGNV   \n",
       "121819  Century Accessory Soft Silicone Protective Ski...  B00HUWCQBW   \n",
       "\n",
       "                                                 features  \\\n",
       "0                                          ['Windows 95']   \n",
       "1       ['The #1 rated NBA video game simulation serie...   \n",
       "2       ['Authentic Nintendo Selects: The Legend of Ze...   \n",
       "3       ['Bubblestand: SpongeBob shows Patrick and Squ...   \n",
       "4       ['Compatibility Models: Ultra fits for Xbox On...   \n",
       "...                                                   ...   \n",
       "121815                                                 []   \n",
       "121816                                                 []   \n",
       "121817  ['A wild world of discovery - tame the wildern...   \n",
       "121818  ['Brand new game engine - MotoGP18 has been re...   \n",
       "121819  ['Easy access to all buttons, controls and por...   \n",
       "\n",
       "                                              description  \\\n",
       "0                                                      []   \n",
       "1       ['Following the record-breaking launch of NBA ...   \n",
       "2                                                      []   \n",
       "3       ['Now you can watch the wild underwater antics...   \n",
       "4                                                      []   \n",
       "...                                                   ...   \n",
       "121815  ['Disney Infinity Series 3 Power Disc Danville...   \n",
       "121816                                                 []   \n",
       "121817  ['Product Description', \"Inspired by Tales of ...   \n",
       "121818  ['Become the champion of the 2018 MotoGP Seaso...   \n",
       "121819  ['This soft case cover will add a splash of co...   \n",
       "\n",
       "                                                  details  \\\n",
       "0       {'Best Sellers Rank': {'Video Games': 137612, ...   \n",
       "1       {'Release date': 'September 16, 2016', 'Best S...   \n",
       "2       {'Best Sellers Rank': {'Video Games': 51019, '...   \n",
       "3       {'Release date': 'August 15, 2004', 'Best Sell...   \n",
       "4       {'Best Sellers Rank': {'Video Games': 48130, '...   \n",
       "...                                                   ...   \n",
       "121815  {'Best Sellers Rank': {'Video Games': 105422, ...   \n",
       "121816  {'Pricing': 'The strikethrough price is the Li...   \n",
       "121817  {'Release date': 'March 26, 2021', 'Best Selle...   \n",
       "121818  {'Pricing': 'The strikethrough price is the Li...   \n",
       "121819  {'Package Dimensions': '2.76 x 2.76 x 0.2 inch...   \n",
       "\n",
       "                                               categories  \n",
       "0                          ['Video Games', 'PC', 'Games']  \n",
       "1               ['Video Games', 'PlayStation 4', 'Games']  \n",
       "2       ['Video Games', 'Legacy Systems', 'Nintendo Sy...  \n",
       "3       ['Video Games', 'Legacy Systems', 'Nintendo Sy...  \n",
       "4       ['Video Games', 'Xbox One', 'Accessories', 'Fa...  \n",
       "...                                                   ...  \n",
       "121815  ['Video Games', 'Legacy Systems', 'Nintendo Sy...  \n",
       "121816  ['Video Games', 'Legacy Systems', 'Nintendo Sy...  \n",
       "121817        ['Video Games', 'Nintendo Switch', 'Games']  \n",
       "121818         ['Video Games', 'Game Genre of the Month']  \n",
       "121819  ['Video Games', 'Legacy Systems', 'Xbox System...  \n",
       "\n",
       "[121820 rows x 6 columns]"
      ]
     },
     "execution_count": 55,
     "metadata": {},
     "output_type": "execute_result"
    }
   ],
   "source": [
    "items[['title', 'parent_asin', 'features', 'description', 'details', 'categories']]"
   ]
  },
  {
   "cell_type": "markdown",
   "metadata": {},
   "source": [
    "Use TF-IDF or BERT Embeddings... (Embeddings would be better as descriptions may not contain similar words)"
   ]
  },
  {
   "cell_type": "markdown",
   "metadata": {},
   "source": [
    "Good luck :)"
   ]
  },
  {
   "cell_type": "markdown",
   "metadata": {},
   "source": [
    "### Saving Model (OOP)"
   ]
  },
  {
   "cell_type": "markdown",
   "metadata": {},
   "source": [
    "The model is to be used in the backend but this is not possible without all its dependencies being saved as well."
   ]
  },
  {
   "cell_type": "code",
   "execution_count": null,
   "metadata": {},
   "outputs": [],
   "source": []
  }
 ],
 "metadata": {
  "kernelspec": {
   "display_name": "Python 3",
   "language": "python",
   "name": "python3"
  },
  "language_info": {
   "codemirror_mode": {
    "name": "ipython",
    "version": 3
   },
   "file_extension": ".py",
   "mimetype": "text/x-python",
   "name": "python",
   "nbconvert_exporter": "python",
   "pygments_lexer": "ipython3",
   "version": "3.12.6"
  }
 },
 "nbformat": 4,
 "nbformat_minor": 2
}
