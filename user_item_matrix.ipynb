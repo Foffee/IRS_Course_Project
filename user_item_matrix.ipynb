{
 "cells": [
  {
   "cell_type": "markdown",
   "metadata": {},
   "source": [
    "## Sparse User-Item Matrix"
   ]
  },
  {
   "cell_type": "markdown",
   "metadata": {},
   "source": [
    "### Load Datasets"
   ]
  },
  {
   "cell_type": "code",
   "execution_count": 1,
   "metadata": {},
   "outputs": [],
   "source": [
    "import pandas as pd\n",
    "\n",
    "reviews = pd.read_csv('../datasets/slimmed/reviews.csv')\n",
    "items = pd.read_csv('../datasets/slimmed/items.csv')"
   ]
  },
  {
   "cell_type": "markdown",
   "metadata": {},
   "source": [
    "### Creating Sparse Matrix"
   ]
  },
  {
   "cell_type": "markdown",
   "metadata": {},
   "source": [
    "A sparse matrix where the user_ids are rows, item_ids are columns, and ratings are the elements is created"
   ]
  },
  {
   "cell_type": "code",
   "execution_count": 2,
   "metadata": {},
   "outputs": [],
   "source": [
    "from scipy.sparse import coo_matrix\n",
    "\n",
    "# Map user_id and item_id to index-based values\n",
    "user_map = {u: i for i, u in enumerate(reviews['user_id'].unique())}\n",
    "item_map = {i: j for j, i in enumerate(reviews['parent_asin'].unique())}\n",
    "\n",
    "user_idx = reviews['user_id'].map(user_map)\n",
    "item_idx = reviews['parent_asin'].map(item_map)\n",
    "ratings = reviews['rating'].astype('float')\n",
    "\n",
    "# Create a sparse matrix\n",
    "sparse_matrix = coo_matrix((ratings, (user_idx, item_idx)))\n",
    "\n",
    "# Convert to CSR format for efficiency in operations\n",
    "sparse_matrix_csr = sparse_matrix.tocsr()"
   ]
  },
  {
   "cell_type": "markdown",
   "metadata": {},
   "source": [
    "A reverse mapping will have to be created to go from indices to ids"
   ]
  },
  {
   "cell_type": "code",
   "execution_count": 3,
   "metadata": {},
   "outputs": [],
   "source": [
    "reverse_user_map = {v:k for k, v in user_map.items()}\n",
    "reverse_item_map = {v:k for k, v in item_map.items()}"
   ]
  },
  {
   "cell_type": "markdown",
   "metadata": {},
   "source": [
    "A binary version of the sparse matrix where non-zero ratings are set to 1"
   ]
  },
  {
   "cell_type": "code",
   "execution_count": 5,
   "metadata": {},
   "outputs": [],
   "source": [
    "# Ratings are 0s or 1s\n",
    "ratings_binary = ratings.astype(bool).astype(int)\n",
    "\n",
    "# Create a binary sparse matrix\n",
    "sparse_matrix_binary = coo_matrix((ratings_binary, (user_idx, item_idx)))\n",
    "\n",
    "# Convert to CSR format for efficiency in operations\n",
    "sparse_matrix_csr_binary = sparse_matrix_binary.tocsr()"
   ]
  }
 ],
 "metadata": {
  "kernelspec": {
   "display_name": "Python 3",
   "language": "python",
   "name": "python3"
  },
  "language_info": {
   "codemirror_mode": {
    "name": "ipython",
    "version": 3
   },
   "file_extension": ".py",
   "mimetype": "text/x-python",
   "name": "python",
   "nbconvert_exporter": "python",
   "pygments_lexer": "ipython3",
   "version": "3.12.6"
  }
 },
 "nbformat": 4,
 "nbformat_minor": 2
}
