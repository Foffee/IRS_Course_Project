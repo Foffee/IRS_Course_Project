{
 "cells": [
  {
   "cell_type": "markdown",
   "metadata": {},
   "source": [
    "## Sparse User-Item Matrix"
   ]
  },
  {
   "cell_type": "markdown",
   "metadata": {},
   "source": [
    "### Load Datasets"
   ]
  },
  {
   "cell_type": "code",
   "execution_count": 1,
   "metadata": {},
   "outputs": [],
   "source": [
    "import pandas as pd\n",
    "\n",
    "reviews = pd.read_csv('../datasets/slimmed/reviews.csv')\n",
    "items = pd.read_csv('../datasets/slimmed/items.csv')"
   ]
  },
  {
   "cell_type": "markdown",
   "metadata": {},
   "source": [
    "### Creating Sparse Matrix"
   ]
  },
  {
   "cell_type": "markdown",
   "metadata": {},
   "source": [
    "A sparse matrix where the user_ids are rows, item_ids are columns, and ratings are the elements is created"
   ]
  },
  {
   "cell_type": "code",
   "execution_count": 2,
   "metadata": {},
   "outputs": [],
   "source": [
    "from scipy.sparse import coo_matrix\n",
    "\n",
    "# Map user_id and item_id to index-based values\n",
    "user_map = {u: i for i, u in enumerate(reviews['user_id'].unique())}\n",
    "item_map = {i: j for j, i in enumerate(items['parent_asin'].tolist())}\n",
    "\n",
    "user_idx = reviews['user_id'].map(user_map)\n",
    "item_idx = reviews['parent_asin'].map(item_map)\n",
    "ratings = reviews['rating'].astype('float')\n",
    "\n",
    "# Create a sparse matrix\n",
    "sparse_matrix = coo_matrix((ratings, (user_idx, item_idx)))\n",
    "\n",
    "# Convert to CSR format for efficiency in operations\n",
    "sparse_matrix_csr = sparse_matrix.tocsr()"
   ]
  },
  {
   "cell_type": "markdown",
   "metadata": {},
   "source": [
    "The sparsity of the matrix is *99.9987335557076*%"
   ]
  },
  {
   "cell_type": "code",
   "execution_count": 3,
   "metadata": {},
   "outputs": [
    {
     "name": "stdout",
     "output_type": "stream",
     "text": [
      "99.998734\n"
     ]
    }
   ],
   "source": [
    "count_non_zero = sparse_matrix.count_nonzero()\n",
    "size = sparse_matrix.shape[0] * sparse_matrix.shape[1]\n",
    "\n",
    "print(f'{(100 - ((count_non_zero / size) * 100)):2f}')"
   ]
  },
  {
   "cell_type": "markdown",
   "metadata": {},
   "source": [
    "A reverse mapping will have to be created to go from indices to ids"
   ]
  },
  {
   "cell_type": "code",
   "execution_count": 4,
   "metadata": {},
   "outputs": [],
   "source": [
    "reverse_user_map = {v:k for k, v in user_map.items()}\n",
    "reverse_item_map = {v:k for k, v in item_map.items()}"
   ]
  },
  {
   "cell_type": "markdown",
   "metadata": {},
   "source": [
    "A binary version of the sparse matrix where non-zero ratings are set to 1"
   ]
  },
  {
   "cell_type": "code",
   "execution_count": 5,
   "metadata": {},
   "outputs": [],
   "source": [
    "# Ratings are 0s or 1s\n",
    "ratings_binary = ratings.astype(bool).astype(int)\n",
    "\n",
    "# Create a binary sparse matrix\n",
    "sparse_matrix_binary = coo_matrix((ratings_binary, (user_idx, item_idx)))\n",
    "\n",
    "# Convert to CSR format for efficiency in operations\n",
    "sparse_matrix_csr_binary = sparse_matrix_binary.tocsr()"
   ]
  },
  {
   "cell_type": "markdown",
   "metadata": {},
   "source": [
    "The mappings have to be saved for future working"
   ]
  },
  {
   "cell_type": "code",
   "execution_count": 6,
   "metadata": {},
   "outputs": [
    {
     "data": {
      "text/plain": [
       "0         B00069EVOG\n",
       "1         B00Z9TLVK0\n",
       "2         B07SZJZV88\n",
       "3         B0001ZNU56\n",
       "4         B07H93H878\n",
       "             ...    \n",
       "121815    B014RXTSDK\n",
       "121816    B07JDT455V\n",
       "121817    B09XQJS4CZ\n",
       "121818    B07DGPTGNV\n",
       "121819    B00HUWCQBW\n",
       "Name: parent_asin, Length: 121820, dtype: object"
      ]
     },
     "execution_count": 6,
     "metadata": {},
     "output_type": "execute_result"
    }
   ],
   "source": [
    "item_map_series = pd.Series(reverse_item_map)\n",
    "item_map_series.name = 'parent_asin'\n",
    "\n",
    "item_map_series"
   ]
  },
  {
   "cell_type": "code",
   "execution_count": 7,
   "metadata": {},
   "outputs": [],
   "source": [
    "item_map_series.to_csv('../datasets/mappings/item_map.csv', index_label='als_id', header=True)"
   ]
  },
  {
   "cell_type": "code",
   "execution_count": 8,
   "metadata": {},
   "outputs": [],
   "source": [
    "item_map = pd.read_csv('../datasets/mappings/item_map.csv', index_col='als_id')"
   ]
  },
  {
   "cell_type": "code",
   "execution_count": 9,
   "metadata": {},
   "outputs": [
    {
     "data": {
      "text/html": [
       "<div>\n",
       "<style scoped>\n",
       "    .dataframe tbody tr th:only-of-type {\n",
       "        vertical-align: middle;\n",
       "    }\n",
       "\n",
       "    .dataframe tbody tr th {\n",
       "        vertical-align: top;\n",
       "    }\n",
       "\n",
       "    .dataframe thead th {\n",
       "        text-align: right;\n",
       "    }\n",
       "</style>\n",
       "<table border=\"1\" class=\"dataframe\">\n",
       "  <thead>\n",
       "    <tr style=\"text-align: right;\">\n",
       "      <th></th>\n",
       "      <th>parent_asin</th>\n",
       "    </tr>\n",
       "    <tr>\n",
       "      <th>als_id</th>\n",
       "      <th></th>\n",
       "    </tr>\n",
       "  </thead>\n",
       "  <tbody>\n",
       "    <tr>\n",
       "      <th>0</th>\n",
       "      <td>B00069EVOG</td>\n",
       "    </tr>\n",
       "    <tr>\n",
       "      <th>1</th>\n",
       "      <td>B00Z9TLVK0</td>\n",
       "    </tr>\n",
       "    <tr>\n",
       "      <th>2</th>\n",
       "      <td>B07SZJZV88</td>\n",
       "    </tr>\n",
       "    <tr>\n",
       "      <th>3</th>\n",
       "      <td>B0001ZNU56</td>\n",
       "    </tr>\n",
       "    <tr>\n",
       "      <th>4</th>\n",
       "      <td>B07H93H878</td>\n",
       "    </tr>\n",
       "    <tr>\n",
       "      <th>...</th>\n",
       "      <td>...</td>\n",
       "    </tr>\n",
       "    <tr>\n",
       "      <th>121815</th>\n",
       "      <td>B014RXTSDK</td>\n",
       "    </tr>\n",
       "    <tr>\n",
       "      <th>121816</th>\n",
       "      <td>B07JDT455V</td>\n",
       "    </tr>\n",
       "    <tr>\n",
       "      <th>121817</th>\n",
       "      <td>B09XQJS4CZ</td>\n",
       "    </tr>\n",
       "    <tr>\n",
       "      <th>121818</th>\n",
       "      <td>B07DGPTGNV</td>\n",
       "    </tr>\n",
       "    <tr>\n",
       "      <th>121819</th>\n",
       "      <td>B00HUWCQBW</td>\n",
       "    </tr>\n",
       "  </tbody>\n",
       "</table>\n",
       "<p>121820 rows × 1 columns</p>\n",
       "</div>"
      ],
      "text/plain": [
       "       parent_asin\n",
       "als_id            \n",
       "0       B00069EVOG\n",
       "1       B00Z9TLVK0\n",
       "2       B07SZJZV88\n",
       "3       B0001ZNU56\n",
       "4       B07H93H878\n",
       "...            ...\n",
       "121815  B014RXTSDK\n",
       "121816  B07JDT455V\n",
       "121817  B09XQJS4CZ\n",
       "121818  B07DGPTGNV\n",
       "121819  B00HUWCQBW\n",
       "\n",
       "[121820 rows x 1 columns]"
      ]
     },
     "execution_count": 9,
     "metadata": {},
     "output_type": "execute_result"
    }
   ],
   "source": [
    "item_map"
   ]
  },
  {
   "cell_type": "code",
   "execution_count": 10,
   "metadata": {},
   "outputs": [
    {
     "data": {
      "text/plain": [
       "parent_asin    B07232FS95\n",
       "Name: 440, dtype: object"
      ]
     },
     "execution_count": 10,
     "metadata": {},
     "output_type": "execute_result"
    }
   ],
   "source": [
    "item_map.loc[440]"
   ]
  },
  {
   "cell_type": "code",
   "execution_count": 11,
   "metadata": {},
   "outputs": [
    {
     "data": {
      "text/html": [
       "<div>\n",
       "<style scoped>\n",
       "    .dataframe tbody tr th:only-of-type {\n",
       "        vertical-align: middle;\n",
       "    }\n",
       "\n",
       "    .dataframe tbody tr th {\n",
       "        vertical-align: top;\n",
       "    }\n",
       "\n",
       "    .dataframe thead th {\n",
       "        text-align: right;\n",
       "    }\n",
       "</style>\n",
       "<table border=\"1\" class=\"dataframe\">\n",
       "  <thead>\n",
       "    <tr style=\"text-align: right;\">\n",
       "      <th></th>\n",
       "      <th>title</th>\n",
       "      <th>features</th>\n",
       "      <th>description</th>\n",
       "      <th>videos</th>\n",
       "      <th>details</th>\n",
       "      <th>images</th>\n",
       "      <th>parent_asin</th>\n",
       "      <th>categories</th>\n",
       "      <th>average_rating</th>\n",
       "      <th>rating_number</th>\n",
       "      <th>main_category</th>\n",
       "      <th>store</th>\n",
       "      <th>price</th>\n",
       "    </tr>\n",
       "  </thead>\n",
       "  <tbody>\n",
       "    <tr>\n",
       "      <th>440</th>\n",
       "      <td>Carrying Case for Nintendo Switch</td>\n",
       "      <td>['Excellent protection: Hard EVA shell keeps N...</td>\n",
       "      <td>[]</td>\n",
       "      <td>[]</td>\n",
       "      <td>{'Pricing': 'The strikethrough price is the Li...</td>\n",
       "      <td>[{'thumb': 'https://m.media-amazon.com/images/...</td>\n",
       "      <td>B07232FS95</td>\n",
       "      <td>['Video Games', 'Nintendo Switch', 'Accessorie...</td>\n",
       "      <td>3.2</td>\n",
       "      <td>11</td>\n",
       "      <td>Video Games</td>\n",
       "      <td>hahage</td>\n",
       "      <td>NaN</td>\n",
       "    </tr>\n",
       "  </tbody>\n",
       "</table>\n",
       "</div>"
      ],
      "text/plain": [
       "                                 title  \\\n",
       "440  Carrying Case for Nintendo Switch   \n",
       "\n",
       "                                              features description videos  \\\n",
       "440  ['Excellent protection: Hard EVA shell keeps N...          []     []   \n",
       "\n",
       "                                               details  \\\n",
       "440  {'Pricing': 'The strikethrough price is the Li...   \n",
       "\n",
       "                                                images parent_asin  \\\n",
       "440  [{'thumb': 'https://m.media-amazon.com/images/...  B07232FS95   \n",
       "\n",
       "                                            categories  average_rating  \\\n",
       "440  ['Video Games', 'Nintendo Switch', 'Accessorie...             3.2   \n",
       "\n",
       "     rating_number main_category   store price  \n",
       "440             11   Video Games  hahage   NaN  "
      ]
     },
     "execution_count": 11,
     "metadata": {},
     "output_type": "execute_result"
    }
   ],
   "source": [
    "items[items['parent_asin'] == 'B07232FS95']"
   ]
  }
 ],
 "metadata": {
  "kernelspec": {
   "display_name": "Python 3",
   "language": "python",
   "name": "python3"
  },
  "language_info": {
   "codemirror_mode": {
    "name": "ipython",
    "version": 3
   },
   "file_extension": ".py",
   "mimetype": "text/x-python",
   "name": "python",
   "nbconvert_exporter": "python",
   "pygments_lexer": "ipython3",
   "version": "3.12.6"
  }
 },
 "nbformat": 4,
 "nbformat_minor": 2
}
